{
  "cells": [
    {
      "cell_type": "code",
      "execution_count": null,
      "metadata": {
        "id": "veUoqI_btyzI"
      },
      "outputs": [],
      "source": [
        "import numpy as np\n",
        "import pandas as pd\n",
        "import matplotlib.pyplot as plt\n",
        "import seaborn as sns\n",
        "from sklearn import metrics\n",
        "import statistics  as sts\n",
        "from sklearn.model_selection import train_test_split\n",
        "from sklearn.preprocessing import StandardScaler\n",
        "from sklearn.model_selection import cross_val_score\n",
        "from sklearn.svm import SVC\n",
        "from sklearn.ensemble import RandomForestClassifier\n",
        "from sklearn.neighbors import KNeighborsClassifier\n",
        "from sklearn.metrics import accuracy_score\n",
        "from sklearn.metrics import classification_report\n",
        "from sklearn.tree import DecisionTreeClassifier\n",
        "from sklearn import tree\n",
        "from sklearn.preprocessing import LabelEncoder\n",
        "from sklearn.preprocessing import MinMaxScaler\n",
        "from sklearn.model_selection import StratifiedKFold\n",
        "from sklearn.model_selection import GridSearchCV\n",
        "from sklearn.model_selection import RandomizedSearchCV\n",
        "from imblearn.over_sampling import SMOTE\n",
        "from sklearn.metrics import confusion_matrix, ConfusionMatrixDisplay\n",
        "from sklearn.neural_network import MLPClassifier\n",
        "import tensorflow as tf"
      ]
    },
    {
      "cell_type": "code",
      "execution_count": null,
      "metadata": {
        "id": "7EqyHJ4t6127",
        "colab": {
          "base_uri": "https://localhost:8080/",
          "height": 73
        },
        "outputId": "561b8af4-bda5-4cf5-8c27-2ea473402a16"
      },
      "outputs": [
        {
          "output_type": "display_data",
          "data": {
            "text/plain": [
              "<IPython.core.display.HTML object>"
            ],
            "text/html": [
              "\n",
              "     <input type=\"file\" id=\"files-d53b14d1-122a-4068-9fa1-34630712672e\" name=\"files[]\" multiple disabled\n",
              "        style=\"border:none\" />\n",
              "     <output id=\"result-d53b14d1-122a-4068-9fa1-34630712672e\">\n",
              "      Upload widget is only available when the cell has been executed in the\n",
              "      current browser session. Please rerun this cell to enable.\n",
              "      </output>\n",
              "      <script>// Copyright 2017 Google LLC\n",
              "//\n",
              "// Licensed under the Apache License, Version 2.0 (the \"License\");\n",
              "// you may not use this file except in compliance with the License.\n",
              "// You may obtain a copy of the License at\n",
              "//\n",
              "//      http://www.apache.org/licenses/LICENSE-2.0\n",
              "//\n",
              "// Unless required by applicable law or agreed to in writing, software\n",
              "// distributed under the License is distributed on an \"AS IS\" BASIS,\n",
              "// WITHOUT WARRANTIES OR CONDITIONS OF ANY KIND, either express or implied.\n",
              "// See the License for the specific language governing permissions and\n",
              "// limitations under the License.\n",
              "\n",
              "/**\n",
              " * @fileoverview Helpers for google.colab Python module.\n",
              " */\n",
              "(function(scope) {\n",
              "function span(text, styleAttributes = {}) {\n",
              "  const element = document.createElement('span');\n",
              "  element.textContent = text;\n",
              "  for (const key of Object.keys(styleAttributes)) {\n",
              "    element.style[key] = styleAttributes[key];\n",
              "  }\n",
              "  return element;\n",
              "}\n",
              "\n",
              "// Max number of bytes which will be uploaded at a time.\n",
              "const MAX_PAYLOAD_SIZE = 100 * 1024;\n",
              "\n",
              "function _uploadFiles(inputId, outputId) {\n",
              "  const steps = uploadFilesStep(inputId, outputId);\n",
              "  const outputElement = document.getElementById(outputId);\n",
              "  // Cache steps on the outputElement to make it available for the next call\n",
              "  // to uploadFilesContinue from Python.\n",
              "  outputElement.steps = steps;\n",
              "\n",
              "  return _uploadFilesContinue(outputId);\n",
              "}\n",
              "\n",
              "// This is roughly an async generator (not supported in the browser yet),\n",
              "// where there are multiple asynchronous steps and the Python side is going\n",
              "// to poll for completion of each step.\n",
              "// This uses a Promise to block the python side on completion of each step,\n",
              "// then passes the result of the previous step as the input to the next step.\n",
              "function _uploadFilesContinue(outputId) {\n",
              "  const outputElement = document.getElementById(outputId);\n",
              "  const steps = outputElement.steps;\n",
              "\n",
              "  const next = steps.next(outputElement.lastPromiseValue);\n",
              "  return Promise.resolve(next.value.promise).then((value) => {\n",
              "    // Cache the last promise value to make it available to the next\n",
              "    // step of the generator.\n",
              "    outputElement.lastPromiseValue = value;\n",
              "    return next.value.response;\n",
              "  });\n",
              "}\n",
              "\n",
              "/**\n",
              " * Generator function which is called between each async step of the upload\n",
              " * process.\n",
              " * @param {string} inputId Element ID of the input file picker element.\n",
              " * @param {string} outputId Element ID of the output display.\n",
              " * @return {!Iterable<!Object>} Iterable of next steps.\n",
              " */\n",
              "function* uploadFilesStep(inputId, outputId) {\n",
              "  const inputElement = document.getElementById(inputId);\n",
              "  inputElement.disabled = false;\n",
              "\n",
              "  const outputElement = document.getElementById(outputId);\n",
              "  outputElement.innerHTML = '';\n",
              "\n",
              "  const pickedPromise = new Promise((resolve) => {\n",
              "    inputElement.addEventListener('change', (e) => {\n",
              "      resolve(e.target.files);\n",
              "    });\n",
              "  });\n",
              "\n",
              "  const cancel = document.createElement('button');\n",
              "  inputElement.parentElement.appendChild(cancel);\n",
              "  cancel.textContent = 'Cancel upload';\n",
              "  const cancelPromise = new Promise((resolve) => {\n",
              "    cancel.onclick = () => {\n",
              "      resolve(null);\n",
              "    };\n",
              "  });\n",
              "\n",
              "  // Wait for the user to pick the files.\n",
              "  const files = yield {\n",
              "    promise: Promise.race([pickedPromise, cancelPromise]),\n",
              "    response: {\n",
              "      action: 'starting',\n",
              "    }\n",
              "  };\n",
              "\n",
              "  cancel.remove();\n",
              "\n",
              "  // Disable the input element since further picks are not allowed.\n",
              "  inputElement.disabled = true;\n",
              "\n",
              "  if (!files) {\n",
              "    return {\n",
              "      response: {\n",
              "        action: 'complete',\n",
              "      }\n",
              "    };\n",
              "  }\n",
              "\n",
              "  for (const file of files) {\n",
              "    const li = document.createElement('li');\n",
              "    li.append(span(file.name, {fontWeight: 'bold'}));\n",
              "    li.append(span(\n",
              "        `(${file.type || 'n/a'}) - ${file.size} bytes, ` +\n",
              "        `last modified: ${\n",
              "            file.lastModifiedDate ? file.lastModifiedDate.toLocaleDateString() :\n",
              "                                    'n/a'} - `));\n",
              "    const percent = span('0% done');\n",
              "    li.appendChild(percent);\n",
              "\n",
              "    outputElement.appendChild(li);\n",
              "\n",
              "    const fileDataPromise = new Promise((resolve) => {\n",
              "      const reader = new FileReader();\n",
              "      reader.onload = (e) => {\n",
              "        resolve(e.target.result);\n",
              "      };\n",
              "      reader.readAsArrayBuffer(file);\n",
              "    });\n",
              "    // Wait for the data to be ready.\n",
              "    let fileData = yield {\n",
              "      promise: fileDataPromise,\n",
              "      response: {\n",
              "        action: 'continue',\n",
              "      }\n",
              "    };\n",
              "\n",
              "    // Use a chunked sending to avoid message size limits. See b/62115660.\n",
              "    let position = 0;\n",
              "    do {\n",
              "      const length = Math.min(fileData.byteLength - position, MAX_PAYLOAD_SIZE);\n",
              "      const chunk = new Uint8Array(fileData, position, length);\n",
              "      position += length;\n",
              "\n",
              "      const base64 = btoa(String.fromCharCode.apply(null, chunk));\n",
              "      yield {\n",
              "        response: {\n",
              "          action: 'append',\n",
              "          file: file.name,\n",
              "          data: base64,\n",
              "        },\n",
              "      };\n",
              "\n",
              "      let percentDone = fileData.byteLength === 0 ?\n",
              "          100 :\n",
              "          Math.round((position / fileData.byteLength) * 100);\n",
              "      percent.textContent = `${percentDone}% done`;\n",
              "\n",
              "    } while (position < fileData.byteLength);\n",
              "  }\n",
              "\n",
              "  // All done.\n",
              "  yield {\n",
              "    response: {\n",
              "      action: 'complete',\n",
              "    }\n",
              "  };\n",
              "}\n",
              "\n",
              "scope.google = scope.google || {};\n",
              "scope.google.colab = scope.google.colab || {};\n",
              "scope.google.colab._files = {\n",
              "  _uploadFiles,\n",
              "  _uploadFilesContinue,\n",
              "};\n",
              "})(self);\n",
              "</script> "
            ]
          },
          "metadata": {}
        },
        {
          "output_type": "stream",
          "name": "stdout",
          "text": [
            "Saving Titanic-Dataset.csv to Titanic-Dataset (1).csv\n"
          ]
        }
      ],
      "source": [
        "from google.colab import files\n",
        "uploaded = files.upload()"
      ]
    },
    {
      "cell_type": "code",
      "execution_count": null,
      "metadata": {
        "id": "lh7ZNrdatyzI",
        "colab": {
          "base_uri": "https://localhost:8080/",
          "height": 423
        },
        "outputId": "f444fd24-717d-4bc9-e6fc-57f623e34015"
      },
      "outputs": [
        {
          "output_type": "execute_result",
          "data": {
            "text/plain": [
              "     PassengerId  Survived  Pclass  \\\n",
              "0              1         0       3   \n",
              "1              2         1       1   \n",
              "2              3         1       3   \n",
              "3              4         1       1   \n",
              "4              5         0       3   \n",
              "..           ...       ...     ...   \n",
              "886          887         0       2   \n",
              "887          888         1       1   \n",
              "888          889         0       3   \n",
              "889          890         1       1   \n",
              "890          891         0       3   \n",
              "\n",
              "                                                  Name     Sex   Age  SibSp  \\\n",
              "0                              Braund, Mr. Owen Harris    male  22.0      1   \n",
              "1    Cumings, Mrs. John Bradley (Florence Briggs Th...  female  38.0      1   \n",
              "2                               Heikkinen, Miss. Laina  female  26.0      0   \n",
              "3         Futrelle, Mrs. Jacques Heath (Lily May Peel)  female  35.0      1   \n",
              "4                             Allen, Mr. William Henry    male  35.0      0   \n",
              "..                                                 ...     ...   ...    ...   \n",
              "886                              Montvila, Rev. Juozas    male  27.0      0   \n",
              "887                       Graham, Miss. Margaret Edith  female  19.0      0   \n",
              "888           Johnston, Miss. Catherine Helen \"Carrie\"  female   NaN      1   \n",
              "889                              Behr, Mr. Karl Howell    male  26.0      0   \n",
              "890                                Dooley, Mr. Patrick    male  32.0      0   \n",
              "\n",
              "     Parch            Ticket     Fare Cabin Embarked  \n",
              "0        0         A/5 21171   7.2500   NaN        S  \n",
              "1        0          PC 17599  71.2833   C85        C  \n",
              "2        0  STON/O2. 3101282   7.9250   NaN        S  \n",
              "3        0            113803  53.1000  C123        S  \n",
              "4        0            373450   8.0500   NaN        S  \n",
              "..     ...               ...      ...   ...      ...  \n",
              "886      0            211536  13.0000   NaN        S  \n",
              "887      0            112053  30.0000   B42        S  \n",
              "888      2        W./C. 6607  23.4500   NaN        S  \n",
              "889      0            111369  30.0000  C148        C  \n",
              "890      0            370376   7.7500   NaN        Q  \n",
              "\n",
              "[891 rows x 12 columns]"
            ],
            "text/html": [
              "\n",
              "  <div id=\"df-1fb236ea-d4ef-4c9d-9fb8-1e406aa66b10\">\n",
              "    <div class=\"colab-df-container\">\n",
              "      <div>\n",
              "<style scoped>\n",
              "    .dataframe tbody tr th:only-of-type {\n",
              "        vertical-align: middle;\n",
              "    }\n",
              "\n",
              "    .dataframe tbody tr th {\n",
              "        vertical-align: top;\n",
              "    }\n",
              "\n",
              "    .dataframe thead th {\n",
              "        text-align: right;\n",
              "    }\n",
              "</style>\n",
              "<table border=\"1\" class=\"dataframe\">\n",
              "  <thead>\n",
              "    <tr style=\"text-align: right;\">\n",
              "      <th></th>\n",
              "      <th>PassengerId</th>\n",
              "      <th>Survived</th>\n",
              "      <th>Pclass</th>\n",
              "      <th>Name</th>\n",
              "      <th>Sex</th>\n",
              "      <th>Age</th>\n",
              "      <th>SibSp</th>\n",
              "      <th>Parch</th>\n",
              "      <th>Ticket</th>\n",
              "      <th>Fare</th>\n",
              "      <th>Cabin</th>\n",
              "      <th>Embarked</th>\n",
              "    </tr>\n",
              "  </thead>\n",
              "  <tbody>\n",
              "    <tr>\n",
              "      <th>0</th>\n",
              "      <td>1</td>\n",
              "      <td>0</td>\n",
              "      <td>3</td>\n",
              "      <td>Braund, Mr. Owen Harris</td>\n",
              "      <td>male</td>\n",
              "      <td>22.0</td>\n",
              "      <td>1</td>\n",
              "      <td>0</td>\n",
              "      <td>A/5 21171</td>\n",
              "      <td>7.2500</td>\n",
              "      <td>NaN</td>\n",
              "      <td>S</td>\n",
              "    </tr>\n",
              "    <tr>\n",
              "      <th>1</th>\n",
              "      <td>2</td>\n",
              "      <td>1</td>\n",
              "      <td>1</td>\n",
              "      <td>Cumings, Mrs. John Bradley (Florence Briggs Th...</td>\n",
              "      <td>female</td>\n",
              "      <td>38.0</td>\n",
              "      <td>1</td>\n",
              "      <td>0</td>\n",
              "      <td>PC 17599</td>\n",
              "      <td>71.2833</td>\n",
              "      <td>C85</td>\n",
              "      <td>C</td>\n",
              "    </tr>\n",
              "    <tr>\n",
              "      <th>2</th>\n",
              "      <td>3</td>\n",
              "      <td>1</td>\n",
              "      <td>3</td>\n",
              "      <td>Heikkinen, Miss. Laina</td>\n",
              "      <td>female</td>\n",
              "      <td>26.0</td>\n",
              "      <td>0</td>\n",
              "      <td>0</td>\n",
              "      <td>STON/O2. 3101282</td>\n",
              "      <td>7.9250</td>\n",
              "      <td>NaN</td>\n",
              "      <td>S</td>\n",
              "    </tr>\n",
              "    <tr>\n",
              "      <th>3</th>\n",
              "      <td>4</td>\n",
              "      <td>1</td>\n",
              "      <td>1</td>\n",
              "      <td>Futrelle, Mrs. Jacques Heath (Lily May Peel)</td>\n",
              "      <td>female</td>\n",
              "      <td>35.0</td>\n",
              "      <td>1</td>\n",
              "      <td>0</td>\n",
              "      <td>113803</td>\n",
              "      <td>53.1000</td>\n",
              "      <td>C123</td>\n",
              "      <td>S</td>\n",
              "    </tr>\n",
              "    <tr>\n",
              "      <th>4</th>\n",
              "      <td>5</td>\n",
              "      <td>0</td>\n",
              "      <td>3</td>\n",
              "      <td>Allen, Mr. William Henry</td>\n",
              "      <td>male</td>\n",
              "      <td>35.0</td>\n",
              "      <td>0</td>\n",
              "      <td>0</td>\n",
              "      <td>373450</td>\n",
              "      <td>8.0500</td>\n",
              "      <td>NaN</td>\n",
              "      <td>S</td>\n",
              "    </tr>\n",
              "    <tr>\n",
              "      <th>...</th>\n",
              "      <td>...</td>\n",
              "      <td>...</td>\n",
              "      <td>...</td>\n",
              "      <td>...</td>\n",
              "      <td>...</td>\n",
              "      <td>...</td>\n",
              "      <td>...</td>\n",
              "      <td>...</td>\n",
              "      <td>...</td>\n",
              "      <td>...</td>\n",
              "      <td>...</td>\n",
              "      <td>...</td>\n",
              "    </tr>\n",
              "    <tr>\n",
              "      <th>886</th>\n",
              "      <td>887</td>\n",
              "      <td>0</td>\n",
              "      <td>2</td>\n",
              "      <td>Montvila, Rev. Juozas</td>\n",
              "      <td>male</td>\n",
              "      <td>27.0</td>\n",
              "      <td>0</td>\n",
              "      <td>0</td>\n",
              "      <td>211536</td>\n",
              "      <td>13.0000</td>\n",
              "      <td>NaN</td>\n",
              "      <td>S</td>\n",
              "    </tr>\n",
              "    <tr>\n",
              "      <th>887</th>\n",
              "      <td>888</td>\n",
              "      <td>1</td>\n",
              "      <td>1</td>\n",
              "      <td>Graham, Miss. Margaret Edith</td>\n",
              "      <td>female</td>\n",
              "      <td>19.0</td>\n",
              "      <td>0</td>\n",
              "      <td>0</td>\n",
              "      <td>112053</td>\n",
              "      <td>30.0000</td>\n",
              "      <td>B42</td>\n",
              "      <td>S</td>\n",
              "    </tr>\n",
              "    <tr>\n",
              "      <th>888</th>\n",
              "      <td>889</td>\n",
              "      <td>0</td>\n",
              "      <td>3</td>\n",
              "      <td>Johnston, Miss. Catherine Helen \"Carrie\"</td>\n",
              "      <td>female</td>\n",
              "      <td>NaN</td>\n",
              "      <td>1</td>\n",
              "      <td>2</td>\n",
              "      <td>W./C. 6607</td>\n",
              "      <td>23.4500</td>\n",
              "      <td>NaN</td>\n",
              "      <td>S</td>\n",
              "    </tr>\n",
              "    <tr>\n",
              "      <th>889</th>\n",
              "      <td>890</td>\n",
              "      <td>1</td>\n",
              "      <td>1</td>\n",
              "      <td>Behr, Mr. Karl Howell</td>\n",
              "      <td>male</td>\n",
              "      <td>26.0</td>\n",
              "      <td>0</td>\n",
              "      <td>0</td>\n",
              "      <td>111369</td>\n",
              "      <td>30.0000</td>\n",
              "      <td>C148</td>\n",
              "      <td>C</td>\n",
              "    </tr>\n",
              "    <tr>\n",
              "      <th>890</th>\n",
              "      <td>891</td>\n",
              "      <td>0</td>\n",
              "      <td>3</td>\n",
              "      <td>Dooley, Mr. Patrick</td>\n",
              "      <td>male</td>\n",
              "      <td>32.0</td>\n",
              "      <td>0</td>\n",
              "      <td>0</td>\n",
              "      <td>370376</td>\n",
              "      <td>7.7500</td>\n",
              "      <td>NaN</td>\n",
              "      <td>Q</td>\n",
              "    </tr>\n",
              "  </tbody>\n",
              "</table>\n",
              "<p>891 rows × 12 columns</p>\n",
              "</div>\n",
              "      <button class=\"colab-df-convert\" onclick=\"convertToInteractive('df-1fb236ea-d4ef-4c9d-9fb8-1e406aa66b10')\"\n",
              "              title=\"Convert this dataframe to an interactive table.\"\n",
              "              style=\"display:none;\">\n",
              "        \n",
              "  <svg xmlns=\"http://www.w3.org/2000/svg\" height=\"24px\"viewBox=\"0 0 24 24\"\n",
              "       width=\"24px\">\n",
              "    <path d=\"M0 0h24v24H0V0z\" fill=\"none\"/>\n",
              "    <path d=\"M18.56 5.44l.94 2.06.94-2.06 2.06-.94-2.06-.94-.94-2.06-.94 2.06-2.06.94zm-11 1L8.5 8.5l.94-2.06 2.06-.94-2.06-.94L8.5 2.5l-.94 2.06-2.06.94zm10 10l.94 2.06.94-2.06 2.06-.94-2.06-.94-.94-2.06-.94 2.06-2.06.94z\"/><path d=\"M17.41 7.96l-1.37-1.37c-.4-.4-.92-.59-1.43-.59-.52 0-1.04.2-1.43.59L10.3 9.45l-7.72 7.72c-.78.78-.78 2.05 0 2.83L4 21.41c.39.39.9.59 1.41.59.51 0 1.02-.2 1.41-.59l7.78-7.78 2.81-2.81c.8-.78.8-2.07 0-2.86zM5.41 20L4 18.59l7.72-7.72 1.47 1.35L5.41 20z\"/>\n",
              "  </svg>\n",
              "      </button>\n",
              "      \n",
              "  <style>\n",
              "    .colab-df-container {\n",
              "      display:flex;\n",
              "      flex-wrap:wrap;\n",
              "      gap: 12px;\n",
              "    }\n",
              "\n",
              "    .colab-df-convert {\n",
              "      background-color: #E8F0FE;\n",
              "      border: none;\n",
              "      border-radius: 50%;\n",
              "      cursor: pointer;\n",
              "      display: none;\n",
              "      fill: #1967D2;\n",
              "      height: 32px;\n",
              "      padding: 0 0 0 0;\n",
              "      width: 32px;\n",
              "    }\n",
              "\n",
              "    .colab-df-convert:hover {\n",
              "      background-color: #E2EBFA;\n",
              "      box-shadow: 0px 1px 2px rgba(60, 64, 67, 0.3), 0px 1px 3px 1px rgba(60, 64, 67, 0.15);\n",
              "      fill: #174EA6;\n",
              "    }\n",
              "\n",
              "    [theme=dark] .colab-df-convert {\n",
              "      background-color: #3B4455;\n",
              "      fill: #D2E3FC;\n",
              "    }\n",
              "\n",
              "    [theme=dark] .colab-df-convert:hover {\n",
              "      background-color: #434B5C;\n",
              "      box-shadow: 0px 1px 3px 1px rgba(0, 0, 0, 0.15);\n",
              "      filter: drop-shadow(0px 1px 2px rgba(0, 0, 0, 0.3));\n",
              "      fill: #FFFFFF;\n",
              "    }\n",
              "  </style>\n",
              "\n",
              "      <script>\n",
              "        const buttonEl =\n",
              "          document.querySelector('#df-1fb236ea-d4ef-4c9d-9fb8-1e406aa66b10 button.colab-df-convert');\n",
              "        buttonEl.style.display =\n",
              "          google.colab.kernel.accessAllowed ? 'block' : 'none';\n",
              "\n",
              "        async function convertToInteractive(key) {\n",
              "          const element = document.querySelector('#df-1fb236ea-d4ef-4c9d-9fb8-1e406aa66b10');\n",
              "          const dataTable =\n",
              "            await google.colab.kernel.invokeFunction('convertToInteractive',\n",
              "                                                     [key], {});\n",
              "          if (!dataTable) return;\n",
              "\n",
              "          const docLinkHtml = 'Like what you see? Visit the ' +\n",
              "            '<a target=\"_blank\" href=https://colab.research.google.com/notebooks/data_table.ipynb>data table notebook</a>'\n",
              "            + ' to learn more about interactive tables.';\n",
              "          element.innerHTML = '';\n",
              "          dataTable['output_type'] = 'display_data';\n",
              "          await google.colab.output.renderOutput(dataTable, element);\n",
              "          const docLink = document.createElement('div');\n",
              "          docLink.innerHTML = docLinkHtml;\n",
              "          element.appendChild(docLink);\n",
              "        }\n",
              "      </script>\n",
              "    </div>\n",
              "  </div>\n",
              "  "
            ]
          },
          "metadata": {},
          "execution_count": 3
        }
      ],
      "source": [
        "df = pd.read_csv('Titanic-Dataset.csv')\n",
        "df"
      ]
    },
    {
      "cell_type": "markdown",
      "metadata": {
        "id": "WC00H8hItyzK"
      },
      "source": [
        "## Resumo geral da base de dados"
      ]
    },
    {
      "cell_type": "code",
      "execution_count": null,
      "metadata": {
        "id": "ZDzfcA6PtyzL",
        "colab": {
          "base_uri": "https://localhost:8080/"
        },
        "outputId": "7183f846-1509-4414-d5f9-363d6f5d928e"
      },
      "outputs": [
        {
          "output_type": "stream",
          "name": "stdout",
          "text": [
            "Linhas:  891\n",
            "Colunas:  12\n",
            "\n",
            "Atributos : \n",
            " ['PassengerId', 'Survived', 'Pclass', 'Name', 'Sex', 'Age', 'SibSp', 'Parch', 'Ticket', 'Fare', 'Cabin', 'Embarked']\n",
            "\n",
            "Valores faltantes :   866\n",
            "\n",
            "Valores únicos :  \n",
            " PassengerId    891\n",
            "Survived         2\n",
            "Pclass           3\n",
            "Name           891\n",
            "Sex              2\n",
            "Age             88\n",
            "SibSp            7\n",
            "Parch            7\n",
            "Ticket         681\n",
            "Fare           248\n",
            "Cabin          147\n",
            "Embarked         3\n",
            "dtype: int64\n"
          ]
        }
      ],
      "source": [
        "print (\"Linhas: \" , df.shape[0])\n",
        "print (\"Colunas: \" , df.shape[1])\n",
        "print (\"\\nAtributos : \\n\" , df.columns.tolist())\n",
        "print (\"\\nValores faltantes :  \", df.isnull().sum().values.sum())\n",
        "print (\"\\nValores únicos :  \\n\",df.nunique())"
      ]
    },
    {
      "cell_type": "markdown",
      "metadata": {
        "id": "QY3yTsWptyzL"
      },
      "source": [
        "## Pré-processamento"
      ]
    },
    {
      "cell_type": "markdown",
      "metadata": {
        "id": "_vkNCzAatyzL"
      },
      "source": [
        "### Remoção ID, nome e ticket e verificação de dados faltantes"
      ]
    },
    {
      "cell_type": "code",
      "execution_count": null,
      "metadata": {
        "id": "8F7TDZBotyzL"
      },
      "outputs": [],
      "source": [
        "df = df.drop(['PassengerId','Name', 'Ticket'],axis=1)\n",
        "df2 = df.drop(['Cabin'],axis=1)"
      ]
    },
    {
      "cell_type": "code",
      "execution_count": null,
      "metadata": {
        "id": "uNtgVs6etyzL",
        "colab": {
          "base_uri": "https://localhost:8080/"
        },
        "outputId": "26bed2b0-dd36-43c1-feae-34569484d76b"
      },
      "outputs": [
        {
          "output_type": "execute_result",
          "data": {
            "text/plain": [
              "Survived      0\n",
              "Pclass        0\n",
              "Sex           0\n",
              "Age         177\n",
              "SibSp         0\n",
              "Parch         0\n",
              "Fare          0\n",
              "Cabin       687\n",
              "Embarked      2\n",
              "dtype: int64"
            ]
          },
          "metadata": {},
          "execution_count": 6
        }
      ],
      "source": [
        "# Verifica a quantidade de dados faltrantes\n",
        "# df[df.isnull().any(axis=1)]\n",
        "df.isna().sum()\n"
      ]
    },
    {
      "cell_type": "markdown",
      "metadata": {
        "id": "aWVquZILtyzM"
      },
      "source": [
        "### Encoding Categorical Features"
      ]
    },
    {
      "cell_type": "markdown",
      "metadata": {
        "id": "WqDtWAuRtyzN"
      },
      "source": [
        "* LabelEncoder (apenas dois valores)"
      ]
    },
    {
      "cell_type": "code",
      "execution_count": null,
      "metadata": {
        "id": "puzwFlBZtyzN"
      },
      "outputs": [],
      "source": [
        "from sklearn.preprocessing import LabelEncoder\n",
        "\n",
        "le = LabelEncoder()\n",
        "\n",
        "df['Sex'] = le.fit_transform(df['Sex'])\n",
        "df['Embarked'] = le.fit_transform(df['Embarked'])\n",
        "df2['Sex'] = le.fit_transform(df2['Sex'])\n",
        "df2['Embarked'] = le.fit_transform(df2['Embarked'])"
      ]
    },
    {
      "cell_type": "markdown",
      "metadata": {
        "id": "M7IdVmzityzN"
      },
      "source": [
        "* Atributos com mais de dois valores"
      ]
    },
    {
      "cell_type": "code",
      "execution_count": null,
      "metadata": {
        "id": "tRpYqhmatyzO"
      },
      "outputs": [],
      "source": [
        "df = pd.get_dummies(data=df, columns=['Cabin'])\n",
        "df = pd.get_dummies(data=df, columns=['Age'])\n",
        "df2 = pd.get_dummies(data=df2, columns=['Age'])"
      ]
    },
    {
      "cell_type": "code",
      "execution_count": null,
      "metadata": {
        "id": "qtLcrtW7tyzO",
        "colab": {
          "base_uri": "https://localhost:8080/"
        },
        "outputId": "01f778c9-5019-447e-b966-5f807be488b2"
      },
      "outputs": [
        {
          "output_type": "execute_result",
          "data": {
            "text/plain": [
              "Index(['Survived', 'Pclass', 'Sex', 'SibSp', 'Parch', 'Fare', 'Embarked',\n",
              "       'Cabin_A10', 'Cabin_A14', 'Cabin_A16',\n",
              "       ...\n",
              "       'Age_62.0', 'Age_63.0', 'Age_64.0', 'Age_65.0', 'Age_66.0', 'Age_70.0',\n",
              "       'Age_70.5', 'Age_71.0', 'Age_74.0', 'Age_80.0'],\n",
              "      dtype='object', length=242)"
            ]
          },
          "metadata": {},
          "execution_count": 9
        }
      ],
      "source": [
        "df.columns"
      ]
    },
    {
      "cell_type": "code",
      "execution_count": null,
      "metadata": {
        "id": "aBa0fD7awS4s",
        "colab": {
          "base_uri": "https://localhost:8080/",
          "height": 487
        },
        "outputId": "4c7c4b15-7a58-4b47-c97f-6170e5fe576c"
      },
      "outputs": [
        {
          "output_type": "execute_result",
          "data": {
            "text/plain": [
              "     Survived  Pclass  Sex  SibSp  Parch     Fare  Embarked  Cabin_A10  \\\n",
              "0           0       3    1      1      0   7.2500         2          0   \n",
              "1           1       1    0      1      0  71.2833         0          0   \n",
              "2           1       3    0      0      0   7.9250         2          0   \n",
              "3           1       1    0      1      0  53.1000         2          0   \n",
              "4           0       3    1      0      0   8.0500         2          0   \n",
              "..        ...     ...  ...    ...    ...      ...       ...        ...   \n",
              "886         0       2    1      0      0  13.0000         2          0   \n",
              "887         1       1    0      0      0  30.0000         2          0   \n",
              "888         0       3    0      1      2  23.4500         2          0   \n",
              "889         1       1    1      0      0  30.0000         0          0   \n",
              "890         0       3    1      0      0   7.7500         1          0   \n",
              "\n",
              "     Cabin_A14  Cabin_A16  ...  Age_62.0  Age_63.0  Age_64.0  Age_65.0  \\\n",
              "0            0          0  ...         0         0         0         0   \n",
              "1            0          0  ...         0         0         0         0   \n",
              "2            0          0  ...         0         0         0         0   \n",
              "3            0          0  ...         0         0         0         0   \n",
              "4            0          0  ...         0         0         0         0   \n",
              "..         ...        ...  ...       ...       ...       ...       ...   \n",
              "886          0          0  ...         0         0         0         0   \n",
              "887          0          0  ...         0         0         0         0   \n",
              "888          0          0  ...         0         0         0         0   \n",
              "889          0          0  ...         0         0         0         0   \n",
              "890          0          0  ...         0         0         0         0   \n",
              "\n",
              "     Age_66.0  Age_70.0  Age_70.5  Age_71.0  Age_74.0  Age_80.0  \n",
              "0           0         0         0         0         0         0  \n",
              "1           0         0         0         0         0         0  \n",
              "2           0         0         0         0         0         0  \n",
              "3           0         0         0         0         0         0  \n",
              "4           0         0         0         0         0         0  \n",
              "..        ...       ...       ...       ...       ...       ...  \n",
              "886         0         0         0         0         0         0  \n",
              "887         0         0         0         0         0         0  \n",
              "888         0         0         0         0         0         0  \n",
              "889         0         0         0         0         0         0  \n",
              "890         0         0         0         0         0         0  \n",
              "\n",
              "[891 rows x 242 columns]"
            ],
            "text/html": [
              "\n",
              "  <div id=\"df-ed3a0125-5d26-45f1-ad3e-be8c8d73e34c\">\n",
              "    <div class=\"colab-df-container\">\n",
              "      <div>\n",
              "<style scoped>\n",
              "    .dataframe tbody tr th:only-of-type {\n",
              "        vertical-align: middle;\n",
              "    }\n",
              "\n",
              "    .dataframe tbody tr th {\n",
              "        vertical-align: top;\n",
              "    }\n",
              "\n",
              "    .dataframe thead th {\n",
              "        text-align: right;\n",
              "    }\n",
              "</style>\n",
              "<table border=\"1\" class=\"dataframe\">\n",
              "  <thead>\n",
              "    <tr style=\"text-align: right;\">\n",
              "      <th></th>\n",
              "      <th>Survived</th>\n",
              "      <th>Pclass</th>\n",
              "      <th>Sex</th>\n",
              "      <th>SibSp</th>\n",
              "      <th>Parch</th>\n",
              "      <th>Fare</th>\n",
              "      <th>Embarked</th>\n",
              "      <th>Cabin_A10</th>\n",
              "      <th>Cabin_A14</th>\n",
              "      <th>Cabin_A16</th>\n",
              "      <th>...</th>\n",
              "      <th>Age_62.0</th>\n",
              "      <th>Age_63.0</th>\n",
              "      <th>Age_64.0</th>\n",
              "      <th>Age_65.0</th>\n",
              "      <th>Age_66.0</th>\n",
              "      <th>Age_70.0</th>\n",
              "      <th>Age_70.5</th>\n",
              "      <th>Age_71.0</th>\n",
              "      <th>Age_74.0</th>\n",
              "      <th>Age_80.0</th>\n",
              "    </tr>\n",
              "  </thead>\n",
              "  <tbody>\n",
              "    <tr>\n",
              "      <th>0</th>\n",
              "      <td>0</td>\n",
              "      <td>3</td>\n",
              "      <td>1</td>\n",
              "      <td>1</td>\n",
              "      <td>0</td>\n",
              "      <td>7.2500</td>\n",
              "      <td>2</td>\n",
              "      <td>0</td>\n",
              "      <td>0</td>\n",
              "      <td>0</td>\n",
              "      <td>...</td>\n",
              "      <td>0</td>\n",
              "      <td>0</td>\n",
              "      <td>0</td>\n",
              "      <td>0</td>\n",
              "      <td>0</td>\n",
              "      <td>0</td>\n",
              "      <td>0</td>\n",
              "      <td>0</td>\n",
              "      <td>0</td>\n",
              "      <td>0</td>\n",
              "    </tr>\n",
              "    <tr>\n",
              "      <th>1</th>\n",
              "      <td>1</td>\n",
              "      <td>1</td>\n",
              "      <td>0</td>\n",
              "      <td>1</td>\n",
              "      <td>0</td>\n",
              "      <td>71.2833</td>\n",
              "      <td>0</td>\n",
              "      <td>0</td>\n",
              "      <td>0</td>\n",
              "      <td>0</td>\n",
              "      <td>...</td>\n",
              "      <td>0</td>\n",
              "      <td>0</td>\n",
              "      <td>0</td>\n",
              "      <td>0</td>\n",
              "      <td>0</td>\n",
              "      <td>0</td>\n",
              "      <td>0</td>\n",
              "      <td>0</td>\n",
              "      <td>0</td>\n",
              "      <td>0</td>\n",
              "    </tr>\n",
              "    <tr>\n",
              "      <th>2</th>\n",
              "      <td>1</td>\n",
              "      <td>3</td>\n",
              "      <td>0</td>\n",
              "      <td>0</td>\n",
              "      <td>0</td>\n",
              "      <td>7.9250</td>\n",
              "      <td>2</td>\n",
              "      <td>0</td>\n",
              "      <td>0</td>\n",
              "      <td>0</td>\n",
              "      <td>...</td>\n",
              "      <td>0</td>\n",
              "      <td>0</td>\n",
              "      <td>0</td>\n",
              "      <td>0</td>\n",
              "      <td>0</td>\n",
              "      <td>0</td>\n",
              "      <td>0</td>\n",
              "      <td>0</td>\n",
              "      <td>0</td>\n",
              "      <td>0</td>\n",
              "    </tr>\n",
              "    <tr>\n",
              "      <th>3</th>\n",
              "      <td>1</td>\n",
              "      <td>1</td>\n",
              "      <td>0</td>\n",
              "      <td>1</td>\n",
              "      <td>0</td>\n",
              "      <td>53.1000</td>\n",
              "      <td>2</td>\n",
              "      <td>0</td>\n",
              "      <td>0</td>\n",
              "      <td>0</td>\n",
              "      <td>...</td>\n",
              "      <td>0</td>\n",
              "      <td>0</td>\n",
              "      <td>0</td>\n",
              "      <td>0</td>\n",
              "      <td>0</td>\n",
              "      <td>0</td>\n",
              "      <td>0</td>\n",
              "      <td>0</td>\n",
              "      <td>0</td>\n",
              "      <td>0</td>\n",
              "    </tr>\n",
              "    <tr>\n",
              "      <th>4</th>\n",
              "      <td>0</td>\n",
              "      <td>3</td>\n",
              "      <td>1</td>\n",
              "      <td>0</td>\n",
              "      <td>0</td>\n",
              "      <td>8.0500</td>\n",
              "      <td>2</td>\n",
              "      <td>0</td>\n",
              "      <td>0</td>\n",
              "      <td>0</td>\n",
              "      <td>...</td>\n",
              "      <td>0</td>\n",
              "      <td>0</td>\n",
              "      <td>0</td>\n",
              "      <td>0</td>\n",
              "      <td>0</td>\n",
              "      <td>0</td>\n",
              "      <td>0</td>\n",
              "      <td>0</td>\n",
              "      <td>0</td>\n",
              "      <td>0</td>\n",
              "    </tr>\n",
              "    <tr>\n",
              "      <th>...</th>\n",
              "      <td>...</td>\n",
              "      <td>...</td>\n",
              "      <td>...</td>\n",
              "      <td>...</td>\n",
              "      <td>...</td>\n",
              "      <td>...</td>\n",
              "      <td>...</td>\n",
              "      <td>...</td>\n",
              "      <td>...</td>\n",
              "      <td>...</td>\n",
              "      <td>...</td>\n",
              "      <td>...</td>\n",
              "      <td>...</td>\n",
              "      <td>...</td>\n",
              "      <td>...</td>\n",
              "      <td>...</td>\n",
              "      <td>...</td>\n",
              "      <td>...</td>\n",
              "      <td>...</td>\n",
              "      <td>...</td>\n",
              "      <td>...</td>\n",
              "    </tr>\n",
              "    <tr>\n",
              "      <th>886</th>\n",
              "      <td>0</td>\n",
              "      <td>2</td>\n",
              "      <td>1</td>\n",
              "      <td>0</td>\n",
              "      <td>0</td>\n",
              "      <td>13.0000</td>\n",
              "      <td>2</td>\n",
              "      <td>0</td>\n",
              "      <td>0</td>\n",
              "      <td>0</td>\n",
              "      <td>...</td>\n",
              "      <td>0</td>\n",
              "      <td>0</td>\n",
              "      <td>0</td>\n",
              "      <td>0</td>\n",
              "      <td>0</td>\n",
              "      <td>0</td>\n",
              "      <td>0</td>\n",
              "      <td>0</td>\n",
              "      <td>0</td>\n",
              "      <td>0</td>\n",
              "    </tr>\n",
              "    <tr>\n",
              "      <th>887</th>\n",
              "      <td>1</td>\n",
              "      <td>1</td>\n",
              "      <td>0</td>\n",
              "      <td>0</td>\n",
              "      <td>0</td>\n",
              "      <td>30.0000</td>\n",
              "      <td>2</td>\n",
              "      <td>0</td>\n",
              "      <td>0</td>\n",
              "      <td>0</td>\n",
              "      <td>...</td>\n",
              "      <td>0</td>\n",
              "      <td>0</td>\n",
              "      <td>0</td>\n",
              "      <td>0</td>\n",
              "      <td>0</td>\n",
              "      <td>0</td>\n",
              "      <td>0</td>\n",
              "      <td>0</td>\n",
              "      <td>0</td>\n",
              "      <td>0</td>\n",
              "    </tr>\n",
              "    <tr>\n",
              "      <th>888</th>\n",
              "      <td>0</td>\n",
              "      <td>3</td>\n",
              "      <td>0</td>\n",
              "      <td>1</td>\n",
              "      <td>2</td>\n",
              "      <td>23.4500</td>\n",
              "      <td>2</td>\n",
              "      <td>0</td>\n",
              "      <td>0</td>\n",
              "      <td>0</td>\n",
              "      <td>...</td>\n",
              "      <td>0</td>\n",
              "      <td>0</td>\n",
              "      <td>0</td>\n",
              "      <td>0</td>\n",
              "      <td>0</td>\n",
              "      <td>0</td>\n",
              "      <td>0</td>\n",
              "      <td>0</td>\n",
              "      <td>0</td>\n",
              "      <td>0</td>\n",
              "    </tr>\n",
              "    <tr>\n",
              "      <th>889</th>\n",
              "      <td>1</td>\n",
              "      <td>1</td>\n",
              "      <td>1</td>\n",
              "      <td>0</td>\n",
              "      <td>0</td>\n",
              "      <td>30.0000</td>\n",
              "      <td>0</td>\n",
              "      <td>0</td>\n",
              "      <td>0</td>\n",
              "      <td>0</td>\n",
              "      <td>...</td>\n",
              "      <td>0</td>\n",
              "      <td>0</td>\n",
              "      <td>0</td>\n",
              "      <td>0</td>\n",
              "      <td>0</td>\n",
              "      <td>0</td>\n",
              "      <td>0</td>\n",
              "      <td>0</td>\n",
              "      <td>0</td>\n",
              "      <td>0</td>\n",
              "    </tr>\n",
              "    <tr>\n",
              "      <th>890</th>\n",
              "      <td>0</td>\n",
              "      <td>3</td>\n",
              "      <td>1</td>\n",
              "      <td>0</td>\n",
              "      <td>0</td>\n",
              "      <td>7.7500</td>\n",
              "      <td>1</td>\n",
              "      <td>0</td>\n",
              "      <td>0</td>\n",
              "      <td>0</td>\n",
              "      <td>...</td>\n",
              "      <td>0</td>\n",
              "      <td>0</td>\n",
              "      <td>0</td>\n",
              "      <td>0</td>\n",
              "      <td>0</td>\n",
              "      <td>0</td>\n",
              "      <td>0</td>\n",
              "      <td>0</td>\n",
              "      <td>0</td>\n",
              "      <td>0</td>\n",
              "    </tr>\n",
              "  </tbody>\n",
              "</table>\n",
              "<p>891 rows × 242 columns</p>\n",
              "</div>\n",
              "      <button class=\"colab-df-convert\" onclick=\"convertToInteractive('df-ed3a0125-5d26-45f1-ad3e-be8c8d73e34c')\"\n",
              "              title=\"Convert this dataframe to an interactive table.\"\n",
              "              style=\"display:none;\">\n",
              "        \n",
              "  <svg xmlns=\"http://www.w3.org/2000/svg\" height=\"24px\"viewBox=\"0 0 24 24\"\n",
              "       width=\"24px\">\n",
              "    <path d=\"M0 0h24v24H0V0z\" fill=\"none\"/>\n",
              "    <path d=\"M18.56 5.44l.94 2.06.94-2.06 2.06-.94-2.06-.94-.94-2.06-.94 2.06-2.06.94zm-11 1L8.5 8.5l.94-2.06 2.06-.94-2.06-.94L8.5 2.5l-.94 2.06-2.06.94zm10 10l.94 2.06.94-2.06 2.06-.94-2.06-.94-.94-2.06-.94 2.06-2.06.94z\"/><path d=\"M17.41 7.96l-1.37-1.37c-.4-.4-.92-.59-1.43-.59-.52 0-1.04.2-1.43.59L10.3 9.45l-7.72 7.72c-.78.78-.78 2.05 0 2.83L4 21.41c.39.39.9.59 1.41.59.51 0 1.02-.2 1.41-.59l7.78-7.78 2.81-2.81c.8-.78.8-2.07 0-2.86zM5.41 20L4 18.59l7.72-7.72 1.47 1.35L5.41 20z\"/>\n",
              "  </svg>\n",
              "      </button>\n",
              "      \n",
              "  <style>\n",
              "    .colab-df-container {\n",
              "      display:flex;\n",
              "      flex-wrap:wrap;\n",
              "      gap: 12px;\n",
              "    }\n",
              "\n",
              "    .colab-df-convert {\n",
              "      background-color: #E8F0FE;\n",
              "      border: none;\n",
              "      border-radius: 50%;\n",
              "      cursor: pointer;\n",
              "      display: none;\n",
              "      fill: #1967D2;\n",
              "      height: 32px;\n",
              "      padding: 0 0 0 0;\n",
              "      width: 32px;\n",
              "    }\n",
              "\n",
              "    .colab-df-convert:hover {\n",
              "      background-color: #E2EBFA;\n",
              "      box-shadow: 0px 1px 2px rgba(60, 64, 67, 0.3), 0px 1px 3px 1px rgba(60, 64, 67, 0.15);\n",
              "      fill: #174EA6;\n",
              "    }\n",
              "\n",
              "    [theme=dark] .colab-df-convert {\n",
              "      background-color: #3B4455;\n",
              "      fill: #D2E3FC;\n",
              "    }\n",
              "\n",
              "    [theme=dark] .colab-df-convert:hover {\n",
              "      background-color: #434B5C;\n",
              "      box-shadow: 0px 1px 3px 1px rgba(0, 0, 0, 0.15);\n",
              "      filter: drop-shadow(0px 1px 2px rgba(0, 0, 0, 0.3));\n",
              "      fill: #FFFFFF;\n",
              "    }\n",
              "  </style>\n",
              "\n",
              "      <script>\n",
              "        const buttonEl =\n",
              "          document.querySelector('#df-ed3a0125-5d26-45f1-ad3e-be8c8d73e34c button.colab-df-convert');\n",
              "        buttonEl.style.display =\n",
              "          google.colab.kernel.accessAllowed ? 'block' : 'none';\n",
              "\n",
              "        async function convertToInteractive(key) {\n",
              "          const element = document.querySelector('#df-ed3a0125-5d26-45f1-ad3e-be8c8d73e34c');\n",
              "          const dataTable =\n",
              "            await google.colab.kernel.invokeFunction('convertToInteractive',\n",
              "                                                     [key], {});\n",
              "          if (!dataTable) return;\n",
              "\n",
              "          const docLinkHtml = 'Like what you see? Visit the ' +\n",
              "            '<a target=\"_blank\" href=https://colab.research.google.com/notebooks/data_table.ipynb>data table notebook</a>'\n",
              "            + ' to learn more about interactive tables.';\n",
              "          element.innerHTML = '';\n",
              "          dataTable['output_type'] = 'display_data';\n",
              "          await google.colab.output.renderOutput(dataTable, element);\n",
              "          const docLink = document.createElement('div');\n",
              "          docLink.innerHTML = docLinkHtml;\n",
              "          element.appendChild(docLink);\n",
              "        }\n",
              "      </script>\n",
              "    </div>\n",
              "  </div>\n",
              "  "
            ]
          },
          "metadata": {},
          "execution_count": 10
        }
      ],
      "source": [
        "df"
      ]
    },
    {
      "cell_type": "markdown",
      "metadata": {
        "id": "KEC1nss4tyzO"
      },
      "source": [
        "### Normalização dos dados"
      ]
    },
    {
      "cell_type": "code",
      "execution_count": null,
      "metadata": {
        "id": "3MmSuLnZtyzO"
      },
      "outputs": [],
      "source": [
        "std=StandardScaler()\n",
        "columns = ['Fare']\n",
        "scaled = std.fit_transform(df[['Fare']])\n",
        "scaled = pd.DataFrame(scaled,columns=columns)\n",
        "df=df.drop(columns=columns,axis=1)"
      ]
    },
    {
      "cell_type": "code",
      "execution_count": null,
      "metadata": {
        "id": "AO5eGWIFtyzP",
        "colab": {
          "base_uri": "https://localhost:8080/",
          "height": 487
        },
        "outputId": "118b0203-2295-4922-fafe-8e171210608b"
      },
      "outputs": [
        {
          "output_type": "execute_result",
          "data": {
            "text/plain": [
              "     Survived  Pclass  Sex  SibSp  Parch  Embarked  Cabin_A10  Cabin_A14  \\\n",
              "0           0       3    1      1      0         2          0          0   \n",
              "1           1       1    0      1      0         0          0          0   \n",
              "2           1       3    0      0      0         2          0          0   \n",
              "3           1       1    0      1      0         2          0          0   \n",
              "4           0       3    1      0      0         2          0          0   \n",
              "..        ...     ...  ...    ...    ...       ...        ...        ...   \n",
              "886         0       2    1      0      0         2          0          0   \n",
              "887         1       1    0      0      0         2          0          0   \n",
              "888         0       3    0      1      2         2          0          0   \n",
              "889         1       1    1      0      0         0          0          0   \n",
              "890         0       3    1      0      0         1          0          0   \n",
              "\n",
              "     Cabin_A16  Cabin_A19  ...  Age_63.0  Age_64.0  Age_65.0  Age_66.0  \\\n",
              "0            0          0  ...         0         0         0         0   \n",
              "1            0          0  ...         0         0         0         0   \n",
              "2            0          0  ...         0         0         0         0   \n",
              "3            0          0  ...         0         0         0         0   \n",
              "4            0          0  ...         0         0         0         0   \n",
              "..         ...        ...  ...       ...       ...       ...       ...   \n",
              "886          0          0  ...         0         0         0         0   \n",
              "887          0          0  ...         0         0         0         0   \n",
              "888          0          0  ...         0         0         0         0   \n",
              "889          0          0  ...         0         0         0         0   \n",
              "890          0          0  ...         0         0         0         0   \n",
              "\n",
              "     Age_70.0  Age_70.5  Age_71.0  Age_74.0  Age_80.0      Fare  \n",
              "0           0         0         0         0         0 -0.502445  \n",
              "1           0         0         0         0         0  0.786845  \n",
              "2           0         0         0         0         0 -0.488854  \n",
              "3           0         0         0         0         0  0.420730  \n",
              "4           0         0         0         0         0 -0.486337  \n",
              "..        ...       ...       ...       ...       ...       ...  \n",
              "886         0         0         0         0         0 -0.386671  \n",
              "887         0         0         0         0         0 -0.044381  \n",
              "888         0         0         0         0         0 -0.176263  \n",
              "889         0         0         0         0         0 -0.044381  \n",
              "890         0         0         0         0         0 -0.492378  \n",
              "\n",
              "[891 rows x 242 columns]"
            ],
            "text/html": [
              "\n",
              "  <div id=\"df-3c056994-18cd-405b-b2ba-f6e2ea9a0ebb\">\n",
              "    <div class=\"colab-df-container\">\n",
              "      <div>\n",
              "<style scoped>\n",
              "    .dataframe tbody tr th:only-of-type {\n",
              "        vertical-align: middle;\n",
              "    }\n",
              "\n",
              "    .dataframe tbody tr th {\n",
              "        vertical-align: top;\n",
              "    }\n",
              "\n",
              "    .dataframe thead th {\n",
              "        text-align: right;\n",
              "    }\n",
              "</style>\n",
              "<table border=\"1\" class=\"dataframe\">\n",
              "  <thead>\n",
              "    <tr style=\"text-align: right;\">\n",
              "      <th></th>\n",
              "      <th>Survived</th>\n",
              "      <th>Pclass</th>\n",
              "      <th>Sex</th>\n",
              "      <th>SibSp</th>\n",
              "      <th>Parch</th>\n",
              "      <th>Embarked</th>\n",
              "      <th>Cabin_A10</th>\n",
              "      <th>Cabin_A14</th>\n",
              "      <th>Cabin_A16</th>\n",
              "      <th>Cabin_A19</th>\n",
              "      <th>...</th>\n",
              "      <th>Age_63.0</th>\n",
              "      <th>Age_64.0</th>\n",
              "      <th>Age_65.0</th>\n",
              "      <th>Age_66.0</th>\n",
              "      <th>Age_70.0</th>\n",
              "      <th>Age_70.5</th>\n",
              "      <th>Age_71.0</th>\n",
              "      <th>Age_74.0</th>\n",
              "      <th>Age_80.0</th>\n",
              "      <th>Fare</th>\n",
              "    </tr>\n",
              "  </thead>\n",
              "  <tbody>\n",
              "    <tr>\n",
              "      <th>0</th>\n",
              "      <td>0</td>\n",
              "      <td>3</td>\n",
              "      <td>1</td>\n",
              "      <td>1</td>\n",
              "      <td>0</td>\n",
              "      <td>2</td>\n",
              "      <td>0</td>\n",
              "      <td>0</td>\n",
              "      <td>0</td>\n",
              "      <td>0</td>\n",
              "      <td>...</td>\n",
              "      <td>0</td>\n",
              "      <td>0</td>\n",
              "      <td>0</td>\n",
              "      <td>0</td>\n",
              "      <td>0</td>\n",
              "      <td>0</td>\n",
              "      <td>0</td>\n",
              "      <td>0</td>\n",
              "      <td>0</td>\n",
              "      <td>-0.502445</td>\n",
              "    </tr>\n",
              "    <tr>\n",
              "      <th>1</th>\n",
              "      <td>1</td>\n",
              "      <td>1</td>\n",
              "      <td>0</td>\n",
              "      <td>1</td>\n",
              "      <td>0</td>\n",
              "      <td>0</td>\n",
              "      <td>0</td>\n",
              "      <td>0</td>\n",
              "      <td>0</td>\n",
              "      <td>0</td>\n",
              "      <td>...</td>\n",
              "      <td>0</td>\n",
              "      <td>0</td>\n",
              "      <td>0</td>\n",
              "      <td>0</td>\n",
              "      <td>0</td>\n",
              "      <td>0</td>\n",
              "      <td>0</td>\n",
              "      <td>0</td>\n",
              "      <td>0</td>\n",
              "      <td>0.786845</td>\n",
              "    </tr>\n",
              "    <tr>\n",
              "      <th>2</th>\n",
              "      <td>1</td>\n",
              "      <td>3</td>\n",
              "      <td>0</td>\n",
              "      <td>0</td>\n",
              "      <td>0</td>\n",
              "      <td>2</td>\n",
              "      <td>0</td>\n",
              "      <td>0</td>\n",
              "      <td>0</td>\n",
              "      <td>0</td>\n",
              "      <td>...</td>\n",
              "      <td>0</td>\n",
              "      <td>0</td>\n",
              "      <td>0</td>\n",
              "      <td>0</td>\n",
              "      <td>0</td>\n",
              "      <td>0</td>\n",
              "      <td>0</td>\n",
              "      <td>0</td>\n",
              "      <td>0</td>\n",
              "      <td>-0.488854</td>\n",
              "    </tr>\n",
              "    <tr>\n",
              "      <th>3</th>\n",
              "      <td>1</td>\n",
              "      <td>1</td>\n",
              "      <td>0</td>\n",
              "      <td>1</td>\n",
              "      <td>0</td>\n",
              "      <td>2</td>\n",
              "      <td>0</td>\n",
              "      <td>0</td>\n",
              "      <td>0</td>\n",
              "      <td>0</td>\n",
              "      <td>...</td>\n",
              "      <td>0</td>\n",
              "      <td>0</td>\n",
              "      <td>0</td>\n",
              "      <td>0</td>\n",
              "      <td>0</td>\n",
              "      <td>0</td>\n",
              "      <td>0</td>\n",
              "      <td>0</td>\n",
              "      <td>0</td>\n",
              "      <td>0.420730</td>\n",
              "    </tr>\n",
              "    <tr>\n",
              "      <th>4</th>\n",
              "      <td>0</td>\n",
              "      <td>3</td>\n",
              "      <td>1</td>\n",
              "      <td>0</td>\n",
              "      <td>0</td>\n",
              "      <td>2</td>\n",
              "      <td>0</td>\n",
              "      <td>0</td>\n",
              "      <td>0</td>\n",
              "      <td>0</td>\n",
              "      <td>...</td>\n",
              "      <td>0</td>\n",
              "      <td>0</td>\n",
              "      <td>0</td>\n",
              "      <td>0</td>\n",
              "      <td>0</td>\n",
              "      <td>0</td>\n",
              "      <td>0</td>\n",
              "      <td>0</td>\n",
              "      <td>0</td>\n",
              "      <td>-0.486337</td>\n",
              "    </tr>\n",
              "    <tr>\n",
              "      <th>...</th>\n",
              "      <td>...</td>\n",
              "      <td>...</td>\n",
              "      <td>...</td>\n",
              "      <td>...</td>\n",
              "      <td>...</td>\n",
              "      <td>...</td>\n",
              "      <td>...</td>\n",
              "      <td>...</td>\n",
              "      <td>...</td>\n",
              "      <td>...</td>\n",
              "      <td>...</td>\n",
              "      <td>...</td>\n",
              "      <td>...</td>\n",
              "      <td>...</td>\n",
              "      <td>...</td>\n",
              "      <td>...</td>\n",
              "      <td>...</td>\n",
              "      <td>...</td>\n",
              "      <td>...</td>\n",
              "      <td>...</td>\n",
              "      <td>...</td>\n",
              "    </tr>\n",
              "    <tr>\n",
              "      <th>886</th>\n",
              "      <td>0</td>\n",
              "      <td>2</td>\n",
              "      <td>1</td>\n",
              "      <td>0</td>\n",
              "      <td>0</td>\n",
              "      <td>2</td>\n",
              "      <td>0</td>\n",
              "      <td>0</td>\n",
              "      <td>0</td>\n",
              "      <td>0</td>\n",
              "      <td>...</td>\n",
              "      <td>0</td>\n",
              "      <td>0</td>\n",
              "      <td>0</td>\n",
              "      <td>0</td>\n",
              "      <td>0</td>\n",
              "      <td>0</td>\n",
              "      <td>0</td>\n",
              "      <td>0</td>\n",
              "      <td>0</td>\n",
              "      <td>-0.386671</td>\n",
              "    </tr>\n",
              "    <tr>\n",
              "      <th>887</th>\n",
              "      <td>1</td>\n",
              "      <td>1</td>\n",
              "      <td>0</td>\n",
              "      <td>0</td>\n",
              "      <td>0</td>\n",
              "      <td>2</td>\n",
              "      <td>0</td>\n",
              "      <td>0</td>\n",
              "      <td>0</td>\n",
              "      <td>0</td>\n",
              "      <td>...</td>\n",
              "      <td>0</td>\n",
              "      <td>0</td>\n",
              "      <td>0</td>\n",
              "      <td>0</td>\n",
              "      <td>0</td>\n",
              "      <td>0</td>\n",
              "      <td>0</td>\n",
              "      <td>0</td>\n",
              "      <td>0</td>\n",
              "      <td>-0.044381</td>\n",
              "    </tr>\n",
              "    <tr>\n",
              "      <th>888</th>\n",
              "      <td>0</td>\n",
              "      <td>3</td>\n",
              "      <td>0</td>\n",
              "      <td>1</td>\n",
              "      <td>2</td>\n",
              "      <td>2</td>\n",
              "      <td>0</td>\n",
              "      <td>0</td>\n",
              "      <td>0</td>\n",
              "      <td>0</td>\n",
              "      <td>...</td>\n",
              "      <td>0</td>\n",
              "      <td>0</td>\n",
              "      <td>0</td>\n",
              "      <td>0</td>\n",
              "      <td>0</td>\n",
              "      <td>0</td>\n",
              "      <td>0</td>\n",
              "      <td>0</td>\n",
              "      <td>0</td>\n",
              "      <td>-0.176263</td>\n",
              "    </tr>\n",
              "    <tr>\n",
              "      <th>889</th>\n",
              "      <td>1</td>\n",
              "      <td>1</td>\n",
              "      <td>1</td>\n",
              "      <td>0</td>\n",
              "      <td>0</td>\n",
              "      <td>0</td>\n",
              "      <td>0</td>\n",
              "      <td>0</td>\n",
              "      <td>0</td>\n",
              "      <td>0</td>\n",
              "      <td>...</td>\n",
              "      <td>0</td>\n",
              "      <td>0</td>\n",
              "      <td>0</td>\n",
              "      <td>0</td>\n",
              "      <td>0</td>\n",
              "      <td>0</td>\n",
              "      <td>0</td>\n",
              "      <td>0</td>\n",
              "      <td>0</td>\n",
              "      <td>-0.044381</td>\n",
              "    </tr>\n",
              "    <tr>\n",
              "      <th>890</th>\n",
              "      <td>0</td>\n",
              "      <td>3</td>\n",
              "      <td>1</td>\n",
              "      <td>0</td>\n",
              "      <td>0</td>\n",
              "      <td>1</td>\n",
              "      <td>0</td>\n",
              "      <td>0</td>\n",
              "      <td>0</td>\n",
              "      <td>0</td>\n",
              "      <td>...</td>\n",
              "      <td>0</td>\n",
              "      <td>0</td>\n",
              "      <td>0</td>\n",
              "      <td>0</td>\n",
              "      <td>0</td>\n",
              "      <td>0</td>\n",
              "      <td>0</td>\n",
              "      <td>0</td>\n",
              "      <td>0</td>\n",
              "      <td>-0.492378</td>\n",
              "    </tr>\n",
              "  </tbody>\n",
              "</table>\n",
              "<p>891 rows × 242 columns</p>\n",
              "</div>\n",
              "      <button class=\"colab-df-convert\" onclick=\"convertToInteractive('df-3c056994-18cd-405b-b2ba-f6e2ea9a0ebb')\"\n",
              "              title=\"Convert this dataframe to an interactive table.\"\n",
              "              style=\"display:none;\">\n",
              "        \n",
              "  <svg xmlns=\"http://www.w3.org/2000/svg\" height=\"24px\"viewBox=\"0 0 24 24\"\n",
              "       width=\"24px\">\n",
              "    <path d=\"M0 0h24v24H0V0z\" fill=\"none\"/>\n",
              "    <path d=\"M18.56 5.44l.94 2.06.94-2.06 2.06-.94-2.06-.94-.94-2.06-.94 2.06-2.06.94zm-11 1L8.5 8.5l.94-2.06 2.06-.94-2.06-.94L8.5 2.5l-.94 2.06-2.06.94zm10 10l.94 2.06.94-2.06 2.06-.94-2.06-.94-.94-2.06-.94 2.06-2.06.94z\"/><path d=\"M17.41 7.96l-1.37-1.37c-.4-.4-.92-.59-1.43-.59-.52 0-1.04.2-1.43.59L10.3 9.45l-7.72 7.72c-.78.78-.78 2.05 0 2.83L4 21.41c.39.39.9.59 1.41.59.51 0 1.02-.2 1.41-.59l7.78-7.78 2.81-2.81c.8-.78.8-2.07 0-2.86zM5.41 20L4 18.59l7.72-7.72 1.47 1.35L5.41 20z\"/>\n",
              "  </svg>\n",
              "      </button>\n",
              "      \n",
              "  <style>\n",
              "    .colab-df-container {\n",
              "      display:flex;\n",
              "      flex-wrap:wrap;\n",
              "      gap: 12px;\n",
              "    }\n",
              "\n",
              "    .colab-df-convert {\n",
              "      background-color: #E8F0FE;\n",
              "      border: none;\n",
              "      border-radius: 50%;\n",
              "      cursor: pointer;\n",
              "      display: none;\n",
              "      fill: #1967D2;\n",
              "      height: 32px;\n",
              "      padding: 0 0 0 0;\n",
              "      width: 32px;\n",
              "    }\n",
              "\n",
              "    .colab-df-convert:hover {\n",
              "      background-color: #E2EBFA;\n",
              "      box-shadow: 0px 1px 2px rgba(60, 64, 67, 0.3), 0px 1px 3px 1px rgba(60, 64, 67, 0.15);\n",
              "      fill: #174EA6;\n",
              "    }\n",
              "\n",
              "    [theme=dark] .colab-df-convert {\n",
              "      background-color: #3B4455;\n",
              "      fill: #D2E3FC;\n",
              "    }\n",
              "\n",
              "    [theme=dark] .colab-df-convert:hover {\n",
              "      background-color: #434B5C;\n",
              "      box-shadow: 0px 1px 3px 1px rgba(0, 0, 0, 0.15);\n",
              "      filter: drop-shadow(0px 1px 2px rgba(0, 0, 0, 0.3));\n",
              "      fill: #FFFFFF;\n",
              "    }\n",
              "  </style>\n",
              "\n",
              "      <script>\n",
              "        const buttonEl =\n",
              "          document.querySelector('#df-3c056994-18cd-405b-b2ba-f6e2ea9a0ebb button.colab-df-convert');\n",
              "        buttonEl.style.display =\n",
              "          google.colab.kernel.accessAllowed ? 'block' : 'none';\n",
              "\n",
              "        async function convertToInteractive(key) {\n",
              "          const element = document.querySelector('#df-3c056994-18cd-405b-b2ba-f6e2ea9a0ebb');\n",
              "          const dataTable =\n",
              "            await google.colab.kernel.invokeFunction('convertToInteractive',\n",
              "                                                     [key], {});\n",
              "          if (!dataTable) return;\n",
              "\n",
              "          const docLinkHtml = 'Like what you see? Visit the ' +\n",
              "            '<a target=\"_blank\" href=https://colab.research.google.com/notebooks/data_table.ipynb>data table notebook</a>'\n",
              "            + ' to learn more about interactive tables.';\n",
              "          element.innerHTML = '';\n",
              "          dataTable['output_type'] = 'display_data';\n",
              "          await google.colab.output.renderOutput(dataTable, element);\n",
              "          const docLink = document.createElement('div');\n",
              "          docLink.innerHTML = docLinkHtml;\n",
              "          element.appendChild(docLink);\n",
              "        }\n",
              "      </script>\n",
              "    </div>\n",
              "  </div>\n",
              "  "
            ]
          },
          "metadata": {},
          "execution_count": 12
        }
      ],
      "source": [
        "df=df.merge(scaled, left_index=True, right_index=True, how = \"right\")\n",
        "df"
      ]
    },
    {
      "cell_type": "markdown",
      "metadata": {
        "id": "D-Ck0L80tyzP"
      },
      "source": [
        "## Algoritmos de Classificação"
      ]
    },
    {
      "cell_type": "markdown",
      "metadata": {
        "id": "f9QdtzjUtyzP"
      },
      "source": [
        "### Separação entre treino e teste (70% e 30%)"
      ]
    },
    {
      "cell_type": "code",
      "execution_count": null,
      "metadata": {
        "id": "TaPIXrIityzP"
      },
      "outputs": [],
      "source": [
        "X = df.drop(['Survived'],axis=1).values\n",
        "y = df['Survived'].values\n",
        "\n",
        "previsores = df.drop(['Survived'],axis=1)\n",
        "alvo = df['Survived']\n",
        "\n",
        "previsores = StandardScaler().fit_transform(previsores)"
      ]
    },
    {
      "cell_type": "code",
      "execution_count": null,
      "metadata": {
        "id": "rG9ewgGCtyzP"
      },
      "outputs": [],
      "source": [
        "X_train, X_test, y_train, y_test = train_test_split(X, y, test_size=0.3)\n",
        "X2_train, X2_test, y2_train, y2_test = train_test_split(previsores, alvo, test_size=0.3)"
      ]
    },
    {
      "cell_type": "markdown",
      "metadata": {
        "id": "F_MTHOWrubbI"
      },
      "source": [
        "### **Aplica balanceamento entre as classes**"
      ]
    },
    {
      "cell_type": "code",
      "execution_count": null,
      "metadata": {
        "id": "XEE0hulZtyzQ"
      },
      "outputs": [],
      "source": [
        "sm = SMOTE()\n",
        "x_train_oversampled, y_train_oversampled = sm.fit_resample(X_train, y_train)\n",
        "x2_train_oversampled, y2_train_oversampled = sm.fit_resample(X2_train, y2_train)"
      ]
    },
    {
      "cell_type": "code",
      "execution_count": null,
      "metadata": {
        "id": "-zvS0Sgevh9x",
        "colab": {
          "base_uri": "https://localhost:8080/"
        },
        "outputId": "11178b8e-a1a8-4c55-9338-68d85b39ce15"
      },
      "outputs": [
        {
          "output_type": "stream",
          "name": "stdout",
          "text": [
            "(772, 241)\n",
            "(623, 241)\n"
          ]
        }
      ],
      "source": [
        "print(x_train_oversampled.shape)\n",
        "print(X_train.shape)"
      ]
    },
    {
      "cell_type": "markdown",
      "source": [
        "# KNN"
      ],
      "metadata": {
        "id": "vuGV-guf1Nth"
      }
    },
    {
      "cell_type": "code",
      "source": [
        "k = 5\n",
        "knn = KNeighborsClassifier(n_neighbors=k,metric = 'euclidean')\n",
        "knn.fit(X_train, y_train)\n",
        "y_pred = knn.predict(X_test)\n",
        "metrics.accuracy_score(y_test, y_pred)"
      ],
      "metadata": {
        "colab": {
          "base_uri": "https://localhost:8080/"
        },
        "id": "Sf2fDrY21PZj",
        "outputId": "b9c7a77b-8186-4e10-eeca-956880d04942"
      },
      "execution_count": null,
      "outputs": [
        {
          "output_type": "execute_result",
          "data": {
            "text/plain": [
              "0.7686567164179104"
            ]
          },
          "metadata": {},
          "execution_count": 17
        }
      ]
    },
    {
      "cell_type": "code",
      "source": [
        "# Teste para diferentes valores de k\n",
        "k_range = list(range(1, 21))\n",
        "scores = []\n",
        "for k in k_range:\n",
        "    X_train, X_test, y_train, y_test = train_test_split(X, y, test_size=0.3, random_state=8)\n",
        "    knn = KNeighborsClassifier(n_neighbors=k,metric = 'euclidean')\n",
        "    knn.fit(X_train, y_train)\n",
        "    y_pred = knn.predict(X_test)\n",
        "    scores.append(metrics.accuracy_score(y_test, y_pred))\n",
        "\n",
        "plt.plot(k_range, scores)\n",
        "plt.xlabel('Value of k for KNN')\n",
        "plt.ylabel('Accuracy Score')\n",
        "plt.title('Accuracy Scores for Values of k of k-Nearest-Neighbors')\n",
        "plt.show()"
      ],
      "metadata": {
        "colab": {
          "base_uri": "https://localhost:8080/",
          "height": 472
        },
        "id": "kWaSrZ4z1klK",
        "outputId": "7b4db766-e815-4009-e3ce-082e8bb00e18"
      },
      "execution_count": null,
      "outputs": [
        {
          "output_type": "display_data",
          "data": {
            "text/plain": [
              "<Figure size 640x480 with 1 Axes>"
            ],
            "image/png": "[encoded data removed]"
          },
          "metadata": {}
        }
      ]
    },
    {
      "cell_type": "code",
      "source": [
        "scaler = StandardScaler()\n",
        "scaler.fit(X_train)\n",
        "\n",
        "X_train = scaler.transform(X_train)\n",
        "X_test = scaler.transform(X_test)\n",
        "\n",
        "# experimenting with different n values\n",
        "k_range = list(range(1, 21))\n",
        "scores = []\n",
        "for k in k_range:\n",
        "    knn = KNeighborsClassifier(n_neighbors=k, metric = 'euclidean')\n",
        "    knn.fit(X_train, y_train)\n",
        "    y_pred = knn.predict(X_test)\n",
        "    scores.append(metrics.accuracy_score(y_test, y_pred))\n",
        "\n",
        "plt.plot(k_range, scores)\n",
        "plt.xlabel('Value of k for KNN')\n",
        "plt.ylabel('Accuracy Score')\n",
        "plt.title('Accuracy Scores for Values of k of k-Nearest-Neighbors')\n",
        "plt.show()"
      ],
      "metadata": {
        "colab": {
          "base_uri": "https://localhost:8080/",
          "height": 472
        },
        "id": "lGUdGBGm1rmZ",
        "outputId": "eddca473-d380-4e08-8d65-0bc7b13fce17"
      },
      "execution_count": null,
      "outputs": [
        {
          "output_type": "display_data",
          "data": {
            "text/plain": [
              "<Figure size 640x480 with 1 Axes>"
            ],
            "image/png": "[encoded data removed]"
          },
          "metadata": {}
        }
      ]
    },
    {
      "cell_type": "code",
      "source": [
        "scaler = MinMaxScaler()\n",
        "scaler.fit(X_train)\n",
        "\n",
        "X_train = scaler.transform(X_train)\n",
        "X_test = scaler.transform(X_test)\n",
        "\n",
        "# experimenting with different n values\n",
        "k_range = list(range(1, 21))\n",
        "scores = []\n",
        "for k in k_range:\n",
        "    knn = KNeighborsClassifier(n_neighbors=k, metric = 'euclidean')\n",
        "    knn.fit(X_train, y_train)\n",
        "    y_pred = knn.predict(X_test)\n",
        "    scores.append(metrics.accuracy_score(y_test, y_pred))\n",
        "\n",
        "plt.plot(k_range, scores)\n",
        "plt.xlabel('Value of k for KNN')\n",
        "plt.ylabel('Accuracy Score')\n",
        "plt.title('Accuracy Scores for Values of k of k-Nearest-Neighbors')\n",
        "plt.show()"
      ],
      "metadata": {
        "colab": {
          "base_uri": "https://localhost:8080/",
          "height": 472
        },
        "id": "_iatXnCK1xqs",
        "outputId": "45f33cbc-ad4e-47e4-a0c3-ffaa7d05500c"
      },
      "execution_count": null,
      "outputs": [
        {
          "output_type": "display_data",
          "data": {
            "text/plain": [
              "<Figure size 640x480 with 1 Axes>"
            ],
            "image/png": "[encoded data removed]"
          },
          "metadata": {}
        }
      ]
    },
    {
      "cell_type": "markdown",
      "source": [
        "# GridSearchCV"
      ],
      "metadata": {
        "id": "UqbbvaBd9JTt"
      }
    },
    {
      "cell_type": "code",
      "source": [
        "sm = SMOTE()\n",
        "x_train_oversampled, y_train_oversampled = sm.fit_resample(X_train, y_train)\n",
        "\n",
        "k_range = list(range(1, 21))\n",
        "knn_param_grid = dict(n_neighbors=k_range)\n",
        "\n",
        "grid_search_knn = GridSearchCV(estimator=knn, param_grid=knn_param_grid, cv=10)\n",
        "grid_search_knn.fit(x_train_oversampled, y_train_oversampled);\n",
        "print(grid_search_knn.best_params_)"
      ],
      "metadata": {
        "colab": {
          "base_uri": "https://localhost:8080/"
        },
        "id": "8J1CYiF59Isc",
        "outputId": "170d914c-c9d8-4677-df23-141999026a9b"
      },
      "execution_count": 87,
      "outputs": [
        {
          "output_type": "stream",
          "name": "stdout",
          "text": [
            "{'n_neighbors': 1}\n"
          ]
        }
      ]
    },
    {
      "cell_type": "code",
      "source": [
        "# criacao de novo df com os dados carregados\n",
        "g_results_knn =  pd.DataFrame(grid_search_knn.cv_results_)\n",
        "# media das acuracias\n",
        "g_results_knn.loc[grid_search_knn.best_index_,'mean_test_score']"
      ],
      "metadata": {
        "colab": {
          "base_uri": "https://localhost:8080/"
        },
        "id": "EAKymhip-BkP",
        "outputId": "53a7dfe1-01ae-4136-907e-dea0e306d8ee"
      },
      "execution_count": 105,
      "outputs": [
        {
          "output_type": "execute_result",
          "data": {
            "text/plain": [
              "0.8019822282980178"
            ]
          },
          "metadata": {},
          "execution_count": 105
        }
      ]
    },
    {
      "cell_type": "code",
      "source": [
        "m = grid_search_knn.best_estimator_\n",
        "m.score(X_test,y_test)"
      ],
      "metadata": {
        "colab": {
          "base_uri": "https://localhost:8080/"
        },
        "id": "-rZc3Z0G-UZ3",
        "outputId": "b8789ff0-6b9b-41dd-e481-b486b0fb9d63"
      },
      "execution_count": 94,
      "outputs": [
        {
          "output_type": "execute_result",
          "data": {
            "text/plain": [
              "0.7910447761194029"
            ]
          },
          "metadata": {},
          "execution_count": 94
        }
      ]
    },
    {
      "cell_type": "markdown",
      "source": [
        "# RandomizedSearchCV"
      ],
      "metadata": {
        "id": "7S0LjAbA-YiV"
      }
    },
    {
      "cell_type": "code",
      "source": [
        "r_search_knn = RandomizedSearchCV(estimator = knn, param_distributions = knn_param_grid,\n",
        "                        n_iter= 10, cv = 10, return_train_score=True, refit = True)\n",
        "\n",
        "# balanceamento\n",
        "sm = SMOTE()\n",
        "x_train_oversampled, y_train_oversampled = sm.fit_resample(X_train, y_train)\n",
        "r_search_knn.fit(x_train_oversampled, y_train_oversampled);\n",
        "print(r_search_knn.best_params_)\n",
        "print(r_search_knn.best_score_)"
      ],
      "metadata": {
        "colab": {
          "base_uri": "https://localhost:8080/"
        },
        "id": "z46xb3nG-gH4",
        "outputId": "16fe7179-c3e1-43bd-e57a-74f044ee774d"
      },
      "execution_count": 95,
      "outputs": [
        {
          "output_type": "stream",
          "name": "stdout",
          "text": [
            "{'n_neighbors': 9}\n",
            "0.7770164046479835\n"
          ]
        }
      ]
    },
    {
      "cell_type": "code",
      "source": [
        "model_r_rna = r_search_knn.best_estimator_\n",
        "model_r_rna.score(X_test, y_test)"
      ],
      "metadata": {
        "colab": {
          "base_uri": "https://localhost:8080/"
        },
        "id": "fMAXdDea_MoY",
        "outputId": "88ab1394-f19f-4b93-ffdd-17d41d2bdde7"
      },
      "execution_count": 123,
      "outputs": [
        {
          "output_type": "execute_result",
          "data": {
            "text/plain": [
              "0.7611940298507462"
            ]
          },
          "metadata": {},
          "execution_count": 123
        }
      ]
    },
    {
      "cell_type": "markdown",
      "metadata": {
        "id": "M1wKt5yCtyzQ"
      },
      "source": [
        "<h1 style=\"font-family:Georgia;font-size:175%;text-align:left\">Random Forest Classifier</h1>"
      ]
    },
    {
      "cell_type": "code",
      "execution_count": null,
      "metadata": {
        "id": "J3ApGFRFtyzQ",
        "colab": {
          "base_uri": "https://localhost:8080/"
        },
        "outputId": "30d00b3e-65a4-4040-c236-d4499a230549"
      },
      "outputs": [
        {
          "output_type": "stream",
          "name": "stdout",
          "text": [
            "Training Score 0.9896373056994818\n",
            "Testing Score \n",
            " 0.7910447761194029\n",
            "[[140  28]\n",
            " [ 28  72]]\n"
          ]
        }
      ],
      "source": [
        "forest = RandomForestClassifier(random_state=42)\n",
        "#==\n",
        "forest.fit(x_train_oversampled, y_train_oversampled)\n",
        "#==\n",
        "#Score\n",
        "#==\n",
        "forest_score = forest.score(x_train_oversampled, y_train_oversampled)\n",
        "forest_test = forest.score(X_test, y_test)\n",
        "#==\n",
        "#testing model\n",
        "#==\n",
        "y_pred = forest.predict(X_test)\n",
        "#==\n",
        "#evaluation\n",
        "#==\n",
        "cm = confusion_matrix(y_test,y_pred)\n",
        "print('Training Score',forest_score)\n",
        "print('Testing Score \\n',forest_test)\n",
        "print(cm)"
      ]
    },
    {
      "cell_type": "code",
      "source": [
        "# sem cabine\n",
        "forest = RandomForestClassifier(random_state=42)\n",
        "#==\n",
        "forest.fit(x2_train_oversampled, y2_train_oversampled)\n",
        "#==\n",
        "#Score\n",
        "#==\n",
        "forest_score2 = forest.score(x2_train_oversampled, y2_train_oversampled)\n",
        "forest_test2 = forest.score(X2_test, y2_test)\n",
        "#==\n",
        "#testing model\n",
        "#==\n",
        "y2_pred = forest.predict(X2_test)\n",
        "#==\n",
        "#evaluation\n",
        "#==\n",
        "cm = confusion_matrix(y2_test,y2_pred)\n",
        "print('Training Score',forest_score2)\n",
        "print('Testing Score \\n',forest_test2)\n",
        "print(cm)"
      ],
      "metadata": {
        "colab": {
          "base_uri": "https://localhost:8080/"
        },
        "id": "T-PIWqPrrfvU",
        "outputId": "2bf2a774-578c-4d80-867e-3dbbefc1b5a7"
      },
      "execution_count": null,
      "outputs": [
        {
          "output_type": "stream",
          "name": "stdout",
          "text": [
            "Training Score 0.9896103896103896\n",
            "Testing Score \n",
            " 0.7761194029850746\n",
            "[[135  29]\n",
            " [ 31  73]]\n"
          ]
        }
      ]
    },
    {
      "cell_type": "markdown",
      "metadata": {
        "id": "FBqYNVmFtyzQ"
      },
      "source": [
        "## Ajuste de hiperparâmetros\n"
      ]
    },
    {
      "cell_type": "code",
      "execution_count": null,
      "metadata": {
        "id": "AkBswVMCtyzR"
      },
      "outputs": [],
      "source": [
        "forest = RandomForestClassifier()\n",
        "# param_grid = {'criterion': ['gini', 'entropy', 'log_loss'],\n",
        "#               'max_features':['sqrt','log2'],\n",
        "#               'n_estimators': [10, 20, 30, 40, 50, 60, 70, 80, 100, 200, 300]}\n",
        "param_grid = {'criterion': ['gini', 'entropy', 'log_loss'],\n",
        "              'max_features':['sqrt','log2'],\n",
        "              'n_estimators': [10, 20, 30, 60]}"
      ]
    },
    {
      "cell_type": "markdown",
      "metadata": {
        "id": "A0XGhBMftyzR"
      },
      "source": [
        "#### GridSearchCV"
      ]
    },
    {
      "cell_type": "code",
      "execution_count": null,
      "metadata": {
        "id": "NCU5090ZtyzR"
      },
      "outputs": [],
      "source": [
        "g_search = GridSearchCV(estimator = forest, param_grid = param_grid,\n",
        "                        cv = 10, return_train_score=True)"
      ]
    },
    {
      "cell_type": "code",
      "execution_count": 117,
      "metadata": {
        "id": "_iof83KhtyzR"
      },
      "outputs": [],
      "source": [
        "sm = SMOTE()\n",
        "x_train_oversampled, y_train_oversampled = sm.fit_resample(X_train, y_train)\n",
        "x2_train_oversampled, y2_train_oversampled = sm.fit_resample(X2_train, y2_train)\n",
        "\n",
        "g_search.fit(x_train_oversampled, y_train_oversampled);"
      ]
    },
    {
      "cell_type": "code",
      "source": [
        "# criacao de novo df com os dados carregados\n",
        "g_results_rf =  pd.DataFrame(g_search.cv_results_)\n",
        "# media das acuracias\n",
        "grid_cabin = g_results_rf.loc[g_search.best_index_,'mean_test_score']\n",
        "g_results_rf.loc[g_search.best_index_,'mean_test_score']"
      ],
      "metadata": {
        "colab": {
          "base_uri": "https://localhost:8080/"
        },
        "id": "TUu1--CrAD4t",
        "outputId": "cd17fb7d-00ef-49b7-ac4d-af9f74b33127"
      },
      "execution_count": 124,
      "outputs": [
        {
          "output_type": "execute_result",
          "data": {
            "text/plain": [
              "0.82946001367054"
            ]
          },
          "metadata": {},
          "execution_count": 124
        }
      ]
    },
    {
      "cell_type": "code",
      "source": [
        "m = g_search.best_estimator_\n",
        "grid_best = m.score(X_test,y_test)\n",
        "m.score(X_test,y_test)"
      ],
      "metadata": {
        "colab": {
          "base_uri": "https://localhost:8080/"
        },
        "id": "Iq3xHPbZA76t",
        "outputId": "b5b03c55-0989-4a9b-aeab-163dc38f1e3b"
      },
      "execution_count": 125,
      "outputs": [
        {
          "output_type": "execute_result",
          "data": {
            "text/plain": [
              "0.7910447761194029"
            ]
          },
          "metadata": {},
          "execution_count": 125
        }
      ]
    },
    {
      "cell_type": "code",
      "source": [
        "g_search.fit(x2_train_oversampled, y2_train_oversampled);\n",
        "g_results_rf =  pd.DataFrame(g_search.cv_results_)\n",
        "g_results_rf.loc[g_search.best_index_,'mean_test_score']"
      ],
      "metadata": {
        "colab": {
          "base_uri": "https://localhost:8080/"
        },
        "id": "yEoZdlEbKhUH",
        "outputId": "fec378b7-b11b-4ae2-e3b1-c929a7fa25de"
      },
      "execution_count": 126,
      "outputs": [
        {
          "output_type": "execute_result",
          "data": {
            "text/plain": [
              "0.8428571428571429"
            ]
          },
          "metadata": {},
          "execution_count": 126
        }
      ]
    },
    {
      "cell_type": "code",
      "source": [
        "m = g_search.best_estimator_\n",
        "m.score(X_test,y_test)"
      ],
      "metadata": {
        "colab": {
          "base_uri": "https://localhost:8080/"
        },
        "id": "xf1WSnGPKtna",
        "outputId": "46b9e596-a183-492f-ff4c-db15a5b92159"
      },
      "execution_count": 127,
      "outputs": [
        {
          "output_type": "execute_result",
          "data": {
            "text/plain": [
              "0.3805970149253731"
            ]
          },
          "metadata": {},
          "execution_count": 127
        }
      ]
    },
    {
      "cell_type": "markdown",
      "metadata": {
        "id": "Ydg4OJr2tyzS"
      },
      "source": [
        "#### RandomizedSearchCV\n"
      ]
    },
    {
      "cell_type": "code",
      "execution_count": null,
      "metadata": {
        "id": "MRfDfPh_tyzT"
      },
      "outputs": [],
      "source": [
        "r_search = RandomizedSearchCV(estimator = forest, param_distributions = param_grid,\n",
        "                        n_iter= 10, cv = 10, return_train_score=True)"
      ]
    },
    {
      "cell_type": "code",
      "execution_count": 116,
      "metadata": {
        "id": "1gjCVKBmtyzT"
      },
      "outputs": [],
      "source": [
        "sm = SMOTE()\n",
        "x_train_oversampled, y_train_oversampled = sm.fit_resample(X_train, y_train)\n",
        "x2_train_oversampled, y2_train_oversampled = sm.fit_resample(X2_train, y2_train)\n",
        "\n",
        "r_search.fit(x_train_oversampled, y_train_oversampled);"
      ]
    },
    {
      "cell_type": "code",
      "execution_count": 119,
      "metadata": {
        "id": "PJUyo8DWtyzU",
        "colab": {
          "base_uri": "https://localhost:8080/"
        },
        "outputId": "6fb64e16-20d8-4a7a-9d4b-a4133eda1f91"
      },
      "outputs": [
        {
          "output_type": "stream",
          "name": "stdout",
          "text": [
            "0.8399692412850308\n"
          ]
        }
      ],
      "source": [
        "print(r_search.best_score_)"
      ]
    },
    {
      "cell_type": "code",
      "source": [
        "model_r_rf = r_search.best_estimator_\n",
        "best_est_score = model_r_rf.score(X_test, y_test)\n",
        "model_r_rf.score(X_test, y_test)"
      ],
      "metadata": {
        "colab": {
          "base_uri": "https://localhost:8080/"
        },
        "id": "gtNvwsCPuU2O",
        "outputId": "f266c64e-d4f4-4380-ec2b-31c18fd3f674"
      },
      "execution_count": 120,
      "outputs": [
        {
          "output_type": "execute_result",
          "data": {
            "text/plain": [
              "0.8059701492537313"
            ]
          },
          "metadata": {},
          "execution_count": 120
        }
      ]
    },
    {
      "cell_type": "code",
      "source": [
        "r_search.fit(x2_train_oversampled, y2_train_oversampled);\n",
        "print(r_search.best_score_)"
      ],
      "metadata": {
        "colab": {
          "base_uri": "https://localhost:8080/"
        },
        "id": "26zM-MJUHpik",
        "outputId": "e94f7f9d-0535-41a5-e980-0bd81a9a14cc"
      },
      "execution_count": 121,
      "outputs": [
        {
          "output_type": "stream",
          "name": "stdout",
          "text": [
            "0.8415584415584416\n"
          ]
        }
      ]
    },
    {
      "cell_type": "code",
      "source": [
        "model_r_rf = r_search.best_estimator_\n",
        "model_r_rf.score(X_test, y_test)"
      ],
      "metadata": {
        "colab": {
          "base_uri": "https://localhost:8080/"
        },
        "id": "COHsRST5HzN8",
        "outputId": "f08205b0-a4c5-44d1-ba0e-b5e5fcbfb6ec"
      },
      "execution_count": 128,
      "outputs": [
        {
          "output_type": "execute_result",
          "data": {
            "text/plain": [
              "0.39552238805970147"
            ]
          },
          "metadata": {},
          "execution_count": 128
        }
      ]
    },
    {
      "cell_type": "markdown",
      "source": [
        "# **Redes Neurais**"
      ],
      "metadata": {
        "id": "-jmXE6A3u1aG"
      }
    },
    {
      "cell_type": "code",
      "source": [
        "rna = MLPClassifier(hidden_layer_sizes=(10,10,10), activation='relu', solver='sgd', max_iter = 693, tol=0.0001, random_state = 3, verbose = True)"
      ],
      "metadata": {
        "id": "3gTZNmBWu4zR"
      },
      "execution_count": null,
      "outputs": []
    },
    {
      "cell_type": "code",
      "source": [
        "rna.fit(X_train, y_train)"
      ],
      "metadata": {
        "colab": {
          "base_uri": "https://localhost:8080/",
          "height": 1000
        },
        "id": "6lf4TOjPvIPV",
        "outputId": "964cc101-2587-4a63-89d4-7de53446b027"
      },
      "execution_count": null,
      "outputs": [
        {
          "output_type": "stream",
          "name": "stdout",
          "text": [
            "Iteration 1, loss = 0.67364592\n",
            "Iteration 2, loss = 0.67350839\n",
            "Iteration 3, loss = 0.67331193\n",
            "Iteration 4, loss = 0.67307279\n",
            "Iteration 5, loss = 0.67273828\n",
            "Iteration 6, loss = 0.67237252\n",
            "Iteration 7, loss = 0.67192538\n",
            "Iteration 8, loss = 0.67150590\n",
            "Iteration 9, loss = 0.67110349\n",
            "Iteration 10, loss = 0.67071475\n",
            "Iteration 11, loss = 0.67036306\n",
            "Iteration 12, loss = 0.67003790\n",
            "Iteration 13, loss = 0.66971826\n",
            "Iteration 14, loss = 0.66936909\n",
            "Iteration 15, loss = 0.66900656\n",
            "Iteration 16, loss = 0.66861047\n",
            "Iteration 17, loss = 0.66822437\n",
            "Iteration 18, loss = 0.66787186\n",
            "Iteration 19, loss = 0.66751433\n",
            "Iteration 20, loss = 0.66717065\n",
            "Iteration 21, loss = 0.66680954\n",
            "Iteration 22, loss = 0.66642504\n",
            "Iteration 23, loss = 0.66596647\n",
            "Iteration 24, loss = 0.66549864\n",
            "Iteration 25, loss = 0.66497451\n",
            "Iteration 26, loss = 0.66444177\n",
            "Iteration 27, loss = 0.66387662\n",
            "Iteration 28, loss = 0.66329239\n",
            "Iteration 29, loss = 0.66269562\n",
            "Iteration 30, loss = 0.66209446\n",
            "Iteration 31, loss = 0.66147576\n",
            "Iteration 32, loss = 0.66082956\n",
            "Iteration 33, loss = 0.66015233\n",
            "Iteration 34, loss = 0.65945546\n",
            "Iteration 35, loss = 0.65872931\n",
            "Iteration 36, loss = 0.65797284\n",
            "Iteration 37, loss = 0.65718908\n",
            "Iteration 38, loss = 0.65638896\n",
            "Iteration 39, loss = 0.65558107\n",
            "Iteration 40, loss = 0.65472302\n",
            "Iteration 41, loss = 0.65385278\n",
            "Iteration 42, loss = 0.65295517\n",
            "Iteration 43, loss = 0.65197003\n",
            "Iteration 44, loss = 0.65092241\n",
            "Iteration 45, loss = 0.64980995\n",
            "Iteration 46, loss = 0.64863392\n",
            "Iteration 47, loss = 0.64737984\n",
            "Iteration 48, loss = 0.64609441\n",
            "Iteration 49, loss = 0.64480047\n",
            "Iteration 50, loss = 0.64351848\n",
            "Iteration 51, loss = 0.64229699\n",
            "Iteration 52, loss = 0.64095714\n",
            "Iteration 53, loss = 0.63956484\n",
            "Iteration 54, loss = 0.63820938\n",
            "Iteration 55, loss = 0.63690402\n",
            "Iteration 56, loss = 0.63556878\n",
            "Iteration 57, loss = 0.63431283\n",
            "Iteration 58, loss = 0.63304913\n",
            "Iteration 59, loss = 0.63175815\n",
            "Iteration 60, loss = 0.63051405\n",
            "Iteration 61, loss = 0.62921118\n",
            "Iteration 62, loss = 0.62793521\n",
            "Iteration 63, loss = 0.62662418\n",
            "Iteration 64, loss = 0.62530743\n",
            "Iteration 65, loss = 0.62406109\n",
            "Iteration 66, loss = 0.62274030\n",
            "Iteration 67, loss = 0.62147298\n",
            "Iteration 68, loss = 0.62012953\n",
            "Iteration 69, loss = 0.61879782\n",
            "Iteration 70, loss = 0.61743751\n",
            "Iteration 71, loss = 0.61610939\n",
            "Iteration 72, loss = 0.61479513\n",
            "Iteration 73, loss = 0.61350883\n",
            "Iteration 74, loss = 0.61212462\n",
            "Iteration 75, loss = 0.61082183\n",
            "Iteration 76, loss = 0.60936893\n",
            "Iteration 77, loss = 0.60790642\n",
            "Iteration 78, loss = 0.60645862\n",
            "Iteration 79, loss = 0.60503767\n",
            "Iteration 80, loss = 0.60359104\n",
            "Iteration 81, loss = 0.60224093\n",
            "Iteration 82, loss = 0.60090360\n",
            "Iteration 83, loss = 0.59955499\n",
            "Iteration 84, loss = 0.59826670\n",
            "Iteration 85, loss = 0.59694223\n",
            "Iteration 86, loss = 0.59568384\n",
            "Iteration 87, loss = 0.59427080\n",
            "Iteration 88, loss = 0.59294359\n",
            "Iteration 89, loss = 0.59157151\n",
            "Iteration 90, loss = 0.59018460\n",
            "Iteration 91, loss = 0.58885292\n",
            "Iteration 92, loss = 0.58749375\n",
            "Iteration 93, loss = 0.58612023\n",
            "Iteration 94, loss = 0.58474602\n",
            "Iteration 95, loss = 0.58334636\n",
            "Iteration 96, loss = 0.58190121\n",
            "Iteration 97, loss = 0.58043647\n",
            "Iteration 98, loss = 0.57898057\n",
            "Iteration 99, loss = 0.57759712\n",
            "Iteration 100, loss = 0.57616789\n",
            "Iteration 101, loss = 0.57470534\n",
            "Iteration 102, loss = 0.57326515\n",
            "Iteration 103, loss = 0.57180091\n",
            "Iteration 104, loss = 0.57043258\n",
            "Iteration 105, loss = 0.56895003\n",
            "Iteration 106, loss = 0.56749658\n",
            "Iteration 107, loss = 0.56609608\n",
            "Iteration 108, loss = 0.56469850\n",
            "Iteration 109, loss = 0.56323022\n",
            "Iteration 110, loss = 0.56171029\n",
            "Iteration 111, loss = 0.56012068\n",
            "Iteration 112, loss = 0.55859692\n",
            "Iteration 113, loss = 0.55711945\n",
            "Iteration 114, loss = 0.55576934\n",
            "Iteration 115, loss = 0.55439415\n",
            "Iteration 116, loss = 0.55304640\n",
            "Iteration 117, loss = 0.55170509\n",
            "Iteration 118, loss = 0.55034831\n",
            "Iteration 119, loss = 0.54895803\n",
            "Iteration 120, loss = 0.54758092\n",
            "Iteration 121, loss = 0.54617515\n",
            "Iteration 122, loss = 0.54483929\n",
            "Iteration 123, loss = 0.54349310\n",
            "Iteration 124, loss = 0.54208782\n",
            "Iteration 125, loss = 0.54056762\n",
            "Iteration 126, loss = 0.53906571\n",
            "Iteration 127, loss = 0.53764467\n",
            "Iteration 128, loss = 0.53618529\n",
            "Iteration 129, loss = 0.53476821\n",
            "Iteration 130, loss = 0.53339025\n",
            "Iteration 131, loss = 0.53197016\n",
            "Iteration 132, loss = 0.53067057\n",
            "Iteration 133, loss = 0.52922862\n",
            "Iteration 134, loss = 0.52776314\n",
            "Iteration 135, loss = 0.52638865\n",
            "Iteration 136, loss = 0.52492632\n",
            "Iteration 137, loss = 0.52354742\n",
            "Iteration 138, loss = 0.52209660\n",
            "Iteration 139, loss = 0.52070673\n",
            "Iteration 140, loss = 0.51944068\n",
            "Iteration 141, loss = 0.51806898\n",
            "Iteration 142, loss = 0.51677562\n",
            "Iteration 143, loss = 0.51546079\n",
            "Iteration 144, loss = 0.51411028\n",
            "Iteration 145, loss = 0.51291669\n",
            "Iteration 146, loss = 0.51172534\n",
            "Iteration 147, loss = 0.51049626\n",
            "Iteration 148, loss = 0.50929255\n",
            "Iteration 149, loss = 0.50814359\n",
            "Iteration 150, loss = 0.50700769\n",
            "Iteration 151, loss = 0.50578443\n",
            "Iteration 152, loss = 0.50462058\n",
            "Iteration 153, loss = 0.50342345\n",
            "Iteration 154, loss = 0.50231756\n",
            "Iteration 155, loss = 0.50122037\n",
            "Iteration 156, loss = 0.50025719\n",
            "Iteration 157, loss = 0.49924386\n",
            "Iteration 158, loss = 0.49817318\n",
            "Iteration 159, loss = 0.49710161\n",
            "Iteration 160, loss = 0.49607728\n",
            "Iteration 161, loss = 0.49496705\n",
            "Iteration 162, loss = 0.49383833\n",
            "Iteration 163, loss = 0.49271945\n",
            "Iteration 164, loss = 0.49168044\n",
            "Iteration 165, loss = 0.49066961\n",
            "Iteration 166, loss = 0.48963074\n",
            "Iteration 167, loss = 0.48864508\n",
            "Iteration 168, loss = 0.48769504\n",
            "Iteration 169, loss = 0.48670922\n",
            "Iteration 170, loss = 0.48578572\n",
            "Iteration 171, loss = 0.48488919\n",
            "Iteration 172, loss = 0.48401426\n",
            "Iteration 173, loss = 0.48304678\n",
            "Iteration 174, loss = 0.48210849\n",
            "Iteration 175, loss = 0.48114983\n",
            "Iteration 176, loss = 0.48016010\n",
            "Iteration 177, loss = 0.47924876\n",
            "Iteration 178, loss = 0.47832480\n",
            "Iteration 179, loss = 0.47744054\n",
            "Iteration 180, loss = 0.47654823\n",
            "Iteration 181, loss = 0.47561911\n",
            "Iteration 182, loss = 0.47474552\n",
            "Iteration 183, loss = 0.47381886\n",
            "Iteration 184, loss = 0.47292826\n",
            "Iteration 185, loss = 0.47206978\n",
            "Iteration 186, loss = 0.47117685\n",
            "Iteration 187, loss = 0.47052179\n",
            "Iteration 188, loss = 0.46974219\n",
            "Iteration 189, loss = 0.46898730\n",
            "Iteration 190, loss = 0.46825179\n",
            "Iteration 191, loss = 0.46750561\n",
            "Iteration 192, loss = 0.46677277\n",
            "Iteration 193, loss = 0.46603097\n",
            "Iteration 194, loss = 0.46550830\n",
            "Iteration 195, loss = 0.46476501\n",
            "Iteration 196, loss = 0.46411906\n",
            "Iteration 197, loss = 0.46352846\n",
            "Iteration 198, loss = 0.46287277\n",
            "Iteration 199, loss = 0.46216501\n",
            "Iteration 200, loss = 0.46145084\n",
            "Iteration 201, loss = 0.46071230\n",
            "Iteration 202, loss = 0.46001094\n",
            "Iteration 203, loss = 0.45940677\n",
            "Iteration 204, loss = 0.45876566\n",
            "Iteration 205, loss = 0.45814640\n",
            "Iteration 206, loss = 0.45747171\n",
            "Iteration 207, loss = 0.45685518\n",
            "Iteration 208, loss = 0.45616452\n",
            "Iteration 209, loss = 0.45550986\n",
            "Iteration 210, loss = 0.45480867\n",
            "Iteration 211, loss = 0.45414229\n",
            "Iteration 212, loss = 0.45354157\n",
            "Iteration 213, loss = 0.45294503\n",
            "Iteration 214, loss = 0.45235146\n",
            "Iteration 215, loss = 0.45176138\n",
            "Iteration 216, loss = 0.45116524\n",
            "Iteration 217, loss = 0.45058676\n",
            "Iteration 218, loss = 0.44999939\n",
            "Iteration 219, loss = 0.44941765\n",
            "Iteration 220, loss = 0.44881665\n",
            "Iteration 221, loss = 0.44831441\n",
            "Iteration 222, loss = 0.44784623\n",
            "Iteration 223, loss = 0.44732255\n",
            "Iteration 224, loss = 0.44683432\n",
            "Iteration 225, loss = 0.44627233\n",
            "Iteration 226, loss = 0.44569515\n",
            "Iteration 227, loss = 0.44509319\n",
            "Iteration 228, loss = 0.44456341\n",
            "Iteration 229, loss = 0.44400502\n",
            "Iteration 230, loss = 0.44350002\n",
            "Iteration 231, loss = 0.44294894\n",
            "Iteration 232, loss = 0.44240847\n",
            "Iteration 233, loss = 0.44189666\n",
            "Iteration 234, loss = 0.44143930\n",
            "Iteration 235, loss = 0.44095952\n",
            "Iteration 236, loss = 0.44048910\n",
            "Iteration 237, loss = 0.44009564\n",
            "Iteration 238, loss = 0.43968051\n",
            "Iteration 239, loss = 0.43912839\n",
            "Iteration 240, loss = 0.43860765\n",
            "Iteration 241, loss = 0.43808402\n",
            "Iteration 242, loss = 0.43769279\n",
            "Iteration 243, loss = 0.43714278\n",
            "Iteration 244, loss = 0.43660292\n",
            "Iteration 245, loss = 0.43615742\n",
            "Iteration 246, loss = 0.43576147\n",
            "Iteration 247, loss = 0.43523150\n",
            "Iteration 248, loss = 0.43477854\n",
            "Iteration 249, loss = 0.43434257\n",
            "Iteration 250, loss = 0.43397483\n",
            "Iteration 251, loss = 0.43355613\n",
            "Iteration 252, loss = 0.43308656\n",
            "Iteration 253, loss = 0.43255074\n",
            "Iteration 254, loss = 0.43205907\n",
            "Iteration 255, loss = 0.43155842\n",
            "Iteration 256, loss = 0.43117876\n",
            "Iteration 257, loss = 0.43076357\n",
            "Iteration 258, loss = 0.43038871\n",
            "Iteration 259, loss = 0.43001421\n",
            "Iteration 260, loss = 0.42962933\n",
            "Iteration 261, loss = 0.42934040\n",
            "Iteration 262, loss = 0.42898570\n",
            "Iteration 263, loss = 0.42863821\n",
            "Iteration 264, loss = 0.42827877\n",
            "Iteration 265, loss = 0.42781961\n",
            "Iteration 266, loss = 0.42735774\n",
            "Iteration 267, loss = 0.42695502\n",
            "Iteration 268, loss = 0.42662154\n",
            "Iteration 269, loss = 0.42617298\n",
            "Iteration 270, loss = 0.42586334\n",
            "Iteration 271, loss = 0.42549421\n",
            "Iteration 272, loss = 0.42509941\n",
            "Iteration 273, loss = 0.42475614\n",
            "Iteration 274, loss = 0.42437141\n",
            "Iteration 275, loss = 0.42403848\n",
            "Iteration 276, loss = 0.42366106\n",
            "Iteration 277, loss = 0.42334296\n",
            "Iteration 278, loss = 0.42296154\n",
            "Iteration 279, loss = 0.42251613\n",
            "Iteration 280, loss = 0.42212040\n",
            "Iteration 281, loss = 0.42170481\n",
            "Iteration 282, loss = 0.42134914\n",
            "Iteration 283, loss = 0.42093740\n",
            "Iteration 284, loss = 0.42059213\n",
            "Iteration 285, loss = 0.42022074\n",
            "Iteration 286, loss = 0.41985939\n",
            "Iteration 287, loss = 0.41955304\n",
            "Iteration 288, loss = 0.41916744\n",
            "Iteration 289, loss = 0.41895005\n",
            "Iteration 290, loss = 0.41854399\n",
            "Iteration 291, loss = 0.41819297\n",
            "Iteration 292, loss = 0.41782196\n",
            "Iteration 293, loss = 0.41754554\n",
            "Iteration 294, loss = 0.41716471\n",
            "Iteration 295, loss = 0.41685973\n",
            "Iteration 296, loss = 0.41657700\n",
            "Iteration 297, loss = 0.41622495\n",
            "Iteration 298, loss = 0.41592976\n",
            "Iteration 299, loss = 0.41558289\n",
            "Iteration 300, loss = 0.41539315\n",
            "Iteration 301, loss = 0.41510681\n",
            "Iteration 302, loss = 0.41478303\n",
            "Iteration 303, loss = 0.41455415\n",
            "Iteration 304, loss = 0.41423911\n",
            "Iteration 305, loss = 0.41393540\n",
            "Iteration 306, loss = 0.41361723\n",
            "Iteration 307, loss = 0.41333128\n",
            "Iteration 308, loss = 0.41293677\n",
            "Iteration 309, loss = 0.41264234\n",
            "Iteration 310, loss = 0.41237402\n",
            "Iteration 311, loss = 0.41202152\n",
            "Iteration 312, loss = 0.41199840\n",
            "Iteration 313, loss = 0.41157414\n",
            "Iteration 314, loss = 0.41140711\n",
            "Iteration 315, loss = 0.41104468\n",
            "Iteration 316, loss = 0.41078446\n",
            "Iteration 317, loss = 0.41049939\n",
            "Iteration 318, loss = 0.41020915\n",
            "Iteration 319, loss = 0.40988678\n",
            "Iteration 320, loss = 0.40964186\n",
            "Iteration 321, loss = 0.40930213\n",
            "Iteration 322, loss = 0.40902753\n",
            "Iteration 323, loss = 0.40875657\n",
            "Iteration 324, loss = 0.40849578\n",
            "Iteration 325, loss = 0.40823275\n",
            "Iteration 326, loss = 0.40801556\n",
            "Iteration 327, loss = 0.40764850\n",
            "Iteration 328, loss = 0.40731611\n",
            "Iteration 329, loss = 0.40705665\n",
            "Iteration 330, loss = 0.40675360\n",
            "Iteration 331, loss = 0.40660913\n",
            "Iteration 332, loss = 0.40631434\n",
            "Iteration 333, loss = 0.40603025\n",
            "Iteration 334, loss = 0.40576265\n",
            "Iteration 335, loss = 0.40547647\n",
            "Iteration 336, loss = 0.40515952\n",
            "Iteration 337, loss = 0.40488194\n",
            "Iteration 338, loss = 0.40462065\n",
            "Iteration 339, loss = 0.40437086\n",
            "Iteration 340, loss = 0.40408187\n",
            "Iteration 341, loss = 0.40381680\n",
            "Iteration 342, loss = 0.40351888\n",
            "Iteration 343, loss = 0.40324584\n",
            "Iteration 344, loss = 0.40308966\n",
            "Iteration 345, loss = 0.40284792\n",
            "Iteration 346, loss = 0.40261719\n",
            "Iteration 347, loss = 0.40242151\n",
            "Iteration 348, loss = 0.40215817\n",
            "Iteration 349, loss = 0.40189395\n",
            "Iteration 350, loss = 0.40162210\n",
            "Iteration 351, loss = 0.40131047\n",
            "Iteration 352, loss = 0.40099601\n",
            "Iteration 353, loss = 0.40065619\n",
            "Iteration 354, loss = 0.40043502\n",
            "Iteration 355, loss = 0.40010668\n",
            "Iteration 356, loss = 0.39986167\n",
            "Iteration 357, loss = 0.39952703\n",
            "Iteration 358, loss = 0.39930626\n",
            "Iteration 359, loss = 0.39906479\n",
            "Iteration 360, loss = 0.39877891\n",
            "Iteration 361, loss = 0.39867197\n",
            "Iteration 362, loss = 0.39837030\n",
            "Iteration 363, loss = 0.39814616\n",
            "Iteration 364, loss = 0.39797433\n",
            "Iteration 365, loss = 0.39772346\n",
            "Iteration 366, loss = 0.39749093\n",
            "Iteration 367, loss = 0.39722773\n",
            "Iteration 368, loss = 0.39679268\n",
            "Iteration 369, loss = 0.39654671\n",
            "Iteration 370, loss = 0.39630168\n",
            "Iteration 371, loss = 0.39606247\n",
            "Iteration 372, loss = 0.39583532\n",
            "Iteration 373, loss = 0.39560903\n",
            "Iteration 374, loss = 0.39534164\n",
            "Iteration 375, loss = 0.39512335\n",
            "Iteration 376, loss = 0.39491156\n",
            "Iteration 377, loss = 0.39470307\n",
            "Iteration 378, loss = 0.39447834\n",
            "Iteration 379, loss = 0.39425745\n",
            "Iteration 380, loss = 0.39405775\n",
            "Iteration 381, loss = 0.39379818\n",
            "Iteration 382, loss = 0.39359173\n",
            "Iteration 383, loss = 0.39335578\n",
            "Iteration 384, loss = 0.39311695\n",
            "Iteration 385, loss = 0.39287425\n",
            "Iteration 386, loss = 0.39265215\n",
            "Iteration 387, loss = 0.39241152\n",
            "Iteration 388, loss = 0.39217522\n",
            "Iteration 389, loss = 0.39195506\n",
            "Iteration 390, loss = 0.39180437\n",
            "Iteration 391, loss = 0.39162534\n",
            "Iteration 392, loss = 0.39160390\n",
            "Iteration 393, loss = 0.39137502\n",
            "Iteration 394, loss = 0.39111696\n",
            "Iteration 395, loss = 0.39070540\n",
            "Iteration 396, loss = 0.39041969\n",
            "Iteration 397, loss = 0.39021341\n",
            "Iteration 398, loss = 0.38999296\n",
            "Iteration 399, loss = 0.38974401\n",
            "Iteration 400, loss = 0.38961325\n",
            "Iteration 401, loss = 0.38953357\n",
            "Iteration 402, loss = 0.38928473\n",
            "Iteration 403, loss = 0.38904506\n",
            "Iteration 404, loss = 0.38895835\n",
            "Iteration 405, loss = 0.38888069\n",
            "Iteration 406, loss = 0.38871692\n",
            "Iteration 407, loss = 0.38872561\n",
            "Iteration 408, loss = 0.38845100\n",
            "Iteration 409, loss = 0.38802387\n",
            "Iteration 410, loss = 0.38747680\n",
            "Iteration 411, loss = 0.38719137\n",
            "Iteration 412, loss = 0.38693161\n",
            "Iteration 413, loss = 0.38670843\n",
            "Iteration 414, loss = 0.38649579\n",
            "Iteration 415, loss = 0.38634279\n",
            "Iteration 416, loss = 0.38610644\n",
            "Iteration 417, loss = 0.38584491\n",
            "Iteration 418, loss = 0.38568472\n",
            "Iteration 419, loss = 0.38552755\n",
            "Iteration 420, loss = 0.38535961\n",
            "Iteration 421, loss = 0.38530286\n",
            "Iteration 422, loss = 0.38496805\n",
            "Iteration 423, loss = 0.38459310\n",
            "Iteration 424, loss = 0.38431516\n",
            "Iteration 425, loss = 0.38422350\n",
            "Iteration 426, loss = 0.38404290\n",
            "Iteration 427, loss = 0.38387871\n",
            "Iteration 428, loss = 0.38359158\n",
            "Iteration 429, loss = 0.38338990\n",
            "Iteration 430, loss = 0.38321795\n",
            "Iteration 431, loss = 0.38311563\n",
            "Iteration 432, loss = 0.38292768\n",
            "Iteration 433, loss = 0.38273556\n",
            "Iteration 434, loss = 0.38252003\n",
            "Iteration 435, loss = 0.38237663\n",
            "Iteration 436, loss = 0.38219830\n",
            "Iteration 437, loss = 0.38197672\n",
            "Iteration 438, loss = 0.38178502\n",
            "Iteration 439, loss = 0.38157589\n",
            "Iteration 440, loss = 0.38140172\n",
            "Iteration 441, loss = 0.38112616\n",
            "Iteration 442, loss = 0.38088665\n",
            "Iteration 443, loss = 0.38068992\n",
            "Iteration 444, loss = 0.38061054\n",
            "Iteration 445, loss = 0.38050182\n",
            "Iteration 446, loss = 0.38038490\n",
            "Iteration 447, loss = 0.38003977\n",
            "Iteration 448, loss = 0.37979881\n",
            "Iteration 449, loss = 0.37968504\n",
            "Iteration 450, loss = 0.37940496\n",
            "Iteration 451, loss = 0.37911035\n",
            "Iteration 452, loss = 0.37893933\n",
            "Iteration 453, loss = 0.37875840\n",
            "Iteration 454, loss = 0.37860247\n",
            "Iteration 455, loss = 0.37837259\n",
            "Iteration 456, loss = 0.37819992\n",
            "Iteration 457, loss = 0.37799888\n",
            "Iteration 458, loss = 0.37785087\n",
            "Iteration 459, loss = 0.37780975\n",
            "Iteration 460, loss = 0.37747239\n",
            "Iteration 461, loss = 0.37730150\n",
            "Iteration 462, loss = 0.37709013\n",
            "Iteration 463, loss = 0.37704026\n",
            "Iteration 464, loss = 0.37675166\n",
            "Iteration 465, loss = 0.37664625\n",
            "Iteration 466, loss = 0.37649272\n",
            "Iteration 467, loss = 0.37632057\n",
            "Iteration 468, loss = 0.37615106\n",
            "Iteration 469, loss = 0.37597055\n",
            "Iteration 470, loss = 0.37570892\n",
            "Iteration 471, loss = 0.37560149\n",
            "Iteration 472, loss = 0.37549492\n",
            "Iteration 473, loss = 0.37535116\n",
            "Iteration 474, loss = 0.37513758\n",
            "Iteration 475, loss = 0.37498012\n",
            "Iteration 476, loss = 0.37472171\n",
            "Iteration 477, loss = 0.37456447\n",
            "Iteration 478, loss = 0.37438830\n",
            "Iteration 479, loss = 0.37420119\n",
            "Iteration 480, loss = 0.37405902\n",
            "Iteration 481, loss = 0.37387573\n",
            "Iteration 482, loss = 0.37373092\n",
            "Iteration 483, loss = 0.37354852\n",
            "Iteration 484, loss = 0.37341629\n",
            "Iteration 485, loss = 0.37320138\n",
            "Iteration 486, loss = 0.37298697\n",
            "Iteration 487, loss = 0.37279972\n",
            "Iteration 488, loss = 0.37264788\n",
            "Iteration 489, loss = 0.37272642\n",
            "Iteration 490, loss = 0.37262220\n",
            "Iteration 491, loss = 0.37235480\n",
            "Iteration 492, loss = 0.37206154\n",
            "Iteration 493, loss = 0.37170418\n",
            "Iteration 494, loss = 0.37175243\n",
            "Iteration 495, loss = 0.37166116\n",
            "Iteration 496, loss = 0.37162687\n",
            "Iteration 497, loss = 0.37144221\n",
            "Iteration 498, loss = 0.37123304\n",
            "Iteration 499, loss = 0.37093484\n",
            "Iteration 500, loss = 0.37067629\n",
            "Iteration 501, loss = 0.37051659\n",
            "Iteration 502, loss = 0.37038662\n",
            "Iteration 503, loss = 0.37036691\n",
            "Iteration 504, loss = 0.37034002\n",
            "Iteration 505, loss = 0.37026296\n",
            "Iteration 506, loss = 0.37039879\n",
            "Iteration 507, loss = 0.37009970\n",
            "Iteration 508, loss = 0.36979828\n",
            "Iteration 509, loss = 0.36939639\n",
            "Iteration 510, loss = 0.36917669\n",
            "Iteration 511, loss = 0.36884479\n",
            "Iteration 512, loss = 0.36879430\n",
            "Iteration 513, loss = 0.36872868\n",
            "Iteration 514, loss = 0.36867744\n",
            "Iteration 515, loss = 0.36850497\n",
            "Iteration 516, loss = 0.36822789\n",
            "Iteration 517, loss = 0.36827743\n",
            "Iteration 518, loss = 0.36783323\n",
            "Iteration 519, loss = 0.36762263\n",
            "Iteration 520, loss = 0.36746900\n",
            "Iteration 521, loss = 0.36733187\n",
            "Iteration 522, loss = 0.36713088\n",
            "Iteration 523, loss = 0.36705036\n",
            "Iteration 524, loss = 0.36692872\n",
            "Iteration 525, loss = 0.36688629\n",
            "Iteration 526, loss = 0.36666592\n",
            "Iteration 527, loss = 0.36645710\n",
            "Iteration 528, loss = 0.36625507\n",
            "Iteration 529, loss = 0.36646270\n",
            "Iteration 530, loss = 0.36650964\n",
            "Iteration 531, loss = 0.36645249\n",
            "Iteration 532, loss = 0.36630984\n",
            "Iteration 533, loss = 0.36621952\n",
            "Iteration 534, loss = 0.36594577\n",
            "Iteration 535, loss = 0.36563990\n",
            "Iteration 536, loss = 0.36530573\n",
            "Iteration 537, loss = 0.36508686\n",
            "Iteration 538, loss = 0.36489201\n",
            "Iteration 539, loss = 0.36474653\n",
            "Iteration 540, loss = 0.36451709\n",
            "Iteration 541, loss = 0.36440330\n",
            "Iteration 542, loss = 0.36415876\n",
            "Iteration 543, loss = 0.36400234\n",
            "Iteration 544, loss = 0.36378543\n",
            "Iteration 545, loss = 0.36365672\n",
            "Iteration 546, loss = 0.36348992\n",
            "Iteration 547, loss = 0.36335306\n",
            "Iteration 548, loss = 0.36329062\n",
            "Iteration 549, loss = 0.36310693\n",
            "Iteration 550, loss = 0.36296620\n",
            "Iteration 551, loss = 0.36286058\n",
            "Iteration 552, loss = 0.36261805\n",
            "Iteration 553, loss = 0.36246402\n",
            "Iteration 554, loss = 0.36230078\n",
            "Iteration 555, loss = 0.36216995\n",
            "Iteration 556, loss = 0.36195652\n",
            "Iteration 557, loss = 0.36188701\n",
            "Iteration 558, loss = 0.36164863\n",
            "Iteration 559, loss = 0.36151229\n",
            "Iteration 560, loss = 0.36135277\n",
            "Iteration 561, loss = 0.36122404\n",
            "Iteration 562, loss = 0.36100627\n",
            "Iteration 563, loss = 0.36085196\n",
            "Iteration 564, loss = 0.36066479\n",
            "Iteration 565, loss = 0.36053037\n",
            "Iteration 566, loss = 0.36033721\n",
            "Iteration 567, loss = 0.36015525\n",
            "Iteration 568, loss = 0.36015143\n",
            "Iteration 569, loss = 0.36005459\n",
            "Iteration 570, loss = 0.35998284\n",
            "Iteration 571, loss = 0.35986264\n",
            "Iteration 572, loss = 0.35963091\n",
            "Iteration 573, loss = 0.35945563\n",
            "Iteration 574, loss = 0.35919180\n",
            "Iteration 575, loss = 0.35903983\n",
            "Iteration 576, loss = 0.35884708\n",
            "Iteration 577, loss = 0.35871960\n",
            "Iteration 578, loss = 0.35854685\n",
            "Iteration 579, loss = 0.35844281\n",
            "Iteration 580, loss = 0.35838148\n",
            "Iteration 581, loss = 0.35819987\n",
            "Iteration 582, loss = 0.35807272\n",
            "Iteration 583, loss = 0.35789158\n",
            "Iteration 584, loss = 0.35766125\n",
            "Iteration 585, loss = 0.35750207\n",
            "Iteration 586, loss = 0.35751243\n",
            "Iteration 587, loss = 0.35754511\n",
            "Iteration 588, loss = 0.35738232\n",
            "Iteration 589, loss = 0.35717192\n",
            "Iteration 590, loss = 0.35698445\n",
            "Iteration 591, loss = 0.35688251\n",
            "Iteration 592, loss = 0.35670935\n",
            "Iteration 593, loss = 0.35650032\n",
            "Iteration 594, loss = 0.35634545\n",
            "Iteration 595, loss = 0.35614004\n",
            "Iteration 596, loss = 0.35602702\n",
            "Iteration 597, loss = 0.35579454\n",
            "Iteration 598, loss = 0.35565336\n",
            "Iteration 599, loss = 0.35547486\n",
            "Iteration 600, loss = 0.35531636\n",
            "Iteration 601, loss = 0.35526114\n",
            "Iteration 602, loss = 0.35515356\n",
            "Iteration 603, loss = 0.35495415\n",
            "Iteration 604, loss = 0.35514620\n",
            "Iteration 605, loss = 0.35485606\n",
            "Iteration 606, loss = 0.35457547\n",
            "Iteration 607, loss = 0.35436120\n",
            "Iteration 608, loss = 0.35420674\n",
            "Iteration 609, loss = 0.35403668\n",
            "Iteration 610, loss = 0.35386196\n",
            "Iteration 611, loss = 0.35371498\n",
            "Iteration 612, loss = 0.35355856\n",
            "Iteration 613, loss = 0.35341565\n",
            "Iteration 614, loss = 0.35331163\n",
            "Iteration 615, loss = 0.35311304\n",
            "Iteration 616, loss = 0.35303270\n",
            "Iteration 617, loss = 0.35291571\n",
            "Iteration 618, loss = 0.35279306\n",
            "Iteration 619, loss = 0.35269725\n",
            "Iteration 620, loss = 0.35258101\n",
            "Iteration 621, loss = 0.35250261\n",
            "Iteration 622, loss = 0.35230689\n",
            "Iteration 623, loss = 0.35217071\n",
            "Iteration 624, loss = 0.35209967\n",
            "Iteration 625, loss = 0.35193202\n",
            "Iteration 626, loss = 0.35178393\n",
            "Iteration 627, loss = 0.35176183\n",
            "Iteration 628, loss = 0.35170255\n",
            "Iteration 629, loss = 0.35136840\n",
            "Iteration 630, loss = 0.35131372\n",
            "Iteration 631, loss = 0.35114988\n",
            "Iteration 632, loss = 0.35101862\n",
            "Iteration 633, loss = 0.35087446\n",
            "Iteration 634, loss = 0.35075160\n",
            "Iteration 635, loss = 0.35083077\n",
            "Iteration 636, loss = 0.35052528\n",
            "Iteration 637, loss = 0.35040515\n",
            "Iteration 638, loss = 0.35023912\n",
            "Iteration 639, loss = 0.35007264\n",
            "Iteration 640, loss = 0.34989358\n",
            "Iteration 641, loss = 0.34976772\n",
            "Iteration 642, loss = 0.34964068\n",
            "Iteration 643, loss = 0.34948725\n",
            "Iteration 644, loss = 0.34948226\n",
            "Iteration 645, loss = 0.34923912\n",
            "Iteration 646, loss = 0.34907199\n",
            "Iteration 647, loss = 0.34907371\n",
            "Iteration 648, loss = 0.34881573\n",
            "Iteration 649, loss = 0.34866998\n",
            "Iteration 650, loss = 0.34853333\n",
            "Iteration 651, loss = 0.34842040\n",
            "Iteration 652, loss = 0.34832275\n",
            "Iteration 653, loss = 0.34822128\n",
            "Iteration 654, loss = 0.34803400\n",
            "Iteration 655, loss = 0.34797218\n",
            "Iteration 656, loss = 0.34776714\n",
            "Iteration 657, loss = 0.34758043\n",
            "Iteration 658, loss = 0.34752178\n",
            "Iteration 659, loss = 0.34730116\n",
            "Iteration 660, loss = 0.34725517\n",
            "Iteration 661, loss = 0.34715519\n",
            "Iteration 662, loss = 0.34699748\n",
            "Iteration 663, loss = 0.34682711\n",
            "Iteration 664, loss = 0.34663961\n",
            "Iteration 665, loss = 0.34641331\n",
            "Iteration 666, loss = 0.34635174\n",
            "Iteration 667, loss = 0.34629883\n",
            "Iteration 668, loss = 0.34610519\n",
            "Iteration 669, loss = 0.34594805\n",
            "Iteration 670, loss = 0.34576273\n",
            "Iteration 671, loss = 0.34565437\n",
            "Iteration 672, loss = 0.34551273\n",
            "Iteration 673, loss = 0.34541411\n",
            "Iteration 674, loss = 0.34551166\n",
            "Iteration 675, loss = 0.34532104\n",
            "Iteration 676, loss = 0.34508971\n",
            "Iteration 677, loss = 0.34483628\n",
            "Iteration 678, loss = 0.34476796\n",
            "Iteration 679, loss = 0.34455661\n",
            "Iteration 680, loss = 0.34444205\n",
            "Iteration 681, loss = 0.34435576\n",
            "Iteration 682, loss = 0.34425559\n",
            "Iteration 683, loss = 0.34412031\n",
            "Iteration 684, loss = 0.34404374\n",
            "Iteration 685, loss = 0.34401929\n",
            "Iteration 686, loss = 0.34390238\n",
            "Iteration 687, loss = 0.34373663\n",
            "Iteration 688, loss = 0.34359717\n",
            "Iteration 689, loss = 0.34348294\n",
            "Iteration 690, loss = 0.34325714\n",
            "Iteration 691, loss = 0.34320578\n",
            "Iteration 692, loss = 0.34300246\n",
            "Iteration 693, loss = 0.34324348\n"
          ]
        },
        {
          "output_type": "stream",
          "name": "stderr",
          "text": [
            "/usr/local/lib/python3.10/dist-packages/sklearn/neural_network/_multilayer_perceptron.py:686: ConvergenceWarning: Stochastic Optimizer: Maximum iterations (693) reached and the optimization hasn't converged yet.\n",
            "  warnings.warn(\n"
          ]
        },
        {
          "output_type": "execute_result",
          "data": {
            "text/plain": [
              "MLPClassifier(hidden_layer_sizes=(10, 10, 10), max_iter=693, random_state=3,\n",
              "              solver='sgd', verbose=True)"
            ],
            "text/html": [
              "<style>#sk-container-id-2 {color: black;background-color: white;}#sk-container-id-2 pre{padding: 0;}#sk-container-id-2 div.sk-toggleable {background-color: white;}#sk-container-id-2 label.sk-toggleable__label {cursor: pointer;display: block;width: 100%;margin-bottom: 0;padding: 0.3em;box-sizing: border-box;text-align: center;}#sk-container-id-2 label.sk-toggleable__label-arrow:before {content: \"▸\";float: left;margin-right: 0.25em;color: #696969;}#sk-container-id-2 label.sk-toggleable__label-arrow:hover:before {color: black;}#sk-container-id-2 div.sk-estimator:hover label.sk-toggleable__label-arrow:before {color: black;}#sk-container-id-2 div.sk-toggleable__content {max-height: 0;max-width: 0;overflow: hidden;text-align: left;background-color: #f0f8ff;}#sk-container-id-2 div.sk-toggleable__content pre {margin: 0.2em;color: black;border-radius: 0.25em;background-color: #f0f8ff;}#sk-container-id-2 input.sk-toggleable__control:checked~div.sk-toggleable__content {max-height: 200px;max-width: 100%;overflow: auto;}#sk-container-id-2 input.sk-toggleable__control:checked~label.sk-toggleable__label-arrow:before {content: \"▾\";}#sk-container-id-2 div.sk-estimator input.sk-toggleable__control:checked~label.sk-toggleable__label {background-color: #d4ebff;}#sk-container-id-2 div.sk-label input.sk-toggleable__control:checked~label.sk-toggleable__label {background-color: #d4ebff;}#sk-container-id-2 input.sk-hidden--visually {border: 0;clip: rect(1px 1px 1px 1px);clip: rect(1px, 1px, 1px, 1px);height: 1px;margin: -1px;overflow: hidden;padding: 0;position: absolute;width: 1px;}#sk-container-id-2 div.sk-estimator {font-family: monospace;background-color: #f0f8ff;border: 1px dotted black;border-radius: 0.25em;box-sizing: border-box;margin-bottom: 0.5em;}#sk-container-id-2 div.sk-estimator:hover {background-color: #d4ebff;}#sk-container-id-2 div.sk-parallel-item::after {content: \"\";width: 100%;border-bottom: 1px solid gray;flex-grow: 1;}#sk-container-id-2 div.sk-label:hover label.sk-toggleable__label {background-color: #d4ebff;}#sk-container-id-2 div.sk-serial::before {content: \"\";position: absolute;border-left: 1px solid gray;box-sizing: border-box;top: 0;bottom: 0;left: 50%;z-index: 0;}#sk-container-id-2 div.sk-serial {display: flex;flex-direction: column;align-items: center;background-color: white;padding-right: 0.2em;padding-left: 0.2em;position: relative;}#sk-container-id-2 div.sk-item {position: relative;z-index: 1;}#sk-container-id-2 div.sk-parallel {display: flex;align-items: stretch;justify-content: center;background-color: white;position: relative;}#sk-container-id-2 div.sk-item::before, #sk-container-id-2 div.sk-parallel-item::before {content: \"\";position: absolute;border-left: 1px solid gray;box-sizing: border-box;top: 0;bottom: 0;left: 50%;z-index: -1;}#sk-container-id-2 div.sk-parallel-item {display: flex;flex-direction: column;z-index: 1;position: relative;background-color: white;}#sk-container-id-2 div.sk-parallel-item:first-child::after {align-self: flex-end;width: 50%;}#sk-container-id-2 div.sk-parallel-item:last-child::after {align-self: flex-start;width: 50%;}#sk-container-id-2 div.sk-parallel-item:only-child::after {width: 0;}#sk-container-id-2 div.sk-dashed-wrapped {border: 1px dashed gray;margin: 0 0.4em 0.5em 0.4em;box-sizing: border-box;padding-bottom: 0.4em;background-color: white;}#sk-container-id-2 div.sk-label label {font-family: monospace;font-weight: bold;display: inline-block;line-height: 1.2em;}#sk-container-id-2 div.sk-label-container {text-align: center;}#sk-container-id-2 div.sk-container {/* jupyter's `normalize.less` sets `[hidden] { display: none; }` but bootstrap.min.css set `[hidden] { display: none !important; }` so we also need the `!important` here to be able to override the default hidden behavior on the sphinx rendered scikit-learn.org. See: https://github.com/scikit-learn/scikit-learn/issues/21755 */display: inline-block !important;position: relative;}#sk-container-id-2 div.sk-text-repr-fallback {display: none;}</style><div id=\"sk-container-id-2\" class=\"sk-top-container\"><div class=\"sk-text-repr-fallback\"><pre>MLPClassifier(hidden_layer_sizes=(10, 10, 10), max_iter=693, random_state=3,\n",
              "              solver=&#x27;sgd&#x27;, verbose=True)</pre><b>In a Jupyter environment, please rerun this cell to show the HTML representation or trust the notebook. <br />On GitHub, the HTML representation is unable to render, please try loading this page with nbviewer.org.</b></div><div class=\"sk-container\" hidden><div class=\"sk-item\"><div class=\"sk-estimator sk-toggleable\"><input class=\"sk-toggleable__control sk-hidden--visually\" id=\"sk-estimator-id-2\" type=\"checkbox\" checked><label for=\"sk-estimator-id-2\" class=\"sk-toggleable__label sk-toggleable__label-arrow\">MLPClassifier</label><div class=\"sk-toggleable__content\"><pre>MLPClassifier(hidden_layer_sizes=(10, 10, 10), max_iter=693, random_state=3,\n",
              "              solver=&#x27;sgd&#x27;, verbose=True)</pre></div></div></div></div></div>"
            ]
          },
          "metadata": {},
          "execution_count": 43
        }
      ]
    },
    {
      "cell_type": "code",
      "source": [
        "previsoes = rna.predict(X_test)"
      ],
      "metadata": {
        "id": "7IeNzyHxvowc"
      },
      "execution_count": null,
      "outputs": []
    },
    {
      "cell_type": "code",
      "source": [
        "print(\"Acurácia: %.2f%%\" % (accuracy_score(y_test, previsoes) * 100.0))\n",
        "confusion_matrix(y_test, previsoes)"
      ],
      "metadata": {
        "colab": {
          "base_uri": "https://localhost:8080/"
        },
        "id": "th1pBA0MwCzk",
        "outputId": "63c9d64f-64ae-4932-b6d8-c6400aba3923"
      },
      "execution_count": null,
      "outputs": [
        {
          "output_type": "stream",
          "name": "stdout",
          "text": [
            "Acurácia: 81.34%\n"
          ]
        },
        {
          "output_type": "execute_result",
          "data": {
            "text/plain": [
              "array([[157,  11],\n",
              "       [ 39,  61]])"
            ]
          },
          "metadata": {},
          "execution_count": 45
        }
      ]
    },
    {
      "cell_type": "code",
      "source": [
        "print(classification_report(y_test, previsoes))"
      ],
      "metadata": {
        "colab": {
          "base_uri": "https://localhost:8080/"
        },
        "id": "6v4D5gp3wd1z",
        "outputId": "e75ff971-dbb3-4c50-b683-2e2a0f9e89de"
      },
      "execution_count": null,
      "outputs": [
        {
          "output_type": "stream",
          "name": "stdout",
          "text": [
            "              precision    recall  f1-score   support\n",
            "\n",
            "           0       0.80      0.93      0.86       168\n",
            "           1       0.85      0.61      0.71       100\n",
            "\n",
            "    accuracy                           0.81       268\n",
            "   macro avg       0.82      0.77      0.79       268\n",
            "weighted avg       0.82      0.81      0.81       268\n",
            "\n"
          ]
        }
      ]
    },
    {
      "cell_type": "code",
      "source": [
        "previsoes_treino = rna.predict(X_train)"
      ],
      "metadata": {
        "id": "WzOLL8X9wrZp"
      },
      "execution_count": null,
      "outputs": []
    },
    {
      "cell_type": "code",
      "source": [
        "accuracy_score(y_train, previsoes_treino)"
      ],
      "metadata": {
        "colab": {
          "base_uri": "https://localhost:8080/"
        },
        "id": "at6wVJr9w3Eq",
        "outputId": "c3fc7332-6082-4ba6-b31f-2b0ed992d163"
      },
      "execution_count": null,
      "outputs": [
        {
          "output_type": "execute_result",
          "data": {
            "text/plain": [
              "0.8780096308186196"
            ]
          },
          "metadata": {},
          "execution_count": 49
        }
      ]
    },
    {
      "cell_type": "code",
      "source": [
        "confusion_matrix(y_train, previsoes_treino)"
      ],
      "metadata": {
        "colab": {
          "base_uri": "https://localhost:8080/"
        },
        "id": "nuyCDQVCw78C",
        "outputId": "97ab7b62-af22-432f-c60b-a198cbfd9ca7"
      },
      "execution_count": null,
      "outputs": [
        {
          "output_type": "execute_result",
          "data": {
            "text/plain": [
              "array([[359,  22],\n",
              "       [ 54, 188]])"
            ]
          },
          "metadata": {},
          "execution_count": 50
        }
      ]
    },
    {
      "cell_type": "markdown",
      "source": [
        "# Validacao Cruzada"
      ],
      "metadata": {
        "id": "GosgpBXRxX2r"
      }
    },
    {
      "cell_type": "code",
      "source": [
        "# StratifiedKFold\n",
        "skf = StratifiedKFold(n_splits=10, shuffle=True, random_state=1)\n",
        "lst_accu_stratified = []\n",
        "\n",
        "rna = MLPClassifier(hidden_layer_sizes=(10,10,10), activation='relu', solver='sgd', max_iter = 693, tol=0.0001, random_state = 3)\n",
        "\n",
        "for train_index, test_index in skf.split(X_train, y_train):\n",
        "    x_train_fold, x_test_fold = previsores[train_index], previsores[test_index]\n",
        "    y_train_fold, y_test_fold = alvo[train_index], alvo[test_index]\n",
        "    rna.fit(x_train_fold, y_train_fold)\n",
        "    lst_accu_stratified.append(rna.score(x_test_fold, y_test_fold))\n",
        "\n",
        "print('Lista de ACC:', lst_accu_stratified)\n",
        "print('\\nMaior ACC:',\n",
        "      max(lst_accu_stratified)*100, '%')\n",
        "print('\\nMenor ACC:',\n",
        "      min(lst_accu_stratified)*100, '%')\n",
        "print('\\nMédia ACC:',\n",
        "      sts.mean(lst_accu_stratified)*100, '%')\n",
        "print('\\nDesvio Padrão:', sts.stdev(lst_accu_stratified))"
      ],
      "metadata": {
        "colab": {
          "base_uri": "https://localhost:8080/"
        },
        "id": "tFjqB8qxxbOy",
        "outputId": "23bd1274-28b5-4e9a-91c2-f580a2ff82ae"
      },
      "execution_count": 86,
      "outputs": [
        {
          "output_type": "stream",
          "name": "stderr",
          "text": [
            "/usr/local/lib/python3.10/dist-packages/sklearn/neural_network/_multilayer_perceptron.py:686: ConvergenceWarning: Stochastic Optimizer: Maximum iterations (693) reached and the optimization hasn't converged yet.\n",
            "  warnings.warn(\n",
            "/usr/local/lib/python3.10/dist-packages/sklearn/neural_network/_multilayer_perceptron.py:686: ConvergenceWarning: Stochastic Optimizer: Maximum iterations (693) reached and the optimization hasn't converged yet.\n",
            "  warnings.warn(\n",
            "/usr/local/lib/python3.10/dist-packages/sklearn/neural_network/_multilayer_perceptron.py:686: ConvergenceWarning: Stochastic Optimizer: Maximum iterations (693) reached and the optimization hasn't converged yet.\n",
            "  warnings.warn(\n",
            "/usr/local/lib/python3.10/dist-packages/sklearn/neural_network/_multilayer_perceptron.py:686: ConvergenceWarning: Stochastic Optimizer: Maximum iterations (693) reached and the optimization hasn't converged yet.\n",
            "  warnings.warn(\n",
            "/usr/local/lib/python3.10/dist-packages/sklearn/neural_network/_multilayer_perceptron.py:686: ConvergenceWarning: Stochastic Optimizer: Maximum iterations (693) reached and the optimization hasn't converged yet.\n",
            "  warnings.warn(\n",
            "/usr/local/lib/python3.10/dist-packages/sklearn/neural_network/_multilayer_perceptron.py:686: ConvergenceWarning: Stochastic Optimizer: Maximum iterations (693) reached and the optimization hasn't converged yet.\n",
            "  warnings.warn(\n",
            "/usr/local/lib/python3.10/dist-packages/sklearn/neural_network/_multilayer_perceptron.py:686: ConvergenceWarning: Stochastic Optimizer: Maximum iterations (693) reached and the optimization hasn't converged yet.\n",
            "  warnings.warn(\n",
            "/usr/local/lib/python3.10/dist-packages/sklearn/neural_network/_multilayer_perceptron.py:686: ConvergenceWarning: Stochastic Optimizer: Maximum iterations (693) reached and the optimization hasn't converged yet.\n",
            "  warnings.warn(\n",
            "/usr/local/lib/python3.10/dist-packages/sklearn/neural_network/_multilayer_perceptron.py:686: ConvergenceWarning: Stochastic Optimizer: Maximum iterations (693) reached and the optimization hasn't converged yet.\n",
            "  warnings.warn(\n"
          ]
        },
        {
          "output_type": "stream",
          "name": "stdout",
          "text": [
            "Lista de ACC: [0.7142857142857143, 0.5714285714285714, 0.6666666666666666, 0.8387096774193549, 0.7096774193548387, 0.7096774193548387, 0.7096774193548387, 0.7258064516129032, 0.7741935483870968, 0.8225806451612904]\n",
            "\n",
            "Maior ACC: 83.87096774193549 %\n",
            "\n",
            "Menor ACC: 57.14285714285714 %\n",
            "\n",
            "Média ACC: 72.42703533026113 %\n",
            "\n",
            "Desvio Padrão: 0.07650221970308503\n"
          ]
        },
        {
          "output_type": "stream",
          "name": "stderr",
          "text": [
            "/usr/local/lib/python3.10/dist-packages/sklearn/neural_network/_multilayer_perceptron.py:686: ConvergenceWarning: Stochastic Optimizer: Maximum iterations (693) reached and the optimization hasn't converged yet.\n",
            "  warnings.warn(\n"
          ]
        }
      ]
    },
    {
      "cell_type": "code",
      "source": [
        "y_pred = rna.predict(X_test)"
      ],
      "metadata": {
        "id": "krasxJStxpo5"
      },
      "execution_count": null,
      "outputs": []
    },
    {
      "cell_type": "code",
      "source": [
        "accuracy_score(y_test,y_pred)"
      ],
      "metadata": {
        "colab": {
          "base_uri": "https://localhost:8080/"
        },
        "id": "QY25XYj8xu1I",
        "outputId": "1e6b1c76-3d11-4cdf-9fb7-3498e2132d0a"
      },
      "execution_count": null,
      "outputs": [
        {
          "output_type": "execute_result",
          "data": {
            "text/plain": [
              "0.5261194029850746"
            ]
          },
          "metadata": {},
          "execution_count": 54
        }
      ]
    },
    {
      "cell_type": "code",
      "source": [
        "cm = confusion_matrix(y_test, y_pred)\n",
        "ConfusionMatrixDisplay(cm).plot()"
      ],
      "metadata": {
        "colab": {
          "base_uri": "https://localhost:8080/",
          "height": 466
        },
        "id": "H9Ln3BU7x1m6",
        "outputId": "275880e9-ef75-4641-9d6e-7dd0a2da3627"
      },
      "execution_count": null,
      "outputs": [
        {
          "output_type": "execute_result",
          "data": {
            "text/plain": [
              "<sklearn.metrics._plot.confusion_matrix.ConfusionMatrixDisplay at 0x7fbeeb3c49d0>"
            ]
          },
          "metadata": {},
          "execution_count": 55
        },
        {
          "output_type": "display_data",
          "data": {
            "text/plain": [
              "<Figure size 640x480 with 2 Axes>"
            ],
            "image/png": "[encoded data removed]"
          },
          "metadata": {}
        }
      ]
    },
    {
      "cell_type": "markdown",
      "source": [
        "# GridSearchCV"
      ],
      "metadata": {
        "id": "qpuu0z_36zAE"
      }
    },
    {
      "cell_type": "code",
      "source": [
        "sm = SMOTE()\n",
        "x_train_oversampled, y_train_oversampled = sm.fit_resample(X_train, y_train)\n",
        "\n",
        "rna_param_grid = {\n",
        "    'hidden_layer_sizes': [(10,10,10)],\n",
        "    'activation': ['relu'],\n",
        "    'solver': ['sgd'],\n",
        "    'alpha': [0.0001],\n",
        "    'learning_rate': ['constant'],\n",
        "}\n",
        "\n",
        "grid_search_rna = GridSearchCV(estimator=rna, param_grid=rna_param_grid, cv=10)\n",
        "grid_search_rna.fit(x_train_oversampled, y_train_oversampled);\n",
        "print(grid_search_rna.best_params_)"
      ],
      "metadata": {
        "colab": {
          "base_uri": "https://localhost:8080/"
        },
        "id": "qInGP8cw63Xe",
        "outputId": "972e9209-8aa5-4635-dd65-d98e25cf1d8c"
      },
      "execution_count": 90,
      "outputs": [
        {
          "output_type": "stream",
          "name": "stderr",
          "text": [
            "/usr/local/lib/python3.10/dist-packages/sklearn/neural_network/_multilayer_perceptron.py:686: ConvergenceWarning: Stochastic Optimizer: Maximum iterations (693) reached and the optimization hasn't converged yet.\n",
            "  warnings.warn(\n",
            "/usr/local/lib/python3.10/dist-packages/sklearn/neural_network/_multilayer_perceptron.py:686: ConvergenceWarning: Stochastic Optimizer: Maximum iterations (693) reached and the optimization hasn't converged yet.\n",
            "  warnings.warn(\n",
            "/usr/local/lib/python3.10/dist-packages/sklearn/neural_network/_multilayer_perceptron.py:686: ConvergenceWarning: Stochastic Optimizer: Maximum iterations (693) reached and the optimization hasn't converged yet.\n",
            "  warnings.warn(\n",
            "/usr/local/lib/python3.10/dist-packages/sklearn/neural_network/_multilayer_perceptron.py:686: ConvergenceWarning: Stochastic Optimizer: Maximum iterations (693) reached and the optimization hasn't converged yet.\n",
            "  warnings.warn(\n",
            "/usr/local/lib/python3.10/dist-packages/sklearn/neural_network/_multilayer_perceptron.py:686: ConvergenceWarning: Stochastic Optimizer: Maximum iterations (693) reached and the optimization hasn't converged yet.\n",
            "  warnings.warn(\n",
            "/usr/local/lib/python3.10/dist-packages/sklearn/neural_network/_multilayer_perceptron.py:686: ConvergenceWarning: Stochastic Optimizer: Maximum iterations (693) reached and the optimization hasn't converged yet.\n",
            "  warnings.warn(\n",
            "/usr/local/lib/python3.10/dist-packages/sklearn/neural_network/_multilayer_perceptron.py:686: ConvergenceWarning: Stochastic Optimizer: Maximum iterations (693) reached and the optimization hasn't converged yet.\n",
            "  warnings.warn(\n",
            "/usr/local/lib/python3.10/dist-packages/sklearn/neural_network/_multilayer_perceptron.py:686: ConvergenceWarning: Stochastic Optimizer: Maximum iterations (693) reached and the optimization hasn't converged yet.\n",
            "  warnings.warn(\n",
            "/usr/local/lib/python3.10/dist-packages/sklearn/neural_network/_multilayer_perceptron.py:686: ConvergenceWarning: Stochastic Optimizer: Maximum iterations (693) reached and the optimization hasn't converged yet.\n",
            "  warnings.warn(\n",
            "/usr/local/lib/python3.10/dist-packages/sklearn/neural_network/_multilayer_perceptron.py:686: ConvergenceWarning: Stochastic Optimizer: Maximum iterations (693) reached and the optimization hasn't converged yet.\n",
            "  warnings.warn(\n"
          ]
        },
        {
          "output_type": "stream",
          "name": "stdout",
          "text": [
            "{'activation': 'relu', 'alpha': 0.0001, 'hidden_layer_sizes': (10, 10, 10), 'learning_rate': 'constant', 'solver': 'sgd'}\n"
          ]
        },
        {
          "output_type": "stream",
          "name": "stderr",
          "text": [
            "/usr/local/lib/python3.10/dist-packages/sklearn/neural_network/_multilayer_perceptron.py:686: ConvergenceWarning: Stochastic Optimizer: Maximum iterations (693) reached and the optimization hasn't converged yet.\n",
            "  warnings.warn(\n"
          ]
        }
      ]
    },
    {
      "cell_type": "code",
      "source": [
        "# criacao de novo df com os dados carregados\n",
        "g_results_rna =  pd.DataFrame(grid_search_rna.cv_results_)\n",
        "# media das acuracias\n",
        "g_results_rna.loc[grid_search_rna.best_index_,'mean_test_score']"
      ],
      "metadata": {
        "colab": {
          "base_uri": "https://localhost:8080/"
        },
        "id": "bKqRr2ER7i2g",
        "outputId": "60e0f3be-cbfc-4575-cc9b-394db14e4ee8"
      },
      "execution_count": 106,
      "outputs": [
        {
          "output_type": "execute_result",
          "data": {
            "text/plain": [
              "0.8150205058099795"
            ]
          },
          "metadata": {},
          "execution_count": 106
        }
      ]
    },
    {
      "cell_type": "code",
      "source": [
        "m = grid_search_rna.best_estimator_\n",
        "m.score(X_test,y_test)"
      ],
      "metadata": {
        "colab": {
          "base_uri": "https://localhost:8080/"
        },
        "id": "QrGAcFXz7v79",
        "outputId": "7216abe4-01cf-416a-f1ce-b0aa23201852"
      },
      "execution_count": 93,
      "outputs": [
        {
          "output_type": "execute_result",
          "data": {
            "text/plain": [
              "0.7985074626865671"
            ]
          },
          "metadata": {},
          "execution_count": 93
        }
      ]
    },
    {
      "cell_type": "markdown",
      "source": [
        "# RandomizedSearchCV"
      ],
      "metadata": {
        "id": "cNKHrnlm7-TM"
      }
    },
    {
      "cell_type": "code",
      "source": [
        "r_search_rna = RandomizedSearchCV(estimator = rna, param_distributions = rna_param_grid,\n",
        "                        n_iter= 10, cv = 10, return_train_score=True, refit = True)\n",
        "\n",
        "# balanceamento\n",
        "sm = SMOTE()\n",
        "x_train_oversampled, y_train_oversampled = sm.fit_resample(X_train, y_train)\n",
        "r_search_rna.fit(x_train_oversampled, y_train_oversampled);\n",
        "print(r_search_rna.best_params_)\n",
        "print(r_search_rna.best_score_)"
      ],
      "metadata": {
        "colab": {
          "base_uri": "https://localhost:8080/"
        },
        "id": "D5JZJVEo8A8I",
        "outputId": "6207832b-c389-4c29-dd7f-d28e7318060f"
      },
      "execution_count": 96,
      "outputs": [
        {
          "output_type": "stream",
          "name": "stderr",
          "text": [
            "/usr/local/lib/python3.10/dist-packages/sklearn/model_selection/_search.py:305: UserWarning: The total space of parameters 1 is smaller than n_iter=10. Running 1 iterations. For exhaustive searches, use GridSearchCV.\n",
            "  warnings.warn(\n",
            "/usr/local/lib/python3.10/dist-packages/sklearn/neural_network/_multilayer_perceptron.py:686: ConvergenceWarning: Stochastic Optimizer: Maximum iterations (693) reached and the optimization hasn't converged yet.\n",
            "  warnings.warn(\n",
            "/usr/local/lib/python3.10/dist-packages/sklearn/neural_network/_multilayer_perceptron.py:686: ConvergenceWarning: Stochastic Optimizer: Maximum iterations (693) reached and the optimization hasn't converged yet.\n",
            "  warnings.warn(\n",
            "/usr/local/lib/python3.10/dist-packages/sklearn/neural_network/_multilayer_perceptron.py:686: ConvergenceWarning: Stochastic Optimizer: Maximum iterations (693) reached and the optimization hasn't converged yet.\n",
            "  warnings.warn(\n",
            "/usr/local/lib/python3.10/dist-packages/sklearn/neural_network/_multilayer_perceptron.py:686: ConvergenceWarning: Stochastic Optimizer: Maximum iterations (693) reached and the optimization hasn't converged yet.\n",
            "  warnings.warn(\n",
            "/usr/local/lib/python3.10/dist-packages/sklearn/neural_network/_multilayer_perceptron.py:686: ConvergenceWarning: Stochastic Optimizer: Maximum iterations (693) reached and the optimization hasn't converged yet.\n",
            "  warnings.warn(\n",
            "/usr/local/lib/python3.10/dist-packages/sklearn/neural_network/_multilayer_perceptron.py:686: ConvergenceWarning: Stochastic Optimizer: Maximum iterations (693) reached and the optimization hasn't converged yet.\n",
            "  warnings.warn(\n",
            "/usr/local/lib/python3.10/dist-packages/sklearn/neural_network/_multilayer_perceptron.py:686: ConvergenceWarning: Stochastic Optimizer: Maximum iterations (693) reached and the optimization hasn't converged yet.\n",
            "  warnings.warn(\n",
            "/usr/local/lib/python3.10/dist-packages/sklearn/neural_network/_multilayer_perceptron.py:686: ConvergenceWarning: Stochastic Optimizer: Maximum iterations (693) reached and the optimization hasn't converged yet.\n",
            "  warnings.warn(\n",
            "/usr/local/lib/python3.10/dist-packages/sklearn/neural_network/_multilayer_perceptron.py:686: ConvergenceWarning: Stochastic Optimizer: Maximum iterations (693) reached and the optimization hasn't converged yet.\n",
            "  warnings.warn(\n",
            "/usr/local/lib/python3.10/dist-packages/sklearn/neural_network/_multilayer_perceptron.py:686: ConvergenceWarning: Stochastic Optimizer: Maximum iterations (693) reached and the optimization hasn't converged yet.\n",
            "  warnings.warn(\n"
          ]
        },
        {
          "output_type": "stream",
          "name": "stdout",
          "text": [
            "{'solver': 'sgd', 'learning_rate': 'constant', 'hidden_layer_sizes': (10, 10, 10), 'alpha': 0.0001, 'activation': 'relu'}\n",
            "0.8032125768967875\n"
          ]
        },
        {
          "output_type": "stream",
          "name": "stderr",
          "text": [
            "/usr/local/lib/python3.10/dist-packages/sklearn/neural_network/_multilayer_perceptron.py:686: ConvergenceWarning: Stochastic Optimizer: Maximum iterations (693) reached and the optimization hasn't converged yet.\n",
            "  warnings.warn(\n"
          ]
        }
      ]
    },
    {
      "cell_type": "code",
      "source": [
        "model_r_rna = r_search_rna.best_estimator_\n",
        "model_r_rna.score(X_test, y_test)"
      ],
      "metadata": {
        "colab": {
          "base_uri": "https://localhost:8080/"
        },
        "id": "gUSO3tGo8RJh",
        "outputId": "7153ace1-8397-4d4e-9c8f-c2c2604a5f1f"
      },
      "execution_count": 98,
      "outputs": [
        {
          "output_type": "execute_result",
          "data": {
            "text/plain": [
              "0.7798507462686567"
            ]
          },
          "metadata": {},
          "execution_count": 98
        }
      ]
    },
    {
      "cell_type": "markdown",
      "source": [
        "# **Decision Tree**"
      ],
      "metadata": {
        "id": "JeLZukRYx_HP"
      }
    },
    {
      "cell_type": "code",
      "source": [
        "clf = DecisionTreeClassifier(criterion=\"entropy\")\n",
        "clf.fit(X_train, y_train)\n",
        "y_pred_tree = clf.predict(X_test)\n",
        "accuracy_score(y_test,y_pred_tree)"
      ],
      "metadata": {
        "colab": {
          "base_uri": "https://localhost:8080/"
        },
        "id": "21484FNFyCG_",
        "outputId": "719e54a0-cd43-4aa5-847a-2a5c890d95a9"
      },
      "execution_count": null,
      "outputs": [
        {
          "output_type": "execute_result",
          "data": {
            "text/plain": [
              "0.7574626865671642"
            ]
          },
          "metadata": {},
          "execution_count": 59
        }
      ]
    },
    {
      "cell_type": "code",
      "source": [
        "# StratifiedKFold\n",
        "skf = StratifiedKFold(n_splits=10, shuffle=True, random_state=1)\n",
        "lst_accu_stratified = []\n",
        "\n",
        "for train_index, test_index in skf.split(X_train, y_train):\n",
        "    x_train_fold, x_test_fold = previsores[train_index], previsores[test_index]\n",
        "    y_train_fold, y_test_fold = alvo[train_index], alvo[test_index]\n",
        "    clf.fit(x_train_fold, y_train_fold)\n",
        "    lst_accu_stratified.append(clf.score(x_test_fold, y_test_fold))\n",
        "\n",
        "print('Lista de ACC:', lst_accu_stratified)\n",
        "print('\\nMaior ACC:',\n",
        "      max(lst_accu_stratified)*100, '%')\n",
        "print('\\nMenor ACC:',\n",
        "      min(lst_accu_stratified)*100, '%')\n",
        "print('\\nMédia ACC:',\n",
        "      sts.mean(lst_accu_stratified)*100, '%')\n",
        "print('\\nDesvio Padrão:', sts.stdev(lst_accu_stratified))"
      ],
      "metadata": {
        "colab": {
          "base_uri": "https://localhost:8080/"
        },
        "id": "w8CJIldRyVBH",
        "outputId": "d3e0650f-c737-4c7c-831c-972e06b30bb9"
      },
      "execution_count": null,
      "outputs": [
        {
          "output_type": "stream",
          "name": "stdout",
          "text": [
            "Lista de ACC: [0.8095238095238095, 0.6984126984126984, 0.8412698412698413, 0.8387096774193549, 0.8548387096774194, 0.7903225806451613, 0.7419354838709677, 0.7258064516129032, 0.8225806451612904, 0.7741935483870968]\n",
            "\n",
            "Maior ACC: 85.48387096774194 %\n",
            "\n",
            "Menor ACC: 69.84126984126983 %\n",
            "\n",
            "Média ACC: 78.97593445980543 %\n",
            "\n",
            "Desvio Padrão: 0.05345462992746447\n"
          ]
        }
      ]
    },
    {
      "cell_type": "code",
      "source": [
        "y_pred_tree = clf.predict(X_test)\n",
        "accuracy_score(y_test,y_pred_tree)"
      ],
      "metadata": {
        "colab": {
          "base_uri": "https://localhost:8080/"
        },
        "id": "LkXXVcQxy3zg",
        "outputId": "b1bfa707-89be-432c-ffca-b252c27166a1"
      },
      "execution_count": null,
      "outputs": [
        {
          "output_type": "execute_result",
          "data": {
            "text/plain": [
              "0.6194029850746269"
            ]
          },
          "metadata": {},
          "execution_count": 61
        }
      ]
    },
    {
      "cell_type": "code",
      "source": [
        "cm = confusion_matrix(y_test, y_pred_tree)\n",
        "ConfusionMatrixDisplay(cm).plot()"
      ],
      "metadata": {
        "colab": {
          "base_uri": "https://localhost:8080/",
          "height": 470
        },
        "id": "fZnYGnfKzCI2",
        "outputId": "087b4885-3a64-4c48-e94d-424e51d76e3a"
      },
      "execution_count": null,
      "outputs": [
        {
          "output_type": "execute_result",
          "data": {
            "text/plain": [
              "<sklearn.metrics._plot.confusion_matrix.ConfusionMatrixDisplay at 0x7fbeeb003cd0>"
            ]
          },
          "metadata": {},
          "execution_count": 63
        },
        {
          "output_type": "display_data",
          "data": {
            "text/plain": [
              "<Figure size 640x480 with 2 Axes>"
            ],
            "image/png": "[encoded data removed]"
          },
          "metadata": {}
        }
      ]
    },
    {
      "cell_type": "markdown",
      "source": [
        "# **GridSearchCV para Árvore**\n"
      ],
      "metadata": {
        "id": "ys85mfqSzMGJ"
      }
    },
    {
      "cell_type": "code",
      "source": [
        "# Aplica Balanceamento de Classe\n",
        "sm = SMOTE()\n",
        "x_train_oversampled, y_train_oversampled = sm.fit_resample(X_train, y_train)\n",
        "\n",
        "tree_param_grid = {'max_features': ['sqrt', 'log2'],\n",
        "              'ccp_alpha': [0.1, .01, .001],\n",
        "              'max_depth' : [5, 6, 7, 8, 9],\n",
        "              'criterion' :['gini', 'entropy']\n",
        "             }\n",
        "\n",
        "grid_search_tree = GridSearchCV(estimator=clf, param_grid=tree_param_grid, cv=10, verbose=True)\n",
        "# treinamento\n",
        "grid_search_tree.fit(x_train_oversampled, y_train_oversampled);\n",
        "print(grid_search_tree.best_params_)"
      ],
      "metadata": {
        "colab": {
          "base_uri": "https://localhost:8080/"
        },
        "id": "s_V3GCzJzNI1",
        "outputId": "9a2f949c-a63a-4235-f76a-9b8a52bf76de"
      },
      "execution_count": 78,
      "outputs": [
        {
          "output_type": "stream",
          "name": "stdout",
          "text": [
            "Fitting 10 folds for each of 60 candidates, totalling 600 fits\n",
            "{'ccp_alpha': 0.001, 'criterion': 'gini', 'max_depth': 8, 'max_features': 'sqrt'}\n"
          ]
        }
      ]
    },
    {
      "cell_type": "code",
      "source": [
        "# criacao de novo df com os dados carregados\n",
        "g_results_tree =  pd.DataFrame(grid_search_tree.cv_results_)\n",
        "# media das acuracias\n",
        "g_results_tree.loc[grid_search_tree.best_index_,'mean_test_score']"
      ],
      "metadata": {
        "colab": {
          "base_uri": "https://localhost:8080/"
        },
        "id": "-Kvw-Lhrzd2d",
        "outputId": "d9e019ff-69f7-47b2-8e62-0e25d4eb284d"
      },
      "execution_count": 107,
      "outputs": [
        {
          "output_type": "execute_result",
          "data": {
            "text/plain": [
              "0.7191216678058783"
            ]
          },
          "metadata": {},
          "execution_count": 107
        }
      ]
    },
    {
      "cell_type": "code",
      "source": [
        "m = grid_search_tree.best_estimator_\n",
        "m.score(X_test,y_test)"
      ],
      "metadata": {
        "colab": {
          "base_uri": "https://localhost:8080/"
        },
        "id": "VQ8ApLEbzlBs",
        "outputId": "e926b636-f4c7-4195-e1bc-71b013368f6e"
      },
      "execution_count": 80,
      "outputs": [
        {
          "output_type": "execute_result",
          "data": {
            "text/plain": [
              "0.667910447761194"
            ]
          },
          "metadata": {},
          "execution_count": 80
        }
      ]
    },
    {
      "cell_type": "markdown",
      "source": [
        "# **RandomizedSearchCV para Árvore**\n"
      ],
      "metadata": {
        "id": "dE1EH_e9zvRV"
      }
    },
    {
      "cell_type": "code",
      "source": [
        "r_search_tree = RandomizedSearchCV(estimator = clf, param_distributions = tree_param_grid,\n",
        "                        n_iter= 10, cv = 10, return_train_score=True, refit = True)\n",
        "\n",
        "# balanceamento\n",
        "sm = SMOTE()\n",
        "x_train_oversampled, y_train_oversampled = sm.fit_resample(X_train, y_train)\n",
        "r_search_tree.fit(x_train_oversampled, y_train_oversampled);\n",
        "print(r_search_tree.best_params_)\n",
        "print(r_search_tree.best_score_)"
      ],
      "metadata": {
        "colab": {
          "base_uri": "https://localhost:8080/"
        },
        "id": "_FQCfuLyzwNs",
        "outputId": "b0db96f0-24bc-413f-d0ea-b26ec3b664e9"
      },
      "execution_count": null,
      "outputs": [
        {
          "output_type": "stream",
          "name": "stdout",
          "text": [
            "{'max_features': 'sqrt', 'max_depth': 6, 'criterion': 'gini', 'ccp_alpha': 0.001}\n",
            "0.6708646616541354\n"
          ]
        }
      ]
    },
    {
      "cell_type": "code",
      "source": [
        "model_r_tree = r_search_tree.best_estimator_\n",
        "model_r_tree.score(X_test, y_test)"
      ],
      "metadata": {
        "colab": {
          "base_uri": "https://localhost:8080/"
        },
        "id": "0HV9hXsS0HLk",
        "outputId": "bfee4e6e-2d2c-4406-abdb-4872ebbfe2e7"
      },
      "execution_count": 108,
      "outputs": [
        {
          "output_type": "execute_result",
          "data": {
            "text/plain": [
              "0.6268656716417911"
            ]
          },
          "metadata": {},
          "execution_count": 108
        }
      ]
    },
    {
      "cell_type": "markdown",
      "source": [
        "# **Tensorflow**"
      ],
      "metadata": {
        "id": "DB6ED6TJ0bBz"
      }
    },
    {
      "cell_type": "code",
      "source": [
        "model = tf.keras.Sequential([\n",
        "tf.keras.layers.Dense(units=1,input_shape=[len(df.columns)-1])])\n",
        "\n",
        "model.summary()"
      ],
      "metadata": {
        "colab": {
          "base_uri": "https://localhost:8080/"
        },
        "id": "H-P5NA5x0c1c",
        "outputId": "4038cc16-4200-4ddd-b2c6-1dba73ee1bd0"
      },
      "execution_count": null,
      "outputs": [
        {
          "output_type": "stream",
          "name": "stdout",
          "text": [
            "Model: \"sequential\"\n",
            "_________________________________________________________________\n",
            " Layer (type)                Output Shape              Param #   \n",
            "=================================================================\n",
            " dense (Dense)               (None, 1)                 242       \n",
            "                                                                 \n",
            "=================================================================\n",
            "Total params: 242\n",
            "Trainable params: 242\n",
            "Non-trainable params: 0\n",
            "_________________________________________________________________\n"
          ]
        }
      ]
    },
    {
      "cell_type": "code",
      "source": [
        "model = tf.keras.Sequential([tf.keras.layers.Dense(units=100, activation='relu', input_shape=[len(df.columns)-1]), tf.keras.layers.Dense(units=1)])\n",
        "model.summary()"
      ],
      "metadata": {
        "colab": {
          "base_uri": "https://localhost:8080/"
        },
        "id": "fXhULmnU0iPc",
        "outputId": "6b68aa8f-7fdb-47e1-f482-a65b14ec6320"
      },
      "execution_count": null,
      "outputs": [
        {
          "output_type": "stream",
          "name": "stdout",
          "text": [
            "Model: \"sequential_1\"\n",
            "_________________________________________________________________\n",
            " Layer (type)                Output Shape              Param #   \n",
            "=================================================================\n",
            " dense_1 (Dense)             (None, 100)               24200     \n",
            "                                                                 \n",
            " dense_2 (Dense)             (None, 1)                 101       \n",
            "                                                                 \n",
            "=================================================================\n",
            "Total params: 24,301\n",
            "Trainable params: 24,301\n",
            "Non-trainable params: 0\n",
            "_________________________________________________________________\n"
          ]
        }
      ]
    },
    {
      "cell_type": "code",
      "source": [
        "model.compile(optimizer='adam', loss='mae', metrics=[tf.keras.metrics.BinaryAccuracy()])\n",
        "losses = model.fit(X_train, y_train, validation_data=(X_test, y_test), batch_size=256, epochs=100, )\n"
      ],
      "metadata": {
        "colab": {
          "base_uri": "https://localhost:8080/"
        },
        "id": "UOLYRhSO0k4a",
        "outputId": "d4451a5a-2ec2-44ed-a734-3c6a2ab6a4f3"
      },
      "execution_count": null,
      "outputs": [
        {
          "output_type": "stream",
          "name": "stdout",
          "text": [
            "Epoch 1/100\n",
            "3/3 [==============================] - 1s 196ms/step - loss: 0.3963 - binary_accuracy: 0.6116 - val_loss: 0.3740 - val_binary_accuracy: 0.6269\n",
            "Epoch 2/100\n",
            "3/3 [==============================] - 0s 44ms/step - loss: 0.3810 - binary_accuracy: 0.6116 - val_loss: 0.3659 - val_binary_accuracy: 0.6269\n",
            "Epoch 3/100\n",
            "3/3 [==============================] - 0s 43ms/step - loss: 0.3675 - binary_accuracy: 0.6116 - val_loss: 0.3613 - val_binary_accuracy: 0.6269\n",
            "Epoch 4/100\n",
            "3/3 [==============================] - 0s 43ms/step - loss: 0.3581 - binary_accuracy: 0.6100 - val_loss: 0.3571 - val_binary_accuracy: 0.6269\n",
            "Epoch 5/100\n",
            "3/3 [==============================] - 0s 43ms/step - loss: 0.3499 - binary_accuracy: 0.6100 - val_loss: 0.3526 - val_binary_accuracy: 0.6269\n",
            "Epoch 6/100\n",
            "3/3 [==============================] - 0s 44ms/step - loss: 0.3412 - binary_accuracy: 0.6116 - val_loss: 0.3496 - val_binary_accuracy: 0.6269\n",
            "Epoch 7/100\n",
            "3/3 [==============================] - 0s 44ms/step - loss: 0.3328 - binary_accuracy: 0.6212 - val_loss: 0.3458 - val_binary_accuracy: 0.6269\n",
            "Epoch 8/100\n",
            "3/3 [==============================] - 0s 37ms/step - loss: 0.3245 - binary_accuracy: 0.6292 - val_loss: 0.3419 - val_binary_accuracy: 0.6343\n",
            "Epoch 9/100\n",
            "3/3 [==============================] - 0s 38ms/step - loss: 0.3157 - binary_accuracy: 0.6437 - val_loss: 0.3380 - val_binary_accuracy: 0.6455\n",
            "Epoch 10/100\n",
            "3/3 [==============================] - 0s 28ms/step - loss: 0.3066 - binary_accuracy: 0.6613 - val_loss: 0.3342 - val_binary_accuracy: 0.6567\n",
            "Epoch 11/100\n",
            "3/3 [==============================] - 0s 36ms/step - loss: 0.2978 - binary_accuracy: 0.6982 - val_loss: 0.3294 - val_binary_accuracy: 0.6604\n",
            "Epoch 12/100\n",
            "3/3 [==============================] - 0s 32ms/step - loss: 0.2881 - binary_accuracy: 0.7191 - val_loss: 0.3250 - val_binary_accuracy: 0.6716\n",
            "Epoch 13/100\n",
            "3/3 [==============================] - 0s 21ms/step - loss: 0.2783 - binary_accuracy: 0.7480 - val_loss: 0.3208 - val_binary_accuracy: 0.6828\n",
            "Epoch 14/100\n",
            "3/3 [==============================] - 0s 21ms/step - loss: 0.2694 - binary_accuracy: 0.7640 - val_loss: 0.3164 - val_binary_accuracy: 0.7015\n",
            "Epoch 15/100\n",
            "3/3 [==============================] - 0s 20ms/step - loss: 0.2594 - binary_accuracy: 0.7737 - val_loss: 0.3113 - val_binary_accuracy: 0.6940\n",
            "Epoch 16/100\n",
            "3/3 [==============================] - 0s 33ms/step - loss: 0.2499 - binary_accuracy: 0.7929 - val_loss: 0.3065 - val_binary_accuracy: 0.7201\n",
            "Epoch 17/100\n",
            "3/3 [==============================] - 0s 23ms/step - loss: 0.2403 - binary_accuracy: 0.8058 - val_loss: 0.3020 - val_binary_accuracy: 0.7351\n",
            "Epoch 18/100\n",
            "3/3 [==============================] - 0s 23ms/step - loss: 0.2323 - binary_accuracy: 0.8234 - val_loss: 0.2980 - val_binary_accuracy: 0.7463\n",
            "Epoch 19/100\n",
            "3/3 [==============================] - 0s 29ms/step - loss: 0.2253 - binary_accuracy: 0.8411 - val_loss: 0.2940 - val_binary_accuracy: 0.7575\n",
            "Epoch 20/100\n",
            "3/3 [==============================] - 0s 20ms/step - loss: 0.2191 - binary_accuracy: 0.8443 - val_loss: 0.2912 - val_binary_accuracy: 0.7575\n",
            "Epoch 21/100\n",
            "3/3 [==============================] - 0s 27ms/step - loss: 0.2136 - binary_accuracy: 0.8475 - val_loss: 0.2885 - val_binary_accuracy: 0.7612\n",
            "Epoch 22/100\n",
            "3/3 [==============================] - 0s 27ms/step - loss: 0.2097 - binary_accuracy: 0.8459 - val_loss: 0.2869 - val_binary_accuracy: 0.7537\n",
            "Epoch 23/100\n",
            "3/3 [==============================] - 0s 20ms/step - loss: 0.2068 - binary_accuracy: 0.8459 - val_loss: 0.2849 - val_binary_accuracy: 0.7537\n",
            "Epoch 24/100\n",
            "3/3 [==============================] - 0s 21ms/step - loss: 0.2042 - binary_accuracy: 0.8491 - val_loss: 0.2833 - val_binary_accuracy: 0.7500\n",
            "Epoch 25/100\n",
            "3/3 [==============================] - 0s 20ms/step - loss: 0.2006 - binary_accuracy: 0.8507 - val_loss: 0.2820 - val_binary_accuracy: 0.7537\n",
            "Epoch 26/100\n",
            "3/3 [==============================] - 0s 20ms/step - loss: 0.1969 - binary_accuracy: 0.8539 - val_loss: 0.2815 - val_binary_accuracy: 0.7537\n",
            "Epoch 27/100\n",
            "3/3 [==============================] - 0s 23ms/step - loss: 0.1933 - binary_accuracy: 0.8571 - val_loss: 0.2806 - val_binary_accuracy: 0.7537\n",
            "Epoch 28/100\n",
            "3/3 [==============================] - 0s 33ms/step - loss: 0.1902 - binary_accuracy: 0.8587 - val_loss: 0.2800 - val_binary_accuracy: 0.7537\n",
            "Epoch 29/100\n",
            "3/3 [==============================] - 0s 25ms/step - loss: 0.1870 - binary_accuracy: 0.8587 - val_loss: 0.2789 - val_binary_accuracy: 0.7575\n",
            "Epoch 30/100\n",
            "3/3 [==============================] - 0s 19ms/step - loss: 0.1843 - binary_accuracy: 0.8652 - val_loss: 0.2780 - val_binary_accuracy: 0.7761\n",
            "Epoch 31/100\n",
            "3/3 [==============================] - 0s 19ms/step - loss: 0.1817 - binary_accuracy: 0.8748 - val_loss: 0.2771 - val_binary_accuracy: 0.7799\n",
            "Epoch 32/100\n",
            "3/3 [==============================] - 0s 20ms/step - loss: 0.1791 - binary_accuracy: 0.8748 - val_loss: 0.2762 - val_binary_accuracy: 0.7799\n",
            "Epoch 33/100\n",
            "3/3 [==============================] - 0s 23ms/step - loss: 0.1770 - binary_accuracy: 0.8764 - val_loss: 0.2759 - val_binary_accuracy: 0.7799\n",
            "Epoch 34/100\n",
            "3/3 [==============================] - 0s 20ms/step - loss: 0.1750 - binary_accuracy: 0.8764 - val_loss: 0.2745 - val_binary_accuracy: 0.7873\n",
            "Epoch 35/100\n",
            "3/3 [==============================] - 0s 20ms/step - loss: 0.1727 - binary_accuracy: 0.8780 - val_loss: 0.2730 - val_binary_accuracy: 0.7910\n",
            "Epoch 36/100\n",
            "3/3 [==============================] - 0s 22ms/step - loss: 0.1710 - binary_accuracy: 0.8812 - val_loss: 0.2714 - val_binary_accuracy: 0.7948\n",
            "Epoch 37/100\n",
            "3/3 [==============================] - 0s 23ms/step - loss: 0.1690 - binary_accuracy: 0.8828 - val_loss: 0.2692 - val_binary_accuracy: 0.8060\n",
            "Epoch 38/100\n",
            "3/3 [==============================] - 0s 21ms/step - loss: 0.1672 - binary_accuracy: 0.8828 - val_loss: 0.2684 - val_binary_accuracy: 0.8060\n",
            "Epoch 39/100\n",
            "3/3 [==============================] - 0s 20ms/step - loss: 0.1651 - binary_accuracy: 0.8828 - val_loss: 0.2682 - val_binary_accuracy: 0.8022\n",
            "Epoch 40/100\n",
            "3/3 [==============================] - 0s 27ms/step - loss: 0.1644 - binary_accuracy: 0.8844 - val_loss: 0.2672 - val_binary_accuracy: 0.8060\n",
            "Epoch 41/100\n",
            "3/3 [==============================] - 0s 19ms/step - loss: 0.1630 - binary_accuracy: 0.8844 - val_loss: 0.2664 - val_binary_accuracy: 0.8060\n",
            "Epoch 42/100\n",
            "3/3 [==============================] - 0s 27ms/step - loss: 0.1612 - binary_accuracy: 0.8844 - val_loss: 0.2649 - val_binary_accuracy: 0.8060\n",
            "Epoch 43/100\n",
            "3/3 [==============================] - 0s 21ms/step - loss: 0.1591 - binary_accuracy: 0.8844 - val_loss: 0.2640 - val_binary_accuracy: 0.8060\n",
            "Epoch 44/100\n",
            "3/3 [==============================] - 0s 21ms/step - loss: 0.1581 - binary_accuracy: 0.8844 - val_loss: 0.2634 - val_binary_accuracy: 0.8097\n",
            "Epoch 45/100\n",
            "3/3 [==============================] - 0s 22ms/step - loss: 0.1569 - binary_accuracy: 0.8860 - val_loss: 0.2621 - val_binary_accuracy: 0.8097\n",
            "Epoch 46/100\n",
            "3/3 [==============================] - 0s 26ms/step - loss: 0.1554 - binary_accuracy: 0.8892 - val_loss: 0.2609 - val_binary_accuracy: 0.8134\n",
            "Epoch 47/100\n",
            "3/3 [==============================] - 0s 29ms/step - loss: 0.1541 - binary_accuracy: 0.8892 - val_loss: 0.2602 - val_binary_accuracy: 0.8134\n",
            "Epoch 48/100\n",
            "3/3 [==============================] - 0s 21ms/step - loss: 0.1528 - binary_accuracy: 0.8892 - val_loss: 0.2600 - val_binary_accuracy: 0.8134\n",
            "Epoch 49/100\n",
            "3/3 [==============================] - 0s 21ms/step - loss: 0.1518 - binary_accuracy: 0.8876 - val_loss: 0.2588 - val_binary_accuracy: 0.8134\n",
            "Epoch 50/100\n",
            "3/3 [==============================] - 0s 33ms/step - loss: 0.1505 - binary_accuracy: 0.8892 - val_loss: 0.2584 - val_binary_accuracy: 0.8134\n",
            "Epoch 51/100\n",
            "3/3 [==============================] - 0s 21ms/step - loss: 0.1497 - binary_accuracy: 0.8892 - val_loss: 0.2582 - val_binary_accuracy: 0.8097\n",
            "Epoch 52/100\n",
            "3/3 [==============================] - 0s 28ms/step - loss: 0.1489 - binary_accuracy: 0.8892 - val_loss: 0.2578 - val_binary_accuracy: 0.8097\n",
            "Epoch 53/100\n",
            "3/3 [==============================] - 0s 20ms/step - loss: 0.1477 - binary_accuracy: 0.8892 - val_loss: 0.2575 - val_binary_accuracy: 0.8097\n",
            "Epoch 54/100\n",
            "3/3 [==============================] - 0s 20ms/step - loss: 0.1469 - binary_accuracy: 0.8892 - val_loss: 0.2574 - val_binary_accuracy: 0.8060\n",
            "Epoch 55/100\n",
            "3/3 [==============================] - 0s 28ms/step - loss: 0.1460 - binary_accuracy: 0.8892 - val_loss: 0.2562 - val_binary_accuracy: 0.8097\n",
            "Epoch 56/100\n",
            "3/3 [==============================] - 0s 20ms/step - loss: 0.1458 - binary_accuracy: 0.8892 - val_loss: 0.2551 - val_binary_accuracy: 0.8060\n",
            "Epoch 57/100\n",
            "3/3 [==============================] - 0s 25ms/step - loss: 0.1443 - binary_accuracy: 0.8892 - val_loss: 0.2547 - val_binary_accuracy: 0.8060\n",
            "Epoch 58/100\n",
            "3/3 [==============================] - 0s 35ms/step - loss: 0.1432 - binary_accuracy: 0.8909 - val_loss: 0.2542 - val_binary_accuracy: 0.8060\n",
            "Epoch 59/100\n",
            "3/3 [==============================] - 0s 24ms/step - loss: 0.1428 - binary_accuracy: 0.8892 - val_loss: 0.2537 - val_binary_accuracy: 0.8060\n",
            "Epoch 60/100\n",
            "3/3 [==============================] - 0s 26ms/step - loss: 0.1415 - binary_accuracy: 0.8892 - val_loss: 0.2532 - val_binary_accuracy: 0.8060\n",
            "Epoch 61/100\n",
            "3/3 [==============================] - 0s 33ms/step - loss: 0.1408 - binary_accuracy: 0.8892 - val_loss: 0.2525 - val_binary_accuracy: 0.8022\n",
            "Epoch 62/100\n",
            "3/3 [==============================] - 0s 29ms/step - loss: 0.1403 - binary_accuracy: 0.8892 - val_loss: 0.2527 - val_binary_accuracy: 0.8022\n",
            "Epoch 63/100\n",
            "3/3 [==============================] - 0s 24ms/step - loss: 0.1403 - binary_accuracy: 0.8892 - val_loss: 0.2525 - val_binary_accuracy: 0.8022\n",
            "Epoch 64/100\n",
            "3/3 [==============================] - 0s 29ms/step - loss: 0.1392 - binary_accuracy: 0.8892 - val_loss: 0.2520 - val_binary_accuracy: 0.8022\n",
            "Epoch 65/100\n",
            "3/3 [==============================] - 0s 33ms/step - loss: 0.1383 - binary_accuracy: 0.8892 - val_loss: 0.2519 - val_binary_accuracy: 0.8022\n",
            "Epoch 66/100\n",
            "3/3 [==============================] - 0s 31ms/step - loss: 0.1385 - binary_accuracy: 0.8892 - val_loss: 0.2515 - val_binary_accuracy: 0.8022\n",
            "Epoch 67/100\n",
            "3/3 [==============================] - 0s 26ms/step - loss: 0.1377 - binary_accuracy: 0.8892 - val_loss: 0.2502 - val_binary_accuracy: 0.8022\n",
            "Epoch 68/100\n",
            "3/3 [==============================] - 0s 25ms/step - loss: 0.1367 - binary_accuracy: 0.8892 - val_loss: 0.2495 - val_binary_accuracy: 0.8022\n",
            "Epoch 69/100\n",
            "3/3 [==============================] - 0s 33ms/step - loss: 0.1359 - binary_accuracy: 0.8892 - val_loss: 0.2491 - val_binary_accuracy: 0.8022\n",
            "Epoch 70/100\n",
            "3/3 [==============================] - 0s 35ms/step - loss: 0.1354 - binary_accuracy: 0.8892 - val_loss: 0.2488 - val_binary_accuracy: 0.8022\n",
            "Epoch 71/100\n",
            "3/3 [==============================] - 0s 32ms/step - loss: 0.1346 - binary_accuracy: 0.8892 - val_loss: 0.2484 - val_binary_accuracy: 0.8022\n",
            "Epoch 72/100\n",
            "3/3 [==============================] - 0s 24ms/step - loss: 0.1338 - binary_accuracy: 0.8892 - val_loss: 0.2488 - val_binary_accuracy: 0.8022\n",
            "Epoch 73/100\n",
            "3/3 [==============================] - 0s 33ms/step - loss: 0.1335 - binary_accuracy: 0.8892 - val_loss: 0.2495 - val_binary_accuracy: 0.8022\n",
            "Epoch 74/100\n",
            "3/3 [==============================] - 0s 28ms/step - loss: 0.1336 - binary_accuracy: 0.8892 - val_loss: 0.2489 - val_binary_accuracy: 0.8022\n",
            "Epoch 75/100\n",
            "3/3 [==============================] - 0s 35ms/step - loss: 0.1332 - binary_accuracy: 0.8892 - val_loss: 0.2487 - val_binary_accuracy: 0.8022\n",
            "Epoch 76/100\n",
            "3/3 [==============================] - 0s 33ms/step - loss: 0.1328 - binary_accuracy: 0.8892 - val_loss: 0.2490 - val_binary_accuracy: 0.8022\n",
            "Epoch 77/100\n",
            "3/3 [==============================] - 0s 25ms/step - loss: 0.1320 - binary_accuracy: 0.8892 - val_loss: 0.2484 - val_binary_accuracy: 0.8022\n",
            "Epoch 78/100\n",
            "3/3 [==============================] - 0s 34ms/step - loss: 0.1312 - binary_accuracy: 0.8892 - val_loss: 0.2479 - val_binary_accuracy: 0.8022\n",
            "Epoch 79/100\n",
            "3/3 [==============================] - 0s 31ms/step - loss: 0.1308 - binary_accuracy: 0.8892 - val_loss: 0.2477 - val_binary_accuracy: 0.8022\n",
            "Epoch 80/100\n",
            "3/3 [==============================] - 0s 35ms/step - loss: 0.1306 - binary_accuracy: 0.8892 - val_loss: 0.2484 - val_binary_accuracy: 0.8022\n",
            "Epoch 81/100\n",
            "3/3 [==============================] - 0s 32ms/step - loss: 0.1306 - binary_accuracy: 0.8892 - val_loss: 0.2485 - val_binary_accuracy: 0.8022\n",
            "Epoch 82/100\n",
            "3/3 [==============================] - 0s 31ms/step - loss: 0.1299 - binary_accuracy: 0.8892 - val_loss: 0.2474 - val_binary_accuracy: 0.8022\n",
            "Epoch 83/100\n",
            "3/3 [==============================] - 0s 31ms/step - loss: 0.1295 - binary_accuracy: 0.8909 - val_loss: 0.2472 - val_binary_accuracy: 0.8022\n",
            "Epoch 84/100\n",
            "3/3 [==============================] - 0s 29ms/step - loss: 0.1286 - binary_accuracy: 0.8909 - val_loss: 0.2468 - val_binary_accuracy: 0.8022\n",
            "Epoch 85/100\n",
            "3/3 [==============================] - 0s 20ms/step - loss: 0.1285 - binary_accuracy: 0.8909 - val_loss: 0.2473 - val_binary_accuracy: 0.8022\n",
            "Epoch 86/100\n",
            "3/3 [==============================] - 0s 29ms/step - loss: 0.1286 - binary_accuracy: 0.8892 - val_loss: 0.2469 - val_binary_accuracy: 0.8022\n",
            "Epoch 87/100\n",
            "3/3 [==============================] - 0s 27ms/step - loss: 0.1277 - binary_accuracy: 0.8892 - val_loss: 0.2472 - val_binary_accuracy: 0.8022\n",
            "Epoch 88/100\n",
            "3/3 [==============================] - 0s 19ms/step - loss: 0.1273 - binary_accuracy: 0.8909 - val_loss: 0.2467 - val_binary_accuracy: 0.8022\n",
            "Epoch 89/100\n",
            "3/3 [==============================] - 0s 26ms/step - loss: 0.1266 - binary_accuracy: 0.8892 - val_loss: 0.2469 - val_binary_accuracy: 0.8022\n",
            "Epoch 90/100\n",
            "3/3 [==============================] - 0s 19ms/step - loss: 0.1263 - binary_accuracy: 0.8892 - val_loss: 0.2472 - val_binary_accuracy: 0.8022\n",
            "Epoch 91/100\n",
            "3/3 [==============================] - 0s 19ms/step - loss: 0.1266 - binary_accuracy: 0.8892 - val_loss: 0.2468 - val_binary_accuracy: 0.8022\n",
            "Epoch 92/100\n",
            "3/3 [==============================] - 0s 20ms/step - loss: 0.1257 - binary_accuracy: 0.8892 - val_loss: 0.2465 - val_binary_accuracy: 0.8022\n",
            "Epoch 93/100\n",
            "3/3 [==============================] - 0s 28ms/step - loss: 0.1258 - binary_accuracy: 0.8892 - val_loss: 0.2461 - val_binary_accuracy: 0.8022\n",
            "Epoch 94/100\n",
            "3/3 [==============================] - 0s 28ms/step - loss: 0.1255 - binary_accuracy: 0.8892 - val_loss: 0.2462 - val_binary_accuracy: 0.8022\n",
            "Epoch 95/100\n",
            "3/3 [==============================] - 0s 28ms/step - loss: 0.1250 - binary_accuracy: 0.8892 - val_loss: 0.2464 - val_binary_accuracy: 0.8022\n",
            "Epoch 96/100\n",
            "3/3 [==============================] - 0s 28ms/step - loss: 0.1247 - binary_accuracy: 0.8892 - val_loss: 0.2466 - val_binary_accuracy: 0.8022\n",
            "Epoch 97/100\n",
            "3/3 [==============================] - 0s 19ms/step - loss: 0.1247 - binary_accuracy: 0.8909 - val_loss: 0.2481 - val_binary_accuracy: 0.8022\n",
            "Epoch 98/100\n",
            "3/3 [==============================] - 0s 27ms/step - loss: 0.1263 - binary_accuracy: 0.8909 - val_loss: 0.2467 - val_binary_accuracy: 0.8022\n",
            "Epoch 99/100\n",
            "3/3 [==============================] - 0s 30ms/step - loss: 0.1251 - binary_accuracy: 0.8909 - val_loss: 0.2453 - val_binary_accuracy: 0.8022\n",
            "Epoch 100/100\n",
            "3/3 [==============================] - 0s 33ms/step - loss: 0.1246 - binary_accuracy: 0.8909 - val_loss: 0.2449 - val_binary_accuracy: 0.8022\n"
          ]
        }
      ]
    },
    {
      "cell_type": "code",
      "source": [
        "# passar as 3 primeiras linhas\n",
        "# dos dados para fazer previsões\n",
        "model.predict(X_test)"
      ],
      "metadata": {
        "colab": {
          "base_uri": "https://localhost:8080/"
        },
        "id": "wE3mRTIc0zDi",
        "outputId": "b0a6c9ec-bf9c-4fd3-adff-9f63f28389ef"
      },
      "execution_count": null,
      "outputs": [
        {
          "output_type": "stream",
          "name": "stdout",
          "text": [
            "9/9 [==============================] - 0s 3ms/step\n"
          ]
        },
        {
          "output_type": "execute_result",
          "data": {
            "text/plain": [
              "array([[-5.68794832e-03],\n",
              "       [ 3.24973091e-03],\n",
              "       [ 1.97206467e-01],\n",
              "       [ 3.34176660e-01],\n",
              "       [ 7.51783967e-01],\n",
              "       [ 1.02111906e-01],\n",
              "       [ 1.33712932e-01],\n",
              "       [ 7.37841785e-01],\n",
              "       [ 3.87785509e-02],\n",
              "       [ 9.65787888e-01],\n",
              "       [-3.04937363e-03],\n",
              "       [ 1.00541699e+00],\n",
              "       [ 1.06996782e-02],\n",
              "       [ 9.16079044e-01],\n",
              "       [ 3.36967707e-02],\n",
              "       [-3.58735770e-03],\n",
              "       [ 2.61751562e-03],\n",
              "       [-2.37114727e-03],\n",
              "       [ 2.06623435e-01],\n",
              "       [ 3.82445455e-02],\n",
              "       [ 1.30899930e+00],\n",
              "       [ 9.35153782e-01],\n",
              "       [ 1.40804082e-01],\n",
              "       [ 8.71831417e-01],\n",
              "       [ 1.88012153e-01],\n",
              "       [ 1.72984600e-03],\n",
              "       [ 1.01164639e+00],\n",
              "       [ 8.32974911e-05],\n",
              "       [ 1.72984600e-03],\n",
              "       [ 2.82526344e-01],\n",
              "       [ 1.85757875e-03],\n",
              "       [ 9.28345323e-03],\n",
              "       [ 1.01231432e+00],\n",
              "       [ 2.62470514e-01],\n",
              "       [ 1.72984600e-03],\n",
              "       [ 4.60133642e-01],\n",
              "       [ 7.35523641e-01],\n",
              "       [ 1.04485489e-01],\n",
              "       [ 1.72984600e-03],\n",
              "       [ 7.35523641e-01],\n",
              "       [ 2.38675505e-01],\n",
              "       [ 4.94660109e-01],\n",
              "       [ 7.30569899e-01],\n",
              "       [ 2.33046338e-02],\n",
              "       [ 9.66238916e-01],\n",
              "       [ 7.13880956e-02],\n",
              "       [ 5.75366795e-01],\n",
              "       [ 1.11692119e+00],\n",
              "       [-3.04429978e-03],\n",
              "       [ 4.69250865e-02],\n",
              "       [ 1.52551323e-01],\n",
              "       [-2.93223262e-02],\n",
              "       [ 4.07065526e-02],\n",
              "       [ 8.96972895e-01],\n",
              "       [ 5.78633510e-02],\n",
              "       [ 8.96911979e-01],\n",
              "       [ 6.76059723e-01],\n",
              "       [ 3.17484975e-01],\n",
              "       [ 6.92205876e-03],\n",
              "       [ 2.98077703e-01],\n",
              "       [ 8.44704807e-01],\n",
              "       [ 6.00267053e-01],\n",
              "       [ 2.26162281e-02],\n",
              "       [ 1.03195421e-02],\n",
              "       [ 1.01160359e+00],\n",
              "       [ 2.93995887e-02],\n",
              "       [-2.97148496e-01],\n",
              "       [ 8.30188155e-01],\n",
              "       [ 1.12101980e-01],\n",
              "       [ 8.35047960e-01],\n",
              "       [ 9.89603698e-01],\n",
              "       [ 3.27105522e-02],\n",
              "       [ 2.71321774e-01],\n",
              "       [ 3.79648209e-02],\n",
              "       [-4.82501015e-02],\n",
              "       [ 2.02607304e-01],\n",
              "       [ 7.35519171e-01],\n",
              "       [ 1.00030351e+00],\n",
              "       [ 7.77011991e-01],\n",
              "       [-4.48260829e-03],\n",
              "       [ 6.70595348e-01],\n",
              "       [ 5.30667484e-01],\n",
              "       [ 1.02547407e+00],\n",
              "       [ 6.64699018e-01],\n",
              "       [ 1.07925880e+00],\n",
              "       [ 7.98688084e-02],\n",
              "       [ 2.88652703e-02],\n",
              "       [ 6.11625433e-01],\n",
              "       [ 1.55077130e-03],\n",
              "       [ 7.77442098e-01],\n",
              "       [-4.61524352e-02],\n",
              "       [-1.20640770e-02],\n",
              "       [ 8.25994194e-01],\n",
              "       [-2.33098269e-02],\n",
              "       [ 9.13222551e-01],\n",
              "       [ 1.93230063e-03],\n",
              "       [ 7.11080730e-01],\n",
              "       [ 9.20711458e-01],\n",
              "       [ 9.38164815e-03],\n",
              "       [-1.94419920e-03],\n",
              "       [ 2.52142921e-03],\n",
              "       [-5.76329231e-03],\n",
              "       [-2.12058797e-03],\n",
              "       [-1.59345567e-04],\n",
              "       [ 4.85515594e-03],\n",
              "       [-3.04324925e-03],\n",
              "       [ 7.16294348e-03],\n",
              "       [ 1.00166547e+00],\n",
              "       [ 1.21477671e-01],\n",
              "       [ 2.27178633e-02],\n",
              "       [ 2.47568905e-01],\n",
              "       [ 9.19260025e-01],\n",
              "       [ 2.00103223e-03],\n",
              "       [ 1.30843818e-02],\n",
              "       [-9.09399241e-04],\n",
              "       [ 7.35523641e-01],\n",
              "       [-1.65439919e-02],\n",
              "       [ 1.08347642e+00],\n",
              "       [ 2.38065794e-03],\n",
              "       [ 9.64061379e-01],\n",
              "       [ 7.15050474e-03],\n",
              "       [ 3.28726262e-01],\n",
              "       [ 3.02018970e-03],\n",
              "       [-4.87547368e-04],\n",
              "       [ 2.37602219e-02],\n",
              "       [ 2.00250745e-03],\n",
              "       [-3.01264226e-03],\n",
              "       [ 1.36304274e-01],\n",
              "       [ 6.66584969e-01],\n",
              "       [-4.82501015e-02],\n",
              "       [ 1.13816142e+00],\n",
              "       [ 1.39207506e+00],\n",
              "       [ 6.84974790e-01],\n",
              "       [ 6.66225553e-01],\n",
              "       [ 8.54888797e-01],\n",
              "       [ 8.22681785e-01],\n",
              "       [ 6.79087937e-01],\n",
              "       [ 1.79430097e-03],\n",
              "       [ 6.57116234e-01],\n",
              "       [ 2.46244147e-02],\n",
              "       [ 1.28076226e-03],\n",
              "       [ 8.23943377e-01],\n",
              "       [ 1.12730265e-02],\n",
              "       [ 6.27152026e-02],\n",
              "       [ 4.98365372e-01],\n",
              "       [ 1.16901374e+00],\n",
              "       [-1.85943022e-02],\n",
              "       [ 2.83083096e-02],\n",
              "       [ 1.59489363e-03],\n",
              "       [ 1.06402032e-01],\n",
              "       [ 4.84370813e-03],\n",
              "       [ 7.02868283e-01],\n",
              "       [ 3.19676474e-02],\n",
              "       [ 4.91882116e-03],\n",
              "       [ 8.98064673e-02],\n",
              "       [-5.89139014e-03],\n",
              "       [-9.50475857e-02],\n",
              "       [-9.09399241e-04],\n",
              "       [ 9.99959290e-01],\n",
              "       [ 4.27262522e-02],\n",
              "       [ 1.72984600e-03],\n",
              "       [ 1.22811027e-01],\n",
              "       [ 1.01208165e-02],\n",
              "       [ 3.05689394e-01],\n",
              "       [ 1.64761454e-01],\n",
              "       [ 1.14800669e-01],\n",
              "       [ 1.03389490e+00],\n",
              "       [ 3.48594040e-03],\n",
              "       [ 6.15507722e-01],\n",
              "       [-7.81222060e-03],\n",
              "       [ 7.35523641e-01],\n",
              "       [ 1.05445452e-01],\n",
              "       [ 2.38433257e-02],\n",
              "       [-3.28205898e-03],\n",
              "       [ 6.92205876e-03],\n",
              "       [-5.20124063e-02],\n",
              "       [ 1.72984600e-03],\n",
              "       [-2.53514946e-03],\n",
              "       [-5.93488663e-03],\n",
              "       [ 9.86747444e-03],\n",
              "       [ 1.03040802e+00],\n",
              "       [ 1.23279047e+00],\n",
              "       [-1.64479017e-04],\n",
              "       [-2.54156440e-03],\n",
              "       [-1.79631263e-02],\n",
              "       [-1.00850649e-02],\n",
              "       [ 1.71012431e-02],\n",
              "       [ 1.28722042e-01],\n",
              "       [ 1.45994127e-03],\n",
              "       [ 4.93025035e-03],\n",
              "       [ 1.72981620e-03],\n",
              "       [ 1.56633198e-01],\n",
              "       [-2.27977708e-02],\n",
              "       [ 1.12730265e-02],\n",
              "       [ 1.03892267e+00],\n",
              "       [ 3.88453156e-03],\n",
              "       [-2.88813189e-03],\n",
              "       [-7.77494535e-03],\n",
              "       [ 7.44228780e-01],\n",
              "       [ 1.16731502e-01],\n",
              "       [-2.95189098e-02],\n",
              "       [-1.36573613e-03],\n",
              "       [ 5.63594103e-01],\n",
              "       [-1.58920065e-02],\n",
              "       [ 1.33420736e-01],\n",
              "       [ 4.48998809e-03],\n",
              "       [ 9.35883462e-01],\n",
              "       [ 1.01496315e+00],\n",
              "       [ 2.84762323e-01],\n",
              "       [ 6.52379543e-03],\n",
              "       [ 6.30220711e-01],\n",
              "       [ 1.02098905e-01],\n",
              "       [ 1.02721190e+00],\n",
              "       [ 2.11226661e-02],\n",
              "       [ 3.60371202e-01],\n",
              "       [ 6.43704116e-01],\n",
              "       [ 1.00809908e+00],\n",
              "       [-1.26536265e-02],\n",
              "       [ 1.33757544e+00],\n",
              "       [ 8.97394598e-01],\n",
              "       [ 1.10498965e-02],\n",
              "       [ 1.85760111e-03],\n",
              "       [-2.58633122e-03],\n",
              "       [-5.89139387e-03],\n",
              "       [-6.20874763e-03],\n",
              "       [ 2.11226661e-02],\n",
              "       [ 1.99757159e-01],\n",
              "       [ 1.42048933e-02],\n",
              "       [-5.96628711e-03],\n",
              "       [ 3.16558778e-03],\n",
              "       [ 7.17330128e-02],\n",
              "       [ 2.50414342e-01],\n",
              "       [ 1.50212646e-03],\n",
              "       [ 2.31876727e-02],\n",
              "       [ 8.93840730e-01],\n",
              "       [ 2.26138234e-02],\n",
              "       [ 4.45363313e-01],\n",
              "       [ 1.92886949e-01],\n",
              "       [-2.77380273e-03],\n",
              "       [-5.18239290e-03],\n",
              "       [-8.64158198e-03],\n",
              "       [ 7.83586681e-01],\n",
              "       [-2.56999210e-03],\n",
              "       [ 4.81466204e-03],\n",
              "       [ 3.38540971e-03],\n",
              "       [ 1.69274211e-03],\n",
              "       [ 7.45544612e-01],\n",
              "       [ 1.06996782e-02],\n",
              "       [ 1.01966596e+00],\n",
              "       [ 1.66289002e-01],\n",
              "       [ 4.98365372e-01],\n",
              "       [ 9.00930539e-03],\n",
              "       [ 8.41302812e-01],\n",
              "       [ 1.72984600e-03],\n",
              "       [ 2.38729212e-02],\n",
              "       [ 1.71181299e-02],\n",
              "       [-1.57674029e-02],\n",
              "       [ 1.01389229e+00],\n",
              "       [-4.43564728e-03],\n",
              "       [ 1.72984600e-03],\n",
              "       [ 1.01171124e+00],\n",
              "       [-9.62605327e-03],\n",
              "       [ 1.97867230e-02],\n",
              "       [ 9.15660799e-01],\n",
              "       [ 2.91455314e-02],\n",
              "       [ 8.30103993e-01],\n",
              "       [ 2.37063840e-02],\n",
              "       [ 9.33917105e-01]], dtype=float32)"
            ]
          },
          "metadata": {},
          "execution_count": 75
        }
      ]
    },
    {
      "cell_type": "code",
      "source": [
        "loss_df = pd.DataFrame(losses.history)\n",
        "\n",
        "loss_df.loc[:,['binary_accuracy','val_binary_accuracy']].plot()"
      ],
      "metadata": {
        "colab": {
          "base_uri": "https://localhost:8080/",
          "height": 447
        },
        "id": "ZXb5bSmM032i",
        "outputId": "c1b1ee07-b47c-432b-cfc2-d93a9cf2ef6b"
      },
      "execution_count": null,
      "outputs": [
        {
          "output_type": "execute_result",
          "data": {
            "text/plain": [
              "<Axes: >"
            ]
          },
          "metadata": {},
          "execution_count": 76
        },
        {
          "output_type": "display_data",
          "data": {
            "text/plain": [
              "<Figure size 640x480 with 1 Axes>"
            ],
            "image/png": "[encoded data removed]"
          },
          "metadata": {}
        }
      ]
    },
    {
      "cell_type": "code",
      "source": [
        "print(\"KNN\\n\")\n",
        "print(g_results_knn.loc[grid_search_knn.best_index_,'mean_test_score'])\n",
        "print(grid_search_knn.best_estimator_.score(X_test, y_test))\n",
        "print(r_search_knn.best_estimator_.score(X_test, y_test))\n",
        "\n",
        "print(\"\\nNeural Network\\n\")\n",
        "print(g_results_rna.loc[grid_search_rna.best_index_,'mean_test_score'])\n",
        "print(grid_search_rna.best_estimator_.score(X_test, y_test))\n",
        "print(r_search_rna.best_estimator_.score(X_test, y_test))\n",
        "\n",
        "print(\"\\nRandom Forest\\n\")\n",
        "print(\"Hyperparameters with cabin:\\n\")\n",
        "print(grid_cabin)\n",
        "print(grid_best)\n",
        "print(best_est_score)\n",
        "\n",
        "print(\"\\nHyperparameters without cabin:\\n\")\n",
        "print(g_results_rf.loc[g_search.best_index_,'mean_test_score'])\n",
        "print(g_search.best_estimator_.score(X_test, y_test))\n",
        "print(r_search.best_estimator_.score(X_test, y_test))\n",
        "\n",
        "print(\"\\nDecision Tree\\n\")\n",
        "print(g_results_tree.loc[grid_search_tree.best_index_,'mean_test_score'])\n",
        "print(grid_search_tree.best_estimator_.score(X_test, y_test))\n",
        "print(r_search_tree.best_estimator_.score(X_test, y_test))\n"
      ],
      "metadata": {
        "id": "jiG5mLpc4oNW",
        "colab": {
          "base_uri": "https://localhost:8080/"
        },
        "outputId": "eb422c50-9a70-43c8-e586-73a280f23455"
      },
      "execution_count": 131,
      "outputs": [
        {
          "output_type": "stream",
          "name": "stdout",
          "text": [
            "KNN\n",
            "\n",
            "0.8019822282980178\n",
            "0.7910447761194029\n",
            "0.7611940298507462\n",
            "\n",
            "Neural Network\n",
            "\n",
            "0.8150205058099795\n",
            "0.7985074626865671\n",
            "0.7798507462686567\n",
            "\n",
            "Random Forest\n",
            "\n",
            "Hyperparameters with cabin:\n",
            "\n",
            "0.82946001367054\n",
            "0.7910447761194029\n",
            "0.8059701492537313\n",
            "\n",
            "Hyperparameters without cabin:\n",
            "\n",
            "0.8428571428571429\n",
            "0.3805970149253731\n",
            "0.39552238805970147\n",
            "\n",
            "Decision Tree\n",
            "\n",
            "0.7191216678058783\n",
            "0.667910447761194\n",
            "0.6268656716417911\n"
          ]
        }
      ]
    }
  ],
  "metadata": {
    "colab": {
      "provenance": []
    },
    "kernelspec": {
      "display_name": "IA",
      "language": "python",
      "name": "ia"
    },
    "language_info": {
      "codemirror_mode": {
        "name": "ipython",
        "version": 3
      },
      "file_extension": ".py",
      "mimetype": "text/x-python",
      "name": "python",
      "nbconvert_exporter": "python",
      "pygments_lexer": "ipython3",
      "version": "3.10.4"
    },
    "papermill": {
      "default_parameters": {},
      "duration": 75.527883,
      "end_time": "2021-02-15T11:44:10.398430",
      "environment_variables": {},
      "exception": null,
      "input_path": "__notebook__.ipynb",
      "output_path": "__notebook__.ipynb",
      "parameters": {},
      "start_time": "2021-02-15T11:42:54.870547",
      "version": "2.2.2"
    }
  },
  "nbformat": 4,
  "nbformat_minor": 0
}